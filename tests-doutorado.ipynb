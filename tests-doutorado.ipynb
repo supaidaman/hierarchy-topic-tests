{
 "cells": [
  {
   "cell_type": "code",
   "execution_count": 31,
   "metadata": {},
   "outputs": [],
   "source": [
    "import pandas as pd \n",
    "import numpy as np\n",
    "from bertopic import BERTopic\n",
    "\n",
    "#load data \n",
    "import pandas as pd \n",
    " \n",
    "df = pd.read_csv(\"./tokyo_2020_tweets.csv\", engine='python')\n",
    " \n",
    "# select only 6000 tweets \n",
    "df = df[0:6000]\n"
   ]
  },
  {
   "cell_type": "code",
   "execution_count": 32,
   "metadata": {},
   "outputs": [],
   "source": [
    "import pandas as pd \n",
    "import numpy as np\n",
    "from bertopic import BERTopic\n",
    "\n",
    "#load data \n",
    "import pandas as pd \n",
    " \n",
    "df = pd.read_csv(\"./data.csv\", engine='python',sep='^')\n",
    "#df = df.astype(str)\n",
    "docs= []\n",
    "valueList = df.values.tolist()\n",
    "for value in valueList:\n",
    "    docs.append(value[0])\n",
    "\n",
    "#print(docs)\n",
    "#df['nova_descricao'] = df['nova_descricao'].str.replace('[,.:;!?]+', ' ', regex=True).copy()\n",
    "#df['nova_descricao'] = df['nova_descricao'].str.replace ('[/<>()|\\+\\-\\$%&#@\\'\\\"]+', ' ', regex=True).copy()\n",
    "#df['nova_descricao'] = df['nova_descricao'].str.replace('[0-9]+', '', regex=True).copy()\n"
   ]
  },
  {
   "cell_type": "code",
   "execution_count": 33,
   "metadata": {},
   "outputs": [
    {
     "name": "stderr",
     "output_type": "stream",
     "text": [
      "Batches: 100%|██████████| 79/79 [01:13<00:00,  1.08it/s]\n",
      "2023-02-11 20:31:20,096 - BERTopic - Transformed documents to Embeddings\n",
      "2023-02-11 20:31:27,927 - BERTopic - Reduced dimensionality\n",
      "2023-02-11 20:31:28,397 - BERTopic - Clustered reduced embeddings\n"
     ]
    }
   ],
   "source": [
    "# create model \n",
    " \n",
    "from sklearn.feature_extraction.text import CountVectorizer\n",
    "from nltk.corpus import stopwords \n",
    "pt_stopwords = stopwords.words('portuguese')\n",
    "# Criamos um objeto do tipo lista com todas as nossas stop words\n",
    "stop_words = ['em','sao','ao','de','da','do','para','c','kg','un',\n",
    "              'ml','pct','und','das','no','ou','pc','gr','pt','cm',\n",
    "              'vd','com','sem','gfa','jg','la','1','2','3','4','5',\n",
    "              '6','7','8','9','0','a','b','c','d','e','lt','f','g',\n",
    "              'h','i','j','k','l','m','n','o','p','q','r','s','t',\n",
    "              'u','v','x','w','y','z']\n",
    "\n",
    "\n",
    "# we add this to remove stopwords\n",
    "vectorizer_model = CountVectorizer(strip_accents='ascii',ngram_range=(1, 2), stop_words=pt_stopwords)\n",
    "\n",
    "model = BERTopic(\n",
    "    vectorizer_model=vectorizer_model,\n",
    "    language='portuguese', calculate_probabilities=True,\n",
    "    verbose=True\n",
    ")\n",
    "\n",
    "#convert to list \n",
    "#docs = df.values.tolist()\n",
    " \n",
    "topics, probabilities = model.fit_transform(docs)\n"
   ]
  },
  {
   "cell_type": "code",
   "execution_count": 34,
   "metadata": {},
   "outputs": [
    {
     "data": {
      "text/html": [
       "<div>\n",
       "<style scoped>\n",
       "    .dataframe tbody tr th:only-of-type {\n",
       "        vertical-align: middle;\n",
       "    }\n",
       "\n",
       "    .dataframe tbody tr th {\n",
       "        vertical-align: top;\n",
       "    }\n",
       "\n",
       "    .dataframe thead th {\n",
       "        text-align: right;\n",
       "    }\n",
       "</style>\n",
       "<table border=\"1\" class=\"dataframe\">\n",
       "  <thead>\n",
       "    <tr style=\"text-align: right;\">\n",
       "      <th></th>\n",
       "      <th>Topic</th>\n",
       "      <th>Count</th>\n",
       "    </tr>\n",
       "  </thead>\n",
       "  <tbody>\n",
       "    <tr>\n",
       "      <th>0</th>\n",
       "      <td>-1</td>\n",
       "      <td>882</td>\n",
       "    </tr>\n",
       "    <tr>\n",
       "      <th>1</th>\n",
       "      <td>0</td>\n",
       "      <td>112</td>\n",
       "    </tr>\n",
       "    <tr>\n",
       "      <th>2</th>\n",
       "      <td>1</td>\n",
       "      <td>75</td>\n",
       "    </tr>\n",
       "    <tr>\n",
       "      <th>3</th>\n",
       "      <td>2</td>\n",
       "      <td>72</td>\n",
       "    </tr>\n",
       "    <tr>\n",
       "      <th>4</th>\n",
       "      <td>3</td>\n",
       "      <td>51</td>\n",
       "    </tr>\n",
       "    <tr>\n",
       "      <th>5</th>\n",
       "      <td>4</td>\n",
       "      <td>43</td>\n",
       "    </tr>\n",
       "    <tr>\n",
       "      <th>6</th>\n",
       "      <td>5</td>\n",
       "      <td>42</td>\n",
       "    </tr>\n",
       "    <tr>\n",
       "      <th>7</th>\n",
       "      <td>6</td>\n",
       "      <td>41</td>\n",
       "    </tr>\n",
       "    <tr>\n",
       "      <th>8</th>\n",
       "      <td>7</td>\n",
       "      <td>41</td>\n",
       "    </tr>\n",
       "    <tr>\n",
       "      <th>9</th>\n",
       "      <td>8</td>\n",
       "      <td>40</td>\n",
       "    </tr>\n",
       "    <tr>\n",
       "      <th>10</th>\n",
       "      <td>9</td>\n",
       "      <td>39</td>\n",
       "    </tr>\n",
       "  </tbody>\n",
       "</table>\n",
       "</div>"
      ],
      "text/plain": [
       "    Topic  Count\n",
       "0      -1    882\n",
       "1       0    112\n",
       "2       1     75\n",
       "3       2     72\n",
       "4       3     51\n",
       "5       4     43\n",
       "6       5     42\n",
       "7       6     41\n",
       "8       7     41\n",
       "9       8     40\n",
       "10      9     39"
      ]
     },
     "execution_count": 34,
     "metadata": {},
     "output_type": "execute_result"
    }
   ],
   "source": [
    "model.get_topic_freq().head(11)"
   ]
  },
  {
   "cell_type": "code",
   "execution_count": 35,
   "metadata": {},
   "outputs": [
    {
     "data": {
      "text/plain": [
       "[('rural', 0.04209081621613073),\n",
       " ('propriedade', 0.03911132273345013),\n",
       " ('agraria', 0.03845169012017282),\n",
       " ('urbano', 0.03588253831965925),\n",
       " ('reforma agraria', 0.03505444470330761),\n",
       " ('imovel', 0.03431427153911969),\n",
       " ('reforma', 0.03364522885515121),\n",
       " ('urbana', 0.025630384514042318),\n",
       " ('proprietario', 0.02503888907379115),\n",
       " ('rurais', 0.02403230632510801)]"
      ]
     },
     "execution_count": 35,
     "metadata": {},
     "output_type": "execute_result"
    }
   ],
   "source": [
    "model.get_topic(6)"
   ]
  },
  {
   "cell_type": "code",
   "execution_count": 36,
   "metadata": {},
   "outputs": [
    {
     "data": {
      "application/vnd.plotly.v1+json": {
       "config": {
        "plotlyServerURL": "https://plot.ly"
       },
       "data": [
        {
         "customdata": [
          [
           0,
           "1988 | br | span | constituicao | 1988 10",
           112
          ],
          [
           1,
           "ministerio publico | ministerio | organizacao | publico | defensoria publica",
           75
          ],
          [
           2,
           "congresso nacional | congresso | dias | nacional | prazo",
           72
          ],
          [
           3,
           "tribunal | juizes | tribunal justica | justica | superior",
           51
          ],
          [
           4,
           "brasileira | brasileiros | brasileiro | brasil | federativa brasil",
           43
          ],
          [
           5,
           "contribuicao | aposentadoria | previdencia social | previdencia | tempo",
           42
          ],
          [
           6,
           "rural | propriedade | agraria | urbano | reforma agraria",
           41
          ],
          [
           7,
           "ensino | educacao | ensino fundamental | fundamental | atendimento",
           41
          ],
          [
           8,
           "militares | militar | forcas armadas | armadas | forcas",
           40
          ],
          [
           9,
           "cargo | emprego | trabalho | emprego funcao | aumento",
           39
          ],
          [
           10,
           "estados | distrito | distrito federal | estados distrito | municipios",
           38
          ],
          [
           11,
           "presidente | senado federal | senado | camara deputados | presidente republica",
           38
          ],
          [
           12,
           "tribunal | dois | membros | dois tercos | tercos",
           36
          ],
          [
           13,
           "nao | despesa | receita | nao podera | podera",
           36
          ],
          [
           14,
           "ninguem | ninguem sera | sera | lei | nao",
           35
          ],
          [
           15,
           "justica | tribunais | regionais | juizes | tribunais regionais",
           33
          ],
          [
           16,
           "000 | habitantes | mil habitantes | mil | vereadores municipios",
           32
          ],
          [
           17,
           "meio ambiente | ambiente | minerais | meio | recursos",
           31
          ],
          [
           18,
           "cultura | culturais | nacional cultura | producao | sistemas",
           29
          ],
          [
           19,
           "desde | resolucoes | sera reavaliada | juntas comerciais | complementar sera",
           27
          ],
          [
           20,
           "imposto | contribuinte | impostos | tributaria | sobre",
           26
          ],
          [
           21,
           "orcamentarias | diretrizes orcamentarias | diretrizes | orcamentaria | plano plurianual",
           26
          ],
          [
           22,
           "defesa | estado defesa | estado | defesa nacional | nacional",
           26
          ],
          [
           23,
           "1988 | span | br | xmlns lx | lx http",
           25
          ],
          [
           24,
           "transporte | ilhas | fluviais | transportes | dominio",
           24
          ],
          [
           25,
           "produtos | exterior | industrializados | produtos industrializados | sobre",
           24
          ],
          [
           26,
           "caput | deste artigo | artigo | caput deste | deste",
           23
          ],
          [
           27,
           "preso | transitada julgado | transitada | julgado | sentenca",
           23
          ],
          [
           28,
           "geral | procurador | procurador geral | republica | geral republica",
           22
          ],
          [
           29,
           "deficiencia | protecao | atendimento | adolescente | especializado",
           22
          ],
          [
           30,
           "cento | subsidio | mil | habitantes subsidio | subsidio maximo",
           22
          ],
          [
           31,
           "policia | policias | militares | bombeiros | ferroviaria",
           21
          ],
          [
           32,
           "direitos | politicos | cidadania | individuais | cidadania direitos",
           21
          ],
          [
           33,
           "divida | servico divida | debitos | obrigacoes | parcelas",
           21
          ],
          [
           34,
           "sindical | sindicatos | associacao | categoria | uniao",
           20
          ],
          [
           35,
           "cargo | publico | provas | comissao | regime",
           20
          ],
          [
           36,
           "credito | financeiras | instituicoes | banco central | banco",
           19
          ],
          [
           37,
           "voto | secreto | voto secreto | eleitoral | votos",
           19
          ],
          [
           38,
           "dentre brasileiros | ordem advogados | advogados brasil | advogados | brasil",
           18
          ],
          [
           39,
           "br | span | 1988 | lx | xmlns lx",
           18
          ],
          [
           40,
           "167 | desta span | 167 167 | desta | art 167",
           16
          ],
          [
           41,
           "salario | remuneracao | desemprego | salarios | minimo",
           16
          ],
          [
           42,
           "partido | partidario | fundo partidario | radio televisao | fundo",
           15
          ],
          [
           43,
           "social | seguridade | seguridade social | assistencia social | assistencia",
           15
          ],
          [
           44,
           "sociais | pessoal encargos | contribuicoes | contribuicoes sociais | encargos",
           15
          ],
          [
           45,
           "petroleo | derivados | combustiveis | gas | gas natural",
           14
          ],
          [
           46,
           "desenvolvimento | planos | planos nacionais | nacionais regionais | regionais",
           14
          ],
          [
           47,
           "inovacao | tecnologia | pesquisa | desenvolvimento cientifico | tecnologica",
           14
          ],
          [
           48,
           "inconstitucionalidade | lei federal | providencias necessarias | lei | face",
           14
          ],
          [
           49,
           "habeas | corpus | habeas corpus | habeas data | mandado",
           14
          ],
          [
           50,
           "anos | anos idade | homem | mulher | idade",
           14
          ],
          [
           51,
           "sobre lei | lei | dispora sobre | dispora | hipoteses",
           13
          ],
          [
           52,
           "saude | sistema unico | unico saude | unico | agentes",
           13
          ],
          [
           53,
           "nucleares | danos | civil danos | atividades nucleares | material moral",
           13
          ],
          [
           54,
           "impostos | distrito federal | distrito | municipios | arrecadacao impostos",
           13
          ],
          [
           55,
           "politicas | descentralizacao | participacao | gestao | esfera",
           12
          ],
          [
           56,
           "complementar cabe | cabe lei | lei complementar | complementar | cabe",
           12
          ],
          [
           57,
           "radiodifusao | imagens | radio | televisao | emissoras",
           12
          ],
          [
           58,
           "profissionais | aperfeicoamento | cursos | ingresso | cursos oficiais",
           11
          ],
          [
           59,
           "creditos | financeiro | exercicio financeiro | despesas | exercicio",
           10
          ],
          [
           60,
           "dados | pessoais | dados pessoais | protecao | tratamento dados",
           10
          ],
          [
           61,
           "eleicao | prefeito | governador | mandato | vice",
           10
          ],
          [
           62,
           "causas | internacional | organismo | estrangeiro organismo | organismo internacional",
           10
          ]
         ],
         "hovertemplate": "<b>Topic %{customdata[0]}</b><br>Words: %{customdata[1]}<br>Size: %{customdata[2]}",
         "legendgroup": "",
         "marker": {
          "color": "#B0BEC5",
          "line": {
           "color": "DarkSlateGrey",
           "width": 2
          },
          "size": [
           112,
           75,
           72,
           51,
           43,
           42,
           41,
           41,
           40,
           39,
           38,
           38,
           36,
           36,
           35,
           33,
           32,
           31,
           29,
           27,
           26,
           26,
           26,
           25,
           24,
           24,
           23,
           23,
           22,
           22,
           22,
           21,
           21,
           21,
           20,
           20,
           19,
           19,
           18,
           18,
           16,
           16,
           15,
           15,
           15,
           14,
           14,
           14,
           14,
           14,
           14,
           13,
           13,
           13,
           13,
           12,
           12,
           12,
           11,
           10,
           10,
           10,
           10
          ],
          "sizemode": "area",
          "sizeref": 0.07,
          "symbol": "circle"
         },
         "mode": "markers",
         "name": "",
         "orientation": "v",
         "showlegend": false,
         "type": "scatter",
         "x": [
          10.91439151763916,
          2.9091620445251465,
          3.7406413555145264,
          3.14780330657959,
          11.559067726135254,
          0.08453097939491272,
          10.395721435546875,
          19.17696762084961,
          -2.8340492248535156,
          -0.34797126054763794,
          9.69447135925293,
          3.661590576171875,
          -10.895092010498047,
          22.233585357666016,
          -3.5657031536102295,
          2.993927001953125,
          10.283126831054688,
          8.169434547424316,
          19.03970718383789,
          10.745656967163086,
          10.032790184020996,
          22.140060424804688,
          9.360299110412598,
          10.432623863220215,
          6.227733612060547,
          6.267705917358398,
          10.686382293701172,
          -3.565680503845215,
          3.244429588317871,
          19.25564956665039,
          10.39228630065918,
          -2.834052801132202,
          8.140256881713867,
          11.312750816345215,
          -0.4044927656650543,
          -0.010739991441369057,
          9.434764862060547,
          11.403654098510742,
          2.965989828109741,
          10.878146171569824,
          11.385354042053223,
          11.457283020019531,
          -0.3648170232772827,
          10.111598014831543,
          10.738519668579102,
          11.439730644226074,
          18.781570434570312,
          18.850440979003906,
          -10.80915355682373,
          -10.893453598022461,
          2.8741159439086914,
          -4.665903091430664,
          9.866983413696289,
          7.9369940757751465,
          10.146650314331055,
          9.98583698272705,
          -4.509174823760986,
          7.977082252502441,
          9.815853118896484,
          22.10630989074707,
          -4.496387481689453,
          11.274202346801758,
          10.03937816619873
         ],
         "xaxis": "x",
         "y": [
          19.358760833740234,
          4.279949188232422,
          5.0412397384643555,
          4.538853168487549,
          1.3484556674957275,
          16.93681526184082,
          18.841564178466797,
          -8.108589172363281,
          9.707281112670898,
          16.816930770874023,
          18.1920166015625,
          4.974884510040283,
          17.80509376525879,
          -0.4581694006919861,
          -0.8325248956680298,
          4.353980541229248,
          0.633220911026001,
          -9.271456718444824,
          -7.941528797149658,
          1.0079665184020996,
          18.377405166625977,
          -0.5516179800033569,
          17.983158111572266,
          18.837665557861328,
          -5.895524024963379,
          -5.935886859893799,
          0.8618427515029907,
          -0.8324942588806152,
          4.762748718261719,
          -8.19809627532959,
          0.7135785222053528,
          9.707291603088379,
          -9.299520492553711,
          1.572342872619629,
          16.932212829589844,
          16.92455291748047,
          18.027233123779297,
          19.274553298950195,
          5.128868103027344,
          19.260229110717773,
          1.3356159925460815,
          1.903393268585205,
          16.865697860717773,
          11.115652084350586,
          0.982556939125061,
          1.5346969366073608,
          -7.762712001800537,
          -7.730765342712402,
          17.717790603637695,
          17.801774978637695,
          5.226034641265869,
          -7.044748783111572,
          10.870685577392578,
          -9.503897666931152,
          18.526107788085938,
          10.98952579498291,
          -6.888204574584961,
          -9.464483261108398,
          10.819869995117188,
          -0.5853291749954224,
          -6.875429153442383,
          19.273229598999023,
          11.0432767868042
         ],
         "yaxis": "y"
        }
       ],
       "layout": {
        "annotations": [
         {
          "showarrow": false,
          "text": "D1",
          "x": -12.529355812072755,
          "y": 5.666546320915223,
          "yshift": 10
         },
         {
          "showarrow": false,
          "text": "D2",
          "x": 6.519633674621582,
          "xshift": 10,
          "y": 22.26257495880127
         }
        ],
        "height": 650,
        "hoverlabel": {
         "bgcolor": "white",
         "font": {
          "family": "Rockwell",
          "size": 16
         }
        },
        "legend": {
         "itemsizing": "constant",
         "tracegroupgap": 0
        },
        "margin": {
         "t": 60
        },
        "shapes": [
         {
          "line": {
           "color": "#CFD8DC",
           "width": 2
          },
          "type": "line",
          "x0": 6.519633674621582,
          "x1": 6.519633674621582,
          "y0": -10.929482316970825,
          "y1": 22.26257495880127
         },
         {
          "line": {
           "color": "#9E9E9E",
           "width": 2
          },
          "type": "line",
          "x0": -12.529355812072755,
          "x1": 25.56862316131592,
          "y0": 5.666546320915223,
          "y1": 5.666546320915223
         }
        ],
        "sliders": [
         {
          "active": 0,
          "pad": {
           "t": 50
          },
          "steps": [
           {
            "args": [
             {
              "marker.color": [
               [
                "red",
                "#B0BEC5",
                "#B0BEC5",
                "#B0BEC5",
                "#B0BEC5",
                "#B0BEC5",
                "#B0BEC5",
                "#B0BEC5",
                "#B0BEC5",
                "#B0BEC5",
                "#B0BEC5",
                "#B0BEC5",
                "#B0BEC5",
                "#B0BEC5",
                "#B0BEC5",
                "#B0BEC5",
                "#B0BEC5",
                "#B0BEC5",
                "#B0BEC5",
                "#B0BEC5",
                "#B0BEC5",
                "#B0BEC5",
                "#B0BEC5",
                "#B0BEC5",
                "#B0BEC5",
                "#B0BEC5",
                "#B0BEC5",
                "#B0BEC5",
                "#B0BEC5",
                "#B0BEC5",
                "#B0BEC5",
                "#B0BEC5",
                "#B0BEC5",
                "#B0BEC5",
                "#B0BEC5",
                "#B0BEC5",
                "#B0BEC5",
                "#B0BEC5",
                "#B0BEC5",
                "#B0BEC5",
                "#B0BEC5",
                "#B0BEC5",
                "#B0BEC5",
                "#B0BEC5",
                "#B0BEC5",
                "#B0BEC5",
                "#B0BEC5",
                "#B0BEC5",
                "#B0BEC5",
                "#B0BEC5",
                "#B0BEC5",
                "#B0BEC5",
                "#B0BEC5",
                "#B0BEC5",
                "#B0BEC5",
                "#B0BEC5",
                "#B0BEC5",
                "#B0BEC5",
                "#B0BEC5",
                "#B0BEC5",
                "#B0BEC5",
                "#B0BEC5",
                "#B0BEC5"
               ]
              ]
             }
            ],
            "label": "Topic 0",
            "method": "update"
           },
           {
            "args": [
             {
              "marker.color": [
               [
                "#B0BEC5",
                "red",
                "#B0BEC5",
                "#B0BEC5",
                "#B0BEC5",
                "#B0BEC5",
                "#B0BEC5",
                "#B0BEC5",
                "#B0BEC5",
                "#B0BEC5",
                "#B0BEC5",
                "#B0BEC5",
                "#B0BEC5",
                "#B0BEC5",
                "#B0BEC5",
                "#B0BEC5",
                "#B0BEC5",
                "#B0BEC5",
                "#B0BEC5",
                "#B0BEC5",
                "#B0BEC5",
                "#B0BEC5",
                "#B0BEC5",
                "#B0BEC5",
                "#B0BEC5",
                "#B0BEC5",
                "#B0BEC5",
                "#B0BEC5",
                "#B0BEC5",
                "#B0BEC5",
                "#B0BEC5",
                "#B0BEC5",
                "#B0BEC5",
                "#B0BEC5",
                "#B0BEC5",
                "#B0BEC5",
                "#B0BEC5",
                "#B0BEC5",
                "#B0BEC5",
                "#B0BEC5",
                "#B0BEC5",
                "#B0BEC5",
                "#B0BEC5",
                "#B0BEC5",
                "#B0BEC5",
                "#B0BEC5",
                "#B0BEC5",
                "#B0BEC5",
                "#B0BEC5",
                "#B0BEC5",
                "#B0BEC5",
                "#B0BEC5",
                "#B0BEC5",
                "#B0BEC5",
                "#B0BEC5",
                "#B0BEC5",
                "#B0BEC5",
                "#B0BEC5",
                "#B0BEC5",
                "#B0BEC5",
                "#B0BEC5",
                "#B0BEC5",
                "#B0BEC5"
               ]
              ]
             }
            ],
            "label": "Topic 1",
            "method": "update"
           },
           {
            "args": [
             {
              "marker.color": [
               [
                "#B0BEC5",
                "#B0BEC5",
                "red",
                "#B0BEC5",
                "#B0BEC5",
                "#B0BEC5",
                "#B0BEC5",
                "#B0BEC5",
                "#B0BEC5",
                "#B0BEC5",
                "#B0BEC5",
                "#B0BEC5",
                "#B0BEC5",
                "#B0BEC5",
                "#B0BEC5",
                "#B0BEC5",
                "#B0BEC5",
                "#B0BEC5",
                "#B0BEC5",
                "#B0BEC5",
                "#B0BEC5",
                "#B0BEC5",
                "#B0BEC5",
                "#B0BEC5",
                "#B0BEC5",
                "#B0BEC5",
                "#B0BEC5",
                "#B0BEC5",
                "#B0BEC5",
                "#B0BEC5",
                "#B0BEC5",
                "#B0BEC5",
                "#B0BEC5",
                "#B0BEC5",
                "#B0BEC5",
                "#B0BEC5",
                "#B0BEC5",
                "#B0BEC5",
                "#B0BEC5",
                "#B0BEC5",
                "#B0BEC5",
                "#B0BEC5",
                "#B0BEC5",
                "#B0BEC5",
                "#B0BEC5",
                "#B0BEC5",
                "#B0BEC5",
                "#B0BEC5",
                "#B0BEC5",
                "#B0BEC5",
                "#B0BEC5",
                "#B0BEC5",
                "#B0BEC5",
                "#B0BEC5",
                "#B0BEC5",
                "#B0BEC5",
                "#B0BEC5",
                "#B0BEC5",
                "#B0BEC5",
                "#B0BEC5",
                "#B0BEC5",
                "#B0BEC5",
                "#B0BEC5"
               ]
              ]
             }
            ],
            "label": "Topic 2",
            "method": "update"
           },
           {
            "args": [
             {
              "marker.color": [
               [
                "#B0BEC5",
                "#B0BEC5",
                "#B0BEC5",
                "red",
                "#B0BEC5",
                "#B0BEC5",
                "#B0BEC5",
                "#B0BEC5",
                "#B0BEC5",
                "#B0BEC5",
                "#B0BEC5",
                "#B0BEC5",
                "#B0BEC5",
                "#B0BEC5",
                "#B0BEC5",
                "#B0BEC5",
                "#B0BEC5",
                "#B0BEC5",
                "#B0BEC5",
                "#B0BEC5",
                "#B0BEC5",
                "#B0BEC5",
                "#B0BEC5",
                "#B0BEC5",
                "#B0BEC5",
                "#B0BEC5",
                "#B0BEC5",
                "#B0BEC5",
                "#B0BEC5",
                "#B0BEC5",
                "#B0BEC5",
                "#B0BEC5",
                "#B0BEC5",
                "#B0BEC5",
                "#B0BEC5",
                "#B0BEC5",
                "#B0BEC5",
                "#B0BEC5",
                "#B0BEC5",
                "#B0BEC5",
                "#B0BEC5",
                "#B0BEC5",
                "#B0BEC5",
                "#B0BEC5",
                "#B0BEC5",
                "#B0BEC5",
                "#B0BEC5",
                "#B0BEC5",
                "#B0BEC5",
                "#B0BEC5",
                "#B0BEC5",
                "#B0BEC5",
                "#B0BEC5",
                "#B0BEC5",
                "#B0BEC5",
                "#B0BEC5",
                "#B0BEC5",
                "#B0BEC5",
                "#B0BEC5",
                "#B0BEC5",
                "#B0BEC5",
                "#B0BEC5",
                "#B0BEC5"
               ]
              ]
             }
            ],
            "label": "Topic 3",
            "method": "update"
           },
           {
            "args": [
             {
              "marker.color": [
               [
                "#B0BEC5",
                "#B0BEC5",
                "#B0BEC5",
                "#B0BEC5",
                "red",
                "#B0BEC5",
                "#B0BEC5",
                "#B0BEC5",
                "#B0BEC5",
                "#B0BEC5",
                "#B0BEC5",
                "#B0BEC5",
                "#B0BEC5",
                "#B0BEC5",
                "#B0BEC5",
                "#B0BEC5",
                "#B0BEC5",
                "#B0BEC5",
                "#B0BEC5",
                "#B0BEC5",
                "#B0BEC5",
                "#B0BEC5",
                "#B0BEC5",
                "#B0BEC5",
                "#B0BEC5",
                "#B0BEC5",
                "#B0BEC5",
                "#B0BEC5",
                "#B0BEC5",
                "#B0BEC5",
                "#B0BEC5",
                "#B0BEC5",
                "#B0BEC5",
                "#B0BEC5",
                "#B0BEC5",
                "#B0BEC5",
                "#B0BEC5",
                "#B0BEC5",
                "#B0BEC5",
                "#B0BEC5",
                "#B0BEC5",
                "#B0BEC5",
                "#B0BEC5",
                "#B0BEC5",
                "#B0BEC5",
                "#B0BEC5",
                "#B0BEC5",
                "#B0BEC5",
                "#B0BEC5",
                "#B0BEC5",
                "#B0BEC5",
                "#B0BEC5",
                "#B0BEC5",
                "#B0BEC5",
                "#B0BEC5",
                "#B0BEC5",
                "#B0BEC5",
                "#B0BEC5",
                "#B0BEC5",
                "#B0BEC5",
                "#B0BEC5",
                "#B0BEC5",
                "#B0BEC5"
               ]
              ]
             }
            ],
            "label": "Topic 4",
            "method": "update"
           },
           {
            "args": [
             {
              "marker.color": [
               [
                "#B0BEC5",
                "#B0BEC5",
                "#B0BEC5",
                "#B0BEC5",
                "#B0BEC5",
                "red",
                "#B0BEC5",
                "#B0BEC5",
                "#B0BEC5",
                "#B0BEC5",
                "#B0BEC5",
                "#B0BEC5",
                "#B0BEC5",
                "#B0BEC5",
                "#B0BEC5",
                "#B0BEC5",
                "#B0BEC5",
                "#B0BEC5",
                "#B0BEC5",
                "#B0BEC5",
                "#B0BEC5",
                "#B0BEC5",
                "#B0BEC5",
                "#B0BEC5",
                "#B0BEC5",
                "#B0BEC5",
                "#B0BEC5",
                "#B0BEC5",
                "#B0BEC5",
                "#B0BEC5",
                "#B0BEC5",
                "#B0BEC5",
                "#B0BEC5",
                "#B0BEC5",
                "#B0BEC5",
                "#B0BEC5",
                "#B0BEC5",
                "#B0BEC5",
                "#B0BEC5",
                "#B0BEC5",
                "#B0BEC5",
                "#B0BEC5",
                "#B0BEC5",
                "#B0BEC5",
                "#B0BEC5",
                "#B0BEC5",
                "#B0BEC5",
                "#B0BEC5",
                "#B0BEC5",
                "#B0BEC5",
                "#B0BEC5",
                "#B0BEC5",
                "#B0BEC5",
                "#B0BEC5",
                "#B0BEC5",
                "#B0BEC5",
                "#B0BEC5",
                "#B0BEC5",
                "#B0BEC5",
                "#B0BEC5",
                "#B0BEC5",
                "#B0BEC5",
                "#B0BEC5"
               ]
              ]
             }
            ],
            "label": "Topic 5",
            "method": "update"
           },
           {
            "args": [
             {
              "marker.color": [
               [
                "#B0BEC5",
                "#B0BEC5",
                "#B0BEC5",
                "#B0BEC5",
                "#B0BEC5",
                "#B0BEC5",
                "red",
                "#B0BEC5",
                "#B0BEC5",
                "#B0BEC5",
                "#B0BEC5",
                "#B0BEC5",
                "#B0BEC5",
                "#B0BEC5",
                "#B0BEC5",
                "#B0BEC5",
                "#B0BEC5",
                "#B0BEC5",
                "#B0BEC5",
                "#B0BEC5",
                "#B0BEC5",
                "#B0BEC5",
                "#B0BEC5",
                "#B0BEC5",
                "#B0BEC5",
                "#B0BEC5",
                "#B0BEC5",
                "#B0BEC5",
                "#B0BEC5",
                "#B0BEC5",
                "#B0BEC5",
                "#B0BEC5",
                "#B0BEC5",
                "#B0BEC5",
                "#B0BEC5",
                "#B0BEC5",
                "#B0BEC5",
                "#B0BEC5",
                "#B0BEC5",
                "#B0BEC5",
                "#B0BEC5",
                "#B0BEC5",
                "#B0BEC5",
                "#B0BEC5",
                "#B0BEC5",
                "#B0BEC5",
                "#B0BEC5",
                "#B0BEC5",
                "#B0BEC5",
                "#B0BEC5",
                "#B0BEC5",
                "#B0BEC5",
                "#B0BEC5",
                "#B0BEC5",
                "#B0BEC5",
                "#B0BEC5",
                "#B0BEC5",
                "#B0BEC5",
                "#B0BEC5",
                "#B0BEC5",
                "#B0BEC5",
                "#B0BEC5",
                "#B0BEC5"
               ]
              ]
             }
            ],
            "label": "Topic 6",
            "method": "update"
           },
           {
            "args": [
             {
              "marker.color": [
               [
                "#B0BEC5",
                "#B0BEC5",
                "#B0BEC5",
                "#B0BEC5",
                "#B0BEC5",
                "#B0BEC5",
                "#B0BEC5",
                "red",
                "#B0BEC5",
                "#B0BEC5",
                "#B0BEC5",
                "#B0BEC5",
                "#B0BEC5",
                "#B0BEC5",
                "#B0BEC5",
                "#B0BEC5",
                "#B0BEC5",
                "#B0BEC5",
                "#B0BEC5",
                "#B0BEC5",
                "#B0BEC5",
                "#B0BEC5",
                "#B0BEC5",
                "#B0BEC5",
                "#B0BEC5",
                "#B0BEC5",
                "#B0BEC5",
                "#B0BEC5",
                "#B0BEC5",
                "#B0BEC5",
                "#B0BEC5",
                "#B0BEC5",
                "#B0BEC5",
                "#B0BEC5",
                "#B0BEC5",
                "#B0BEC5",
                "#B0BEC5",
                "#B0BEC5",
                "#B0BEC5",
                "#B0BEC5",
                "#B0BEC5",
                "#B0BEC5",
                "#B0BEC5",
                "#B0BEC5",
                "#B0BEC5",
                "#B0BEC5",
                "#B0BEC5",
                "#B0BEC5",
                "#B0BEC5",
                "#B0BEC5",
                "#B0BEC5",
                "#B0BEC5",
                "#B0BEC5",
                "#B0BEC5",
                "#B0BEC5",
                "#B0BEC5",
                "#B0BEC5",
                "#B0BEC5",
                "#B0BEC5",
                "#B0BEC5",
                "#B0BEC5",
                "#B0BEC5",
                "#B0BEC5"
               ]
              ]
             }
            ],
            "label": "Topic 7",
            "method": "update"
           },
           {
            "args": [
             {
              "marker.color": [
               [
                "#B0BEC5",
                "#B0BEC5",
                "#B0BEC5",
                "#B0BEC5",
                "#B0BEC5",
                "#B0BEC5",
                "#B0BEC5",
                "#B0BEC5",
                "red",
                "#B0BEC5",
                "#B0BEC5",
                "#B0BEC5",
                "#B0BEC5",
                "#B0BEC5",
                "#B0BEC5",
                "#B0BEC5",
                "#B0BEC5",
                "#B0BEC5",
                "#B0BEC5",
                "#B0BEC5",
                "#B0BEC5",
                "#B0BEC5",
                "#B0BEC5",
                "#B0BEC5",
                "#B0BEC5",
                "#B0BEC5",
                "#B0BEC5",
                "#B0BEC5",
                "#B0BEC5",
                "#B0BEC5",
                "#B0BEC5",
                "#B0BEC5",
                "#B0BEC5",
                "#B0BEC5",
                "#B0BEC5",
                "#B0BEC5",
                "#B0BEC5",
                "#B0BEC5",
                "#B0BEC5",
                "#B0BEC5",
                "#B0BEC5",
                "#B0BEC5",
                "#B0BEC5",
                "#B0BEC5",
                "#B0BEC5",
                "#B0BEC5",
                "#B0BEC5",
                "#B0BEC5",
                "#B0BEC5",
                "#B0BEC5",
                "#B0BEC5",
                "#B0BEC5",
                "#B0BEC5",
                "#B0BEC5",
                "#B0BEC5",
                "#B0BEC5",
                "#B0BEC5",
                "#B0BEC5",
                "#B0BEC5",
                "#B0BEC5",
                "#B0BEC5",
                "#B0BEC5",
                "#B0BEC5"
               ]
              ]
             }
            ],
            "label": "Topic 8",
            "method": "update"
           },
           {
            "args": [
             {
              "marker.color": [
               [
                "#B0BEC5",
                "#B0BEC5",
                "#B0BEC5",
                "#B0BEC5",
                "#B0BEC5",
                "#B0BEC5",
                "#B0BEC5",
                "#B0BEC5",
                "#B0BEC5",
                "red",
                "#B0BEC5",
                "#B0BEC5",
                "#B0BEC5",
                "#B0BEC5",
                "#B0BEC5",
                "#B0BEC5",
                "#B0BEC5",
                "#B0BEC5",
                "#B0BEC5",
                "#B0BEC5",
                "#B0BEC5",
                "#B0BEC5",
                "#B0BEC5",
                "#B0BEC5",
                "#B0BEC5",
                "#B0BEC5",
                "#B0BEC5",
                "#B0BEC5",
                "#B0BEC5",
                "#B0BEC5",
                "#B0BEC5",
                "#B0BEC5",
                "#B0BEC5",
                "#B0BEC5",
                "#B0BEC5",
                "#B0BEC5",
                "#B0BEC5",
                "#B0BEC5",
                "#B0BEC5",
                "#B0BEC5",
                "#B0BEC5",
                "#B0BEC5",
                "#B0BEC5",
                "#B0BEC5",
                "#B0BEC5",
                "#B0BEC5",
                "#B0BEC5",
                "#B0BEC5",
                "#B0BEC5",
                "#B0BEC5",
                "#B0BEC5",
                "#B0BEC5",
                "#B0BEC5",
                "#B0BEC5",
                "#B0BEC5",
                "#B0BEC5",
                "#B0BEC5",
                "#B0BEC5",
                "#B0BEC5",
                "#B0BEC5",
                "#B0BEC5",
                "#B0BEC5",
                "#B0BEC5"
               ]
              ]
             }
            ],
            "label": "Topic 9",
            "method": "update"
           },
           {
            "args": [
             {
              "marker.color": [
               [
                "#B0BEC5",
                "#B0BEC5",
                "#B0BEC5",
                "#B0BEC5",
                "#B0BEC5",
                "#B0BEC5",
                "#B0BEC5",
                "#B0BEC5",
                "#B0BEC5",
                "#B0BEC5",
                "red",
                "#B0BEC5",
                "#B0BEC5",
                "#B0BEC5",
                "#B0BEC5",
                "#B0BEC5",
                "#B0BEC5",
                "#B0BEC5",
                "#B0BEC5",
                "#B0BEC5",
                "#B0BEC5",
                "#B0BEC5",
                "#B0BEC5",
                "#B0BEC5",
                "#B0BEC5",
                "#B0BEC5",
                "#B0BEC5",
                "#B0BEC5",
                "#B0BEC5",
                "#B0BEC5",
                "#B0BEC5",
                "#B0BEC5",
                "#B0BEC5",
                "#B0BEC5",
                "#B0BEC5",
                "#B0BEC5",
                "#B0BEC5",
                "#B0BEC5",
                "#B0BEC5",
                "#B0BEC5",
                "#B0BEC5",
                "#B0BEC5",
                "#B0BEC5",
                "#B0BEC5",
                "#B0BEC5",
                "#B0BEC5",
                "#B0BEC5",
                "#B0BEC5",
                "#B0BEC5",
                "#B0BEC5",
                "#B0BEC5",
                "#B0BEC5",
                "#B0BEC5",
                "#B0BEC5",
                "#B0BEC5",
                "#B0BEC5",
                "#B0BEC5",
                "#B0BEC5",
                "#B0BEC5",
                "#B0BEC5",
                "#B0BEC5",
                "#B0BEC5",
                "#B0BEC5"
               ]
              ]
             }
            ],
            "label": "Topic 10",
            "method": "update"
           },
           {
            "args": [
             {
              "marker.color": [
               [
                "#B0BEC5",
                "#B0BEC5",
                "#B0BEC5",
                "#B0BEC5",
                "#B0BEC5",
                "#B0BEC5",
                "#B0BEC5",
                "#B0BEC5",
                "#B0BEC5",
                "#B0BEC5",
                "#B0BEC5",
                "red",
                "#B0BEC5",
                "#B0BEC5",
                "#B0BEC5",
                "#B0BEC5",
                "#B0BEC5",
                "#B0BEC5",
                "#B0BEC5",
                "#B0BEC5",
                "#B0BEC5",
                "#B0BEC5",
                "#B0BEC5",
                "#B0BEC5",
                "#B0BEC5",
                "#B0BEC5",
                "#B0BEC5",
                "#B0BEC5",
                "#B0BEC5",
                "#B0BEC5",
                "#B0BEC5",
                "#B0BEC5",
                "#B0BEC5",
                "#B0BEC5",
                "#B0BEC5",
                "#B0BEC5",
                "#B0BEC5",
                "#B0BEC5",
                "#B0BEC5",
                "#B0BEC5",
                "#B0BEC5",
                "#B0BEC5",
                "#B0BEC5",
                "#B0BEC5",
                "#B0BEC5",
                "#B0BEC5",
                "#B0BEC5",
                "#B0BEC5",
                "#B0BEC5",
                "#B0BEC5",
                "#B0BEC5",
                "#B0BEC5",
                "#B0BEC5",
                "#B0BEC5",
                "#B0BEC5",
                "#B0BEC5",
                "#B0BEC5",
                "#B0BEC5",
                "#B0BEC5",
                "#B0BEC5",
                "#B0BEC5",
                "#B0BEC5",
                "#B0BEC5"
               ]
              ]
             }
            ],
            "label": "Topic 11",
            "method": "update"
           },
           {
            "args": [
             {
              "marker.color": [
               [
                "#B0BEC5",
                "#B0BEC5",
                "#B0BEC5",
                "#B0BEC5",
                "#B0BEC5",
                "#B0BEC5",
                "#B0BEC5",
                "#B0BEC5",
                "#B0BEC5",
                "#B0BEC5",
                "#B0BEC5",
                "#B0BEC5",
                "red",
                "#B0BEC5",
                "#B0BEC5",
                "#B0BEC5",
                "#B0BEC5",
                "#B0BEC5",
                "#B0BEC5",
                "#B0BEC5",
                "#B0BEC5",
                "#B0BEC5",
                "#B0BEC5",
                "#B0BEC5",
                "#B0BEC5",
                "#B0BEC5",
                "#B0BEC5",
                "#B0BEC5",
                "#B0BEC5",
                "#B0BEC5",
                "#B0BEC5",
                "#B0BEC5",
                "#B0BEC5",
                "#B0BEC5",
                "#B0BEC5",
                "#B0BEC5",
                "#B0BEC5",
                "#B0BEC5",
                "#B0BEC5",
                "#B0BEC5",
                "#B0BEC5",
                "#B0BEC5",
                "#B0BEC5",
                "#B0BEC5",
                "#B0BEC5",
                "#B0BEC5",
                "#B0BEC5",
                "#B0BEC5",
                "#B0BEC5",
                "#B0BEC5",
                "#B0BEC5",
                "#B0BEC5",
                "#B0BEC5",
                "#B0BEC5",
                "#B0BEC5",
                "#B0BEC5",
                "#B0BEC5",
                "#B0BEC5",
                "#B0BEC5",
                "#B0BEC5",
                "#B0BEC5",
                "#B0BEC5",
                "#B0BEC5"
               ]
              ]
             }
            ],
            "label": "Topic 12",
            "method": "update"
           },
           {
            "args": [
             {
              "marker.color": [
               [
                "#B0BEC5",
                "#B0BEC5",
                "#B0BEC5",
                "#B0BEC5",
                "#B0BEC5",
                "#B0BEC5",
                "#B0BEC5",
                "#B0BEC5",
                "#B0BEC5",
                "#B0BEC5",
                "#B0BEC5",
                "#B0BEC5",
                "#B0BEC5",
                "red",
                "#B0BEC5",
                "#B0BEC5",
                "#B0BEC5",
                "#B0BEC5",
                "#B0BEC5",
                "#B0BEC5",
                "#B0BEC5",
                "#B0BEC5",
                "#B0BEC5",
                "#B0BEC5",
                "#B0BEC5",
                "#B0BEC5",
                "#B0BEC5",
                "#B0BEC5",
                "#B0BEC5",
                "#B0BEC5",
                "#B0BEC5",
                "#B0BEC5",
                "#B0BEC5",
                "#B0BEC5",
                "#B0BEC5",
                "#B0BEC5",
                "#B0BEC5",
                "#B0BEC5",
                "#B0BEC5",
                "#B0BEC5",
                "#B0BEC5",
                "#B0BEC5",
                "#B0BEC5",
                "#B0BEC5",
                "#B0BEC5",
                "#B0BEC5",
                "#B0BEC5",
                "#B0BEC5",
                "#B0BEC5",
                "#B0BEC5",
                "#B0BEC5",
                "#B0BEC5",
                "#B0BEC5",
                "#B0BEC5",
                "#B0BEC5",
                "#B0BEC5",
                "#B0BEC5",
                "#B0BEC5",
                "#B0BEC5",
                "#B0BEC5",
                "#B0BEC5",
                "#B0BEC5",
                "#B0BEC5"
               ]
              ]
             }
            ],
            "label": "Topic 13",
            "method": "update"
           },
           {
            "args": [
             {
              "marker.color": [
               [
                "#B0BEC5",
                "#B0BEC5",
                "#B0BEC5",
                "#B0BEC5",
                "#B0BEC5",
                "#B0BEC5",
                "#B0BEC5",
                "#B0BEC5",
                "#B0BEC5",
                "#B0BEC5",
                "#B0BEC5",
                "#B0BEC5",
                "#B0BEC5",
                "#B0BEC5",
                "red",
                "#B0BEC5",
                "#B0BEC5",
                "#B0BEC5",
                "#B0BEC5",
                "#B0BEC5",
                "#B0BEC5",
                "#B0BEC5",
                "#B0BEC5",
                "#B0BEC5",
                "#B0BEC5",
                "#B0BEC5",
                "#B0BEC5",
                "#B0BEC5",
                "#B0BEC5",
                "#B0BEC5",
                "#B0BEC5",
                "#B0BEC5",
                "#B0BEC5",
                "#B0BEC5",
                "#B0BEC5",
                "#B0BEC5",
                "#B0BEC5",
                "#B0BEC5",
                "#B0BEC5",
                "#B0BEC5",
                "#B0BEC5",
                "#B0BEC5",
                "#B0BEC5",
                "#B0BEC5",
                "#B0BEC5",
                "#B0BEC5",
                "#B0BEC5",
                "#B0BEC5",
                "#B0BEC5",
                "#B0BEC5",
                "#B0BEC5",
                "#B0BEC5",
                "#B0BEC5",
                "#B0BEC5",
                "#B0BEC5",
                "#B0BEC5",
                "#B0BEC5",
                "#B0BEC5",
                "#B0BEC5",
                "#B0BEC5",
                "#B0BEC5",
                "#B0BEC5",
                "#B0BEC5"
               ]
              ]
             }
            ],
            "label": "Topic 14",
            "method": "update"
           },
           {
            "args": [
             {
              "marker.color": [
               [
                "#B0BEC5",
                "#B0BEC5",
                "#B0BEC5",
                "#B0BEC5",
                "#B0BEC5",
                "#B0BEC5",
                "#B0BEC5",
                "#B0BEC5",
                "#B0BEC5",
                "#B0BEC5",
                "#B0BEC5",
                "#B0BEC5",
                "#B0BEC5",
                "#B0BEC5",
                "#B0BEC5",
                "red",
                "#B0BEC5",
                "#B0BEC5",
                "#B0BEC5",
                "#B0BEC5",
                "#B0BEC5",
                "#B0BEC5",
                "#B0BEC5",
                "#B0BEC5",
                "#B0BEC5",
                "#B0BEC5",
                "#B0BEC5",
                "#B0BEC5",
                "#B0BEC5",
                "#B0BEC5",
                "#B0BEC5",
                "#B0BEC5",
                "#B0BEC5",
                "#B0BEC5",
                "#B0BEC5",
                "#B0BEC5",
                "#B0BEC5",
                "#B0BEC5",
                "#B0BEC5",
                "#B0BEC5",
                "#B0BEC5",
                "#B0BEC5",
                "#B0BEC5",
                "#B0BEC5",
                "#B0BEC5",
                "#B0BEC5",
                "#B0BEC5",
                "#B0BEC5",
                "#B0BEC5",
                "#B0BEC5",
                "#B0BEC5",
                "#B0BEC5",
                "#B0BEC5",
                "#B0BEC5",
                "#B0BEC5",
                "#B0BEC5",
                "#B0BEC5",
                "#B0BEC5",
                "#B0BEC5",
                "#B0BEC5",
                "#B0BEC5",
                "#B0BEC5",
                "#B0BEC5"
               ]
              ]
             }
            ],
            "label": "Topic 15",
            "method": "update"
           },
           {
            "args": [
             {
              "marker.color": [
               [
                "#B0BEC5",
                "#B0BEC5",
                "#B0BEC5",
                "#B0BEC5",
                "#B0BEC5",
                "#B0BEC5",
                "#B0BEC5",
                "#B0BEC5",
                "#B0BEC5",
                "#B0BEC5",
                "#B0BEC5",
                "#B0BEC5",
                "#B0BEC5",
                "#B0BEC5",
                "#B0BEC5",
                "#B0BEC5",
                "red",
                "#B0BEC5",
                "#B0BEC5",
                "#B0BEC5",
                "#B0BEC5",
                "#B0BEC5",
                "#B0BEC5",
                "#B0BEC5",
                "#B0BEC5",
                "#B0BEC5",
                "#B0BEC5",
                "#B0BEC5",
                "#B0BEC5",
                "#B0BEC5",
                "#B0BEC5",
                "#B0BEC5",
                "#B0BEC5",
                "#B0BEC5",
                "#B0BEC5",
                "#B0BEC5",
                "#B0BEC5",
                "#B0BEC5",
                "#B0BEC5",
                "#B0BEC5",
                "#B0BEC5",
                "#B0BEC5",
                "#B0BEC5",
                "#B0BEC5",
                "#B0BEC5",
                "#B0BEC5",
                "#B0BEC5",
                "#B0BEC5",
                "#B0BEC5",
                "#B0BEC5",
                "#B0BEC5",
                "#B0BEC5",
                "#B0BEC5",
                "#B0BEC5",
                "#B0BEC5",
                "#B0BEC5",
                "#B0BEC5",
                "#B0BEC5",
                "#B0BEC5",
                "#B0BEC5",
                "#B0BEC5",
                "#B0BEC5",
                "#B0BEC5"
               ]
              ]
             }
            ],
            "label": "Topic 16",
            "method": "update"
           },
           {
            "args": [
             {
              "marker.color": [
               [
                "#B0BEC5",
                "#B0BEC5",
                "#B0BEC5",
                "#B0BEC5",
                "#B0BEC5",
                "#B0BEC5",
                "#B0BEC5",
                "#B0BEC5",
                "#B0BEC5",
                "#B0BEC5",
                "#B0BEC5",
                "#B0BEC5",
                "#B0BEC5",
                "#B0BEC5",
                "#B0BEC5",
                "#B0BEC5",
                "#B0BEC5",
                "red",
                "#B0BEC5",
                "#B0BEC5",
                "#B0BEC5",
                "#B0BEC5",
                "#B0BEC5",
                "#B0BEC5",
                "#B0BEC5",
                "#B0BEC5",
                "#B0BEC5",
                "#B0BEC5",
                "#B0BEC5",
                "#B0BEC5",
                "#B0BEC5",
                "#B0BEC5",
                "#B0BEC5",
                "#B0BEC5",
                "#B0BEC5",
                "#B0BEC5",
                "#B0BEC5",
                "#B0BEC5",
                "#B0BEC5",
                "#B0BEC5",
                "#B0BEC5",
                "#B0BEC5",
                "#B0BEC5",
                "#B0BEC5",
                "#B0BEC5",
                "#B0BEC5",
                "#B0BEC5",
                "#B0BEC5",
                "#B0BEC5",
                "#B0BEC5",
                "#B0BEC5",
                "#B0BEC5",
                "#B0BEC5",
                "#B0BEC5",
                "#B0BEC5",
                "#B0BEC5",
                "#B0BEC5",
                "#B0BEC5",
                "#B0BEC5",
                "#B0BEC5",
                "#B0BEC5",
                "#B0BEC5",
                "#B0BEC5"
               ]
              ]
             }
            ],
            "label": "Topic 17",
            "method": "update"
           },
           {
            "args": [
             {
              "marker.color": [
               [
                "#B0BEC5",
                "#B0BEC5",
                "#B0BEC5",
                "#B0BEC5",
                "#B0BEC5",
                "#B0BEC5",
                "#B0BEC5",
                "#B0BEC5",
                "#B0BEC5",
                "#B0BEC5",
                "#B0BEC5",
                "#B0BEC5",
                "#B0BEC5",
                "#B0BEC5",
                "#B0BEC5",
                "#B0BEC5",
                "#B0BEC5",
                "#B0BEC5",
                "red",
                "#B0BEC5",
                "#B0BEC5",
                "#B0BEC5",
                "#B0BEC5",
                "#B0BEC5",
                "#B0BEC5",
                "#B0BEC5",
                "#B0BEC5",
                "#B0BEC5",
                "#B0BEC5",
                "#B0BEC5",
                "#B0BEC5",
                "#B0BEC5",
                "#B0BEC5",
                "#B0BEC5",
                "#B0BEC5",
                "#B0BEC5",
                "#B0BEC5",
                "#B0BEC5",
                "#B0BEC5",
                "#B0BEC5",
                "#B0BEC5",
                "#B0BEC5",
                "#B0BEC5",
                "#B0BEC5",
                "#B0BEC5",
                "#B0BEC5",
                "#B0BEC5",
                "#B0BEC5",
                "#B0BEC5",
                "#B0BEC5",
                "#B0BEC5",
                "#B0BEC5",
                "#B0BEC5",
                "#B0BEC5",
                "#B0BEC5",
                "#B0BEC5",
                "#B0BEC5",
                "#B0BEC5",
                "#B0BEC5",
                "#B0BEC5",
                "#B0BEC5",
                "#B0BEC5",
                "#B0BEC5"
               ]
              ]
             }
            ],
            "label": "Topic 18",
            "method": "update"
           },
           {
            "args": [
             {
              "marker.color": [
               [
                "#B0BEC5",
                "#B0BEC5",
                "#B0BEC5",
                "#B0BEC5",
                "#B0BEC5",
                "#B0BEC5",
                "#B0BEC5",
                "#B0BEC5",
                "#B0BEC5",
                "#B0BEC5",
                "#B0BEC5",
                "#B0BEC5",
                "#B0BEC5",
                "#B0BEC5",
                "#B0BEC5",
                "#B0BEC5",
                "#B0BEC5",
                "#B0BEC5",
                "#B0BEC5",
                "red",
                "#B0BEC5",
                "#B0BEC5",
                "#B0BEC5",
                "#B0BEC5",
                "#B0BEC5",
                "#B0BEC5",
                "#B0BEC5",
                "#B0BEC5",
                "#B0BEC5",
                "#B0BEC5",
                "#B0BEC5",
                "#B0BEC5",
                "#B0BEC5",
                "#B0BEC5",
                "#B0BEC5",
                "#B0BEC5",
                "#B0BEC5",
                "#B0BEC5",
                "#B0BEC5",
                "#B0BEC5",
                "#B0BEC5",
                "#B0BEC5",
                "#B0BEC5",
                "#B0BEC5",
                "#B0BEC5",
                "#B0BEC5",
                "#B0BEC5",
                "#B0BEC5",
                "#B0BEC5",
                "#B0BEC5",
                "#B0BEC5",
                "#B0BEC5",
                "#B0BEC5",
                "#B0BEC5",
                "#B0BEC5",
                "#B0BEC5",
                "#B0BEC5",
                "#B0BEC5",
                "#B0BEC5",
                "#B0BEC5",
                "#B0BEC5",
                "#B0BEC5",
                "#B0BEC5"
               ]
              ]
             }
            ],
            "label": "Topic 19",
            "method": "update"
           },
           {
            "args": [
             {
              "marker.color": [
               [
                "#B0BEC5",
                "#B0BEC5",
                "#B0BEC5",
                "#B0BEC5",
                "#B0BEC5",
                "#B0BEC5",
                "#B0BEC5",
                "#B0BEC5",
                "#B0BEC5",
                "#B0BEC5",
                "#B0BEC5",
                "#B0BEC5",
                "#B0BEC5",
                "#B0BEC5",
                "#B0BEC5",
                "#B0BEC5",
                "#B0BEC5",
                "#B0BEC5",
                "#B0BEC5",
                "#B0BEC5",
                "red",
                "#B0BEC5",
                "#B0BEC5",
                "#B0BEC5",
                "#B0BEC5",
                "#B0BEC5",
                "#B0BEC5",
                "#B0BEC5",
                "#B0BEC5",
                "#B0BEC5",
                "#B0BEC5",
                "#B0BEC5",
                "#B0BEC5",
                "#B0BEC5",
                "#B0BEC5",
                "#B0BEC5",
                "#B0BEC5",
                "#B0BEC5",
                "#B0BEC5",
                "#B0BEC5",
                "#B0BEC5",
                "#B0BEC5",
                "#B0BEC5",
                "#B0BEC5",
                "#B0BEC5",
                "#B0BEC5",
                "#B0BEC5",
                "#B0BEC5",
                "#B0BEC5",
                "#B0BEC5",
                "#B0BEC5",
                "#B0BEC5",
                "#B0BEC5",
                "#B0BEC5",
                "#B0BEC5",
                "#B0BEC5",
                "#B0BEC5",
                "#B0BEC5",
                "#B0BEC5",
                "#B0BEC5",
                "#B0BEC5",
                "#B0BEC5",
                "#B0BEC5"
               ]
              ]
             }
            ],
            "label": "Topic 20",
            "method": "update"
           },
           {
            "args": [
             {
              "marker.color": [
               [
                "#B0BEC5",
                "#B0BEC5",
                "#B0BEC5",
                "#B0BEC5",
                "#B0BEC5",
                "#B0BEC5",
                "#B0BEC5",
                "#B0BEC5",
                "#B0BEC5",
                "#B0BEC5",
                "#B0BEC5",
                "#B0BEC5",
                "#B0BEC5",
                "#B0BEC5",
                "#B0BEC5",
                "#B0BEC5",
                "#B0BEC5",
                "#B0BEC5",
                "#B0BEC5",
                "#B0BEC5",
                "#B0BEC5",
                "red",
                "#B0BEC5",
                "#B0BEC5",
                "#B0BEC5",
                "#B0BEC5",
                "#B0BEC5",
                "#B0BEC5",
                "#B0BEC5",
                "#B0BEC5",
                "#B0BEC5",
                "#B0BEC5",
                "#B0BEC5",
                "#B0BEC5",
                "#B0BEC5",
                "#B0BEC5",
                "#B0BEC5",
                "#B0BEC5",
                "#B0BEC5",
                "#B0BEC5",
                "#B0BEC5",
                "#B0BEC5",
                "#B0BEC5",
                "#B0BEC5",
                "#B0BEC5",
                "#B0BEC5",
                "#B0BEC5",
                "#B0BEC5",
                "#B0BEC5",
                "#B0BEC5",
                "#B0BEC5",
                "#B0BEC5",
                "#B0BEC5",
                "#B0BEC5",
                "#B0BEC5",
                "#B0BEC5",
                "#B0BEC5",
                "#B0BEC5",
                "#B0BEC5",
                "#B0BEC5",
                "#B0BEC5",
                "#B0BEC5",
                "#B0BEC5"
               ]
              ]
             }
            ],
            "label": "Topic 21",
            "method": "update"
           },
           {
            "args": [
             {
              "marker.color": [
               [
                "#B0BEC5",
                "#B0BEC5",
                "#B0BEC5",
                "#B0BEC5",
                "#B0BEC5",
                "#B0BEC5",
                "#B0BEC5",
                "#B0BEC5",
                "#B0BEC5",
                "#B0BEC5",
                "#B0BEC5",
                "#B0BEC5",
                "#B0BEC5",
                "#B0BEC5",
                "#B0BEC5",
                "#B0BEC5",
                "#B0BEC5",
                "#B0BEC5",
                "#B0BEC5",
                "#B0BEC5",
                "#B0BEC5",
                "#B0BEC5",
                "red",
                "#B0BEC5",
                "#B0BEC5",
                "#B0BEC5",
                "#B0BEC5",
                "#B0BEC5",
                "#B0BEC5",
                "#B0BEC5",
                "#B0BEC5",
                "#B0BEC5",
                "#B0BEC5",
                "#B0BEC5",
                "#B0BEC5",
                "#B0BEC5",
                "#B0BEC5",
                "#B0BEC5",
                "#B0BEC5",
                "#B0BEC5",
                "#B0BEC5",
                "#B0BEC5",
                "#B0BEC5",
                "#B0BEC5",
                "#B0BEC5",
                "#B0BEC5",
                "#B0BEC5",
                "#B0BEC5",
                "#B0BEC5",
                "#B0BEC5",
                "#B0BEC5",
                "#B0BEC5",
                "#B0BEC5",
                "#B0BEC5",
                "#B0BEC5",
                "#B0BEC5",
                "#B0BEC5",
                "#B0BEC5",
                "#B0BEC5",
                "#B0BEC5",
                "#B0BEC5",
                "#B0BEC5",
                "#B0BEC5"
               ]
              ]
             }
            ],
            "label": "Topic 22",
            "method": "update"
           },
           {
            "args": [
             {
              "marker.color": [
               [
                "#B0BEC5",
                "#B0BEC5",
                "#B0BEC5",
                "#B0BEC5",
                "#B0BEC5",
                "#B0BEC5",
                "#B0BEC5",
                "#B0BEC5",
                "#B0BEC5",
                "#B0BEC5",
                "#B0BEC5",
                "#B0BEC5",
                "#B0BEC5",
                "#B0BEC5",
                "#B0BEC5",
                "#B0BEC5",
                "#B0BEC5",
                "#B0BEC5",
                "#B0BEC5",
                "#B0BEC5",
                "#B0BEC5",
                "#B0BEC5",
                "#B0BEC5",
                "red",
                "#B0BEC5",
                "#B0BEC5",
                "#B0BEC5",
                "#B0BEC5",
                "#B0BEC5",
                "#B0BEC5",
                "#B0BEC5",
                "#B0BEC5",
                "#B0BEC5",
                "#B0BEC5",
                "#B0BEC5",
                "#B0BEC5",
                "#B0BEC5",
                "#B0BEC5",
                "#B0BEC5",
                "#B0BEC5",
                "#B0BEC5",
                "#B0BEC5",
                "#B0BEC5",
                "#B0BEC5",
                "#B0BEC5",
                "#B0BEC5",
                "#B0BEC5",
                "#B0BEC5",
                "#B0BEC5",
                "#B0BEC5",
                "#B0BEC5",
                "#B0BEC5",
                "#B0BEC5",
                "#B0BEC5",
                "#B0BEC5",
                "#B0BEC5",
                "#B0BEC5",
                "#B0BEC5",
                "#B0BEC5",
                "#B0BEC5",
                "#B0BEC5",
                "#B0BEC5",
                "#B0BEC5"
               ]
              ]
             }
            ],
            "label": "Topic 23",
            "method": "update"
           },
           {
            "args": [
             {
              "marker.color": [
               [
                "#B0BEC5",
                "#B0BEC5",
                "#B0BEC5",
                "#B0BEC5",
                "#B0BEC5",
                "#B0BEC5",
                "#B0BEC5",
                "#B0BEC5",
                "#B0BEC5",
                "#B0BEC5",
                "#B0BEC5",
                "#B0BEC5",
                "#B0BEC5",
                "#B0BEC5",
                "#B0BEC5",
                "#B0BEC5",
                "#B0BEC5",
                "#B0BEC5",
                "#B0BEC5",
                "#B0BEC5",
                "#B0BEC5",
                "#B0BEC5",
                "#B0BEC5",
                "#B0BEC5",
                "red",
                "#B0BEC5",
                "#B0BEC5",
                "#B0BEC5",
                "#B0BEC5",
                "#B0BEC5",
                "#B0BEC5",
                "#B0BEC5",
                "#B0BEC5",
                "#B0BEC5",
                "#B0BEC5",
                "#B0BEC5",
                "#B0BEC5",
                "#B0BEC5",
                "#B0BEC5",
                "#B0BEC5",
                "#B0BEC5",
                "#B0BEC5",
                "#B0BEC5",
                "#B0BEC5",
                "#B0BEC5",
                "#B0BEC5",
                "#B0BEC5",
                "#B0BEC5",
                "#B0BEC5",
                "#B0BEC5",
                "#B0BEC5",
                "#B0BEC5",
                "#B0BEC5",
                "#B0BEC5",
                "#B0BEC5",
                "#B0BEC5",
                "#B0BEC5",
                "#B0BEC5",
                "#B0BEC5",
                "#B0BEC5",
                "#B0BEC5",
                "#B0BEC5",
                "#B0BEC5"
               ]
              ]
             }
            ],
            "label": "Topic 24",
            "method": "update"
           },
           {
            "args": [
             {
              "marker.color": [
               [
                "#B0BEC5",
                "#B0BEC5",
                "#B0BEC5",
                "#B0BEC5",
                "#B0BEC5",
                "#B0BEC5",
                "#B0BEC5",
                "#B0BEC5",
                "#B0BEC5",
                "#B0BEC5",
                "#B0BEC5",
                "#B0BEC5",
                "#B0BEC5",
                "#B0BEC5",
                "#B0BEC5",
                "#B0BEC5",
                "#B0BEC5",
                "#B0BEC5",
                "#B0BEC5",
                "#B0BEC5",
                "#B0BEC5",
                "#B0BEC5",
                "#B0BEC5",
                "#B0BEC5",
                "#B0BEC5",
                "red",
                "#B0BEC5",
                "#B0BEC5",
                "#B0BEC5",
                "#B0BEC5",
                "#B0BEC5",
                "#B0BEC5",
                "#B0BEC5",
                "#B0BEC5",
                "#B0BEC5",
                "#B0BEC5",
                "#B0BEC5",
                "#B0BEC5",
                "#B0BEC5",
                "#B0BEC5",
                "#B0BEC5",
                "#B0BEC5",
                "#B0BEC5",
                "#B0BEC5",
                "#B0BEC5",
                "#B0BEC5",
                "#B0BEC5",
                "#B0BEC5",
                "#B0BEC5",
                "#B0BEC5",
                "#B0BEC5",
                "#B0BEC5",
                "#B0BEC5",
                "#B0BEC5",
                "#B0BEC5",
                "#B0BEC5",
                "#B0BEC5",
                "#B0BEC5",
                "#B0BEC5",
                "#B0BEC5",
                "#B0BEC5",
                "#B0BEC5",
                "#B0BEC5"
               ]
              ]
             }
            ],
            "label": "Topic 25",
            "method": "update"
           },
           {
            "args": [
             {
              "marker.color": [
               [
                "#B0BEC5",
                "#B0BEC5",
                "#B0BEC5",
                "#B0BEC5",
                "#B0BEC5",
                "#B0BEC5",
                "#B0BEC5",
                "#B0BEC5",
                "#B0BEC5",
                "#B0BEC5",
                "#B0BEC5",
                "#B0BEC5",
                "#B0BEC5",
                "#B0BEC5",
                "#B0BEC5",
                "#B0BEC5",
                "#B0BEC5",
                "#B0BEC5",
                "#B0BEC5",
                "#B0BEC5",
                "#B0BEC5",
                "#B0BEC5",
                "#B0BEC5",
                "#B0BEC5",
                "#B0BEC5",
                "#B0BEC5",
                "red",
                "#B0BEC5",
                "#B0BEC5",
                "#B0BEC5",
                "#B0BEC5",
                "#B0BEC5",
                "#B0BEC5",
                "#B0BEC5",
                "#B0BEC5",
                "#B0BEC5",
                "#B0BEC5",
                "#B0BEC5",
                "#B0BEC5",
                "#B0BEC5",
                "#B0BEC5",
                "#B0BEC5",
                "#B0BEC5",
                "#B0BEC5",
                "#B0BEC5",
                "#B0BEC5",
                "#B0BEC5",
                "#B0BEC5",
                "#B0BEC5",
                "#B0BEC5",
                "#B0BEC5",
                "#B0BEC5",
                "#B0BEC5",
                "#B0BEC5",
                "#B0BEC5",
                "#B0BEC5",
                "#B0BEC5",
                "#B0BEC5",
                "#B0BEC5",
                "#B0BEC5",
                "#B0BEC5",
                "#B0BEC5",
                "#B0BEC5"
               ]
              ]
             }
            ],
            "label": "Topic 26",
            "method": "update"
           },
           {
            "args": [
             {
              "marker.color": [
               [
                "#B0BEC5",
                "#B0BEC5",
                "#B0BEC5",
                "#B0BEC5",
                "#B0BEC5",
                "#B0BEC5",
                "#B0BEC5",
                "#B0BEC5",
                "#B0BEC5",
                "#B0BEC5",
                "#B0BEC5",
                "#B0BEC5",
                "#B0BEC5",
                "#B0BEC5",
                "#B0BEC5",
                "#B0BEC5",
                "#B0BEC5",
                "#B0BEC5",
                "#B0BEC5",
                "#B0BEC5",
                "#B0BEC5",
                "#B0BEC5",
                "#B0BEC5",
                "#B0BEC5",
                "#B0BEC5",
                "#B0BEC5",
                "#B0BEC5",
                "red",
                "#B0BEC5",
                "#B0BEC5",
                "#B0BEC5",
                "#B0BEC5",
                "#B0BEC5",
                "#B0BEC5",
                "#B0BEC5",
                "#B0BEC5",
                "#B0BEC5",
                "#B0BEC5",
                "#B0BEC5",
                "#B0BEC5",
                "#B0BEC5",
                "#B0BEC5",
                "#B0BEC5",
                "#B0BEC5",
                "#B0BEC5",
                "#B0BEC5",
                "#B0BEC5",
                "#B0BEC5",
                "#B0BEC5",
                "#B0BEC5",
                "#B0BEC5",
                "#B0BEC5",
                "#B0BEC5",
                "#B0BEC5",
                "#B0BEC5",
                "#B0BEC5",
                "#B0BEC5",
                "#B0BEC5",
                "#B0BEC5",
                "#B0BEC5",
                "#B0BEC5",
                "#B0BEC5",
                "#B0BEC5"
               ]
              ]
             }
            ],
            "label": "Topic 27",
            "method": "update"
           },
           {
            "args": [
             {
              "marker.color": [
               [
                "#B0BEC5",
                "#B0BEC5",
                "#B0BEC5",
                "#B0BEC5",
                "#B0BEC5",
                "#B0BEC5",
                "#B0BEC5",
                "#B0BEC5",
                "#B0BEC5",
                "#B0BEC5",
                "#B0BEC5",
                "#B0BEC5",
                "#B0BEC5",
                "#B0BEC5",
                "#B0BEC5",
                "#B0BEC5",
                "#B0BEC5",
                "#B0BEC5",
                "#B0BEC5",
                "#B0BEC5",
                "#B0BEC5",
                "#B0BEC5",
                "#B0BEC5",
                "#B0BEC5",
                "#B0BEC5",
                "#B0BEC5",
                "#B0BEC5",
                "#B0BEC5",
                "red",
                "#B0BEC5",
                "#B0BEC5",
                "#B0BEC5",
                "#B0BEC5",
                "#B0BEC5",
                "#B0BEC5",
                "#B0BEC5",
                "#B0BEC5",
                "#B0BEC5",
                "#B0BEC5",
                "#B0BEC5",
                "#B0BEC5",
                "#B0BEC5",
                "#B0BEC5",
                "#B0BEC5",
                "#B0BEC5",
                "#B0BEC5",
                "#B0BEC5",
                "#B0BEC5",
                "#B0BEC5",
                "#B0BEC5",
                "#B0BEC5",
                "#B0BEC5",
                "#B0BEC5",
                "#B0BEC5",
                "#B0BEC5",
                "#B0BEC5",
                "#B0BEC5",
                "#B0BEC5",
                "#B0BEC5",
                "#B0BEC5",
                "#B0BEC5",
                "#B0BEC5",
                "#B0BEC5"
               ]
              ]
             }
            ],
            "label": "Topic 28",
            "method": "update"
           },
           {
            "args": [
             {
              "marker.color": [
               [
                "#B0BEC5",
                "#B0BEC5",
                "#B0BEC5",
                "#B0BEC5",
                "#B0BEC5",
                "#B0BEC5",
                "#B0BEC5",
                "#B0BEC5",
                "#B0BEC5",
                "#B0BEC5",
                "#B0BEC5",
                "#B0BEC5",
                "#B0BEC5",
                "#B0BEC5",
                "#B0BEC5",
                "#B0BEC5",
                "#B0BEC5",
                "#B0BEC5",
                "#B0BEC5",
                "#B0BEC5",
                "#B0BEC5",
                "#B0BEC5",
                "#B0BEC5",
                "#B0BEC5",
                "#B0BEC5",
                "#B0BEC5",
                "#B0BEC5",
                "#B0BEC5",
                "#B0BEC5",
                "red",
                "#B0BEC5",
                "#B0BEC5",
                "#B0BEC5",
                "#B0BEC5",
                "#B0BEC5",
                "#B0BEC5",
                "#B0BEC5",
                "#B0BEC5",
                "#B0BEC5",
                "#B0BEC5",
                "#B0BEC5",
                "#B0BEC5",
                "#B0BEC5",
                "#B0BEC5",
                "#B0BEC5",
                "#B0BEC5",
                "#B0BEC5",
                "#B0BEC5",
                "#B0BEC5",
                "#B0BEC5",
                "#B0BEC5",
                "#B0BEC5",
                "#B0BEC5",
                "#B0BEC5",
                "#B0BEC5",
                "#B0BEC5",
                "#B0BEC5",
                "#B0BEC5",
                "#B0BEC5",
                "#B0BEC5",
                "#B0BEC5",
                "#B0BEC5",
                "#B0BEC5"
               ]
              ]
             }
            ],
            "label": "Topic 29",
            "method": "update"
           },
           {
            "args": [
             {
              "marker.color": [
               [
                "#B0BEC5",
                "#B0BEC5",
                "#B0BEC5",
                "#B0BEC5",
                "#B0BEC5",
                "#B0BEC5",
                "#B0BEC5",
                "#B0BEC5",
                "#B0BEC5",
                "#B0BEC5",
                "#B0BEC5",
                "#B0BEC5",
                "#B0BEC5",
                "#B0BEC5",
                "#B0BEC5",
                "#B0BEC5",
                "#B0BEC5",
                "#B0BEC5",
                "#B0BEC5",
                "#B0BEC5",
                "#B0BEC5",
                "#B0BEC5",
                "#B0BEC5",
                "#B0BEC5",
                "#B0BEC5",
                "#B0BEC5",
                "#B0BEC5",
                "#B0BEC5",
                "#B0BEC5",
                "#B0BEC5",
                "red",
                "#B0BEC5",
                "#B0BEC5",
                "#B0BEC5",
                "#B0BEC5",
                "#B0BEC5",
                "#B0BEC5",
                "#B0BEC5",
                "#B0BEC5",
                "#B0BEC5",
                "#B0BEC5",
                "#B0BEC5",
                "#B0BEC5",
                "#B0BEC5",
                "#B0BEC5",
                "#B0BEC5",
                "#B0BEC5",
                "#B0BEC5",
                "#B0BEC5",
                "#B0BEC5",
                "#B0BEC5",
                "#B0BEC5",
                "#B0BEC5",
                "#B0BEC5",
                "#B0BEC5",
                "#B0BEC5",
                "#B0BEC5",
                "#B0BEC5",
                "#B0BEC5",
                "#B0BEC5",
                "#B0BEC5",
                "#B0BEC5",
                "#B0BEC5"
               ]
              ]
             }
            ],
            "label": "Topic 30",
            "method": "update"
           },
           {
            "args": [
             {
              "marker.color": [
               [
                "#B0BEC5",
                "#B0BEC5",
                "#B0BEC5",
                "#B0BEC5",
                "#B0BEC5",
                "#B0BEC5",
                "#B0BEC5",
                "#B0BEC5",
                "#B0BEC5",
                "#B0BEC5",
                "#B0BEC5",
                "#B0BEC5",
                "#B0BEC5",
                "#B0BEC5",
                "#B0BEC5",
                "#B0BEC5",
                "#B0BEC5",
                "#B0BEC5",
                "#B0BEC5",
                "#B0BEC5",
                "#B0BEC5",
                "#B0BEC5",
                "#B0BEC5",
                "#B0BEC5",
                "#B0BEC5",
                "#B0BEC5",
                "#B0BEC5",
                "#B0BEC5",
                "#B0BEC5",
                "#B0BEC5",
                "#B0BEC5",
                "red",
                "#B0BEC5",
                "#B0BEC5",
                "#B0BEC5",
                "#B0BEC5",
                "#B0BEC5",
                "#B0BEC5",
                "#B0BEC5",
                "#B0BEC5",
                "#B0BEC5",
                "#B0BEC5",
                "#B0BEC5",
                "#B0BEC5",
                "#B0BEC5",
                "#B0BEC5",
                "#B0BEC5",
                "#B0BEC5",
                "#B0BEC5",
                "#B0BEC5",
                "#B0BEC5",
                "#B0BEC5",
                "#B0BEC5",
                "#B0BEC5",
                "#B0BEC5",
                "#B0BEC5",
                "#B0BEC5",
                "#B0BEC5",
                "#B0BEC5",
                "#B0BEC5",
                "#B0BEC5",
                "#B0BEC5",
                "#B0BEC5"
               ]
              ]
             }
            ],
            "label": "Topic 31",
            "method": "update"
           },
           {
            "args": [
             {
              "marker.color": [
               [
                "#B0BEC5",
                "#B0BEC5",
                "#B0BEC5",
                "#B0BEC5",
                "#B0BEC5",
                "#B0BEC5",
                "#B0BEC5",
                "#B0BEC5",
                "#B0BEC5",
                "#B0BEC5",
                "#B0BEC5",
                "#B0BEC5",
                "#B0BEC5",
                "#B0BEC5",
                "#B0BEC5",
                "#B0BEC5",
                "#B0BEC5",
                "#B0BEC5",
                "#B0BEC5",
                "#B0BEC5",
                "#B0BEC5",
                "#B0BEC5",
                "#B0BEC5",
                "#B0BEC5",
                "#B0BEC5",
                "#B0BEC5",
                "#B0BEC5",
                "#B0BEC5",
                "#B0BEC5",
                "#B0BEC5",
                "#B0BEC5",
                "#B0BEC5",
                "red",
                "#B0BEC5",
                "#B0BEC5",
                "#B0BEC5",
                "#B0BEC5",
                "#B0BEC5",
                "#B0BEC5",
                "#B0BEC5",
                "#B0BEC5",
                "#B0BEC5",
                "#B0BEC5",
                "#B0BEC5",
                "#B0BEC5",
                "#B0BEC5",
                "#B0BEC5",
                "#B0BEC5",
                "#B0BEC5",
                "#B0BEC5",
                "#B0BEC5",
                "#B0BEC5",
                "#B0BEC5",
                "#B0BEC5",
                "#B0BEC5",
                "#B0BEC5",
                "#B0BEC5",
                "#B0BEC5",
                "#B0BEC5",
                "#B0BEC5",
                "#B0BEC5",
                "#B0BEC5",
                "#B0BEC5"
               ]
              ]
             }
            ],
            "label": "Topic 32",
            "method": "update"
           },
           {
            "args": [
             {
              "marker.color": [
               [
                "#B0BEC5",
                "#B0BEC5",
                "#B0BEC5",
                "#B0BEC5",
                "#B0BEC5",
                "#B0BEC5",
                "#B0BEC5",
                "#B0BEC5",
                "#B0BEC5",
                "#B0BEC5",
                "#B0BEC5",
                "#B0BEC5",
                "#B0BEC5",
                "#B0BEC5",
                "#B0BEC5",
                "#B0BEC5",
                "#B0BEC5",
                "#B0BEC5",
                "#B0BEC5",
                "#B0BEC5",
                "#B0BEC5",
                "#B0BEC5",
                "#B0BEC5",
                "#B0BEC5",
                "#B0BEC5",
                "#B0BEC5",
                "#B0BEC5",
                "#B0BEC5",
                "#B0BEC5",
                "#B0BEC5",
                "#B0BEC5",
                "#B0BEC5",
                "#B0BEC5",
                "red",
                "#B0BEC5",
                "#B0BEC5",
                "#B0BEC5",
                "#B0BEC5",
                "#B0BEC5",
                "#B0BEC5",
                "#B0BEC5",
                "#B0BEC5",
                "#B0BEC5",
                "#B0BEC5",
                "#B0BEC5",
                "#B0BEC5",
                "#B0BEC5",
                "#B0BEC5",
                "#B0BEC5",
                "#B0BEC5",
                "#B0BEC5",
                "#B0BEC5",
                "#B0BEC5",
                "#B0BEC5",
                "#B0BEC5",
                "#B0BEC5",
                "#B0BEC5",
                "#B0BEC5",
                "#B0BEC5",
                "#B0BEC5",
                "#B0BEC5",
                "#B0BEC5",
                "#B0BEC5"
               ]
              ]
             }
            ],
            "label": "Topic 33",
            "method": "update"
           },
           {
            "args": [
             {
              "marker.color": [
               [
                "#B0BEC5",
                "#B0BEC5",
                "#B0BEC5",
                "#B0BEC5",
                "#B0BEC5",
                "#B0BEC5",
                "#B0BEC5",
                "#B0BEC5",
                "#B0BEC5",
                "#B0BEC5",
                "#B0BEC5",
                "#B0BEC5",
                "#B0BEC5",
                "#B0BEC5",
                "#B0BEC5",
                "#B0BEC5",
                "#B0BEC5",
                "#B0BEC5",
                "#B0BEC5",
                "#B0BEC5",
                "#B0BEC5",
                "#B0BEC5",
                "#B0BEC5",
                "#B0BEC5",
                "#B0BEC5",
                "#B0BEC5",
                "#B0BEC5",
                "#B0BEC5",
                "#B0BEC5",
                "#B0BEC5",
                "#B0BEC5",
                "#B0BEC5",
                "#B0BEC5",
                "#B0BEC5",
                "red",
                "#B0BEC5",
                "#B0BEC5",
                "#B0BEC5",
                "#B0BEC5",
                "#B0BEC5",
                "#B0BEC5",
                "#B0BEC5",
                "#B0BEC5",
                "#B0BEC5",
                "#B0BEC5",
                "#B0BEC5",
                "#B0BEC5",
                "#B0BEC5",
                "#B0BEC5",
                "#B0BEC5",
                "#B0BEC5",
                "#B0BEC5",
                "#B0BEC5",
                "#B0BEC5",
                "#B0BEC5",
                "#B0BEC5",
                "#B0BEC5",
                "#B0BEC5",
                "#B0BEC5",
                "#B0BEC5",
                "#B0BEC5",
                "#B0BEC5",
                "#B0BEC5"
               ]
              ]
             }
            ],
            "label": "Topic 34",
            "method": "update"
           },
           {
            "args": [
             {
              "marker.color": [
               [
                "#B0BEC5",
                "#B0BEC5",
                "#B0BEC5",
                "#B0BEC5",
                "#B0BEC5",
                "#B0BEC5",
                "#B0BEC5",
                "#B0BEC5",
                "#B0BEC5",
                "#B0BEC5",
                "#B0BEC5",
                "#B0BEC5",
                "#B0BEC5",
                "#B0BEC5",
                "#B0BEC5",
                "#B0BEC5",
                "#B0BEC5",
                "#B0BEC5",
                "#B0BEC5",
                "#B0BEC5",
                "#B0BEC5",
                "#B0BEC5",
                "#B0BEC5",
                "#B0BEC5",
                "#B0BEC5",
                "#B0BEC5",
                "#B0BEC5",
                "#B0BEC5",
                "#B0BEC5",
                "#B0BEC5",
                "#B0BEC5",
                "#B0BEC5",
                "#B0BEC5",
                "#B0BEC5",
                "#B0BEC5",
                "red",
                "#B0BEC5",
                "#B0BEC5",
                "#B0BEC5",
                "#B0BEC5",
                "#B0BEC5",
                "#B0BEC5",
                "#B0BEC5",
                "#B0BEC5",
                "#B0BEC5",
                "#B0BEC5",
                "#B0BEC5",
                "#B0BEC5",
                "#B0BEC5",
                "#B0BEC5",
                "#B0BEC5",
                "#B0BEC5",
                "#B0BEC5",
                "#B0BEC5",
                "#B0BEC5",
                "#B0BEC5",
                "#B0BEC5",
                "#B0BEC5",
                "#B0BEC5",
                "#B0BEC5",
                "#B0BEC5",
                "#B0BEC5",
                "#B0BEC5"
               ]
              ]
             }
            ],
            "label": "Topic 35",
            "method": "update"
           },
           {
            "args": [
             {
              "marker.color": [
               [
                "#B0BEC5",
                "#B0BEC5",
                "#B0BEC5",
                "#B0BEC5",
                "#B0BEC5",
                "#B0BEC5",
                "#B0BEC5",
                "#B0BEC5",
                "#B0BEC5",
                "#B0BEC5",
                "#B0BEC5",
                "#B0BEC5",
                "#B0BEC5",
                "#B0BEC5",
                "#B0BEC5",
                "#B0BEC5",
                "#B0BEC5",
                "#B0BEC5",
                "#B0BEC5",
                "#B0BEC5",
                "#B0BEC5",
                "#B0BEC5",
                "#B0BEC5",
                "#B0BEC5",
                "#B0BEC5",
                "#B0BEC5",
                "#B0BEC5",
                "#B0BEC5",
                "#B0BEC5",
                "#B0BEC5",
                "#B0BEC5",
                "#B0BEC5",
                "#B0BEC5",
                "#B0BEC5",
                "#B0BEC5",
                "#B0BEC5",
                "red",
                "#B0BEC5",
                "#B0BEC5",
                "#B0BEC5",
                "#B0BEC5",
                "#B0BEC5",
                "#B0BEC5",
                "#B0BEC5",
                "#B0BEC5",
                "#B0BEC5",
                "#B0BEC5",
                "#B0BEC5",
                "#B0BEC5",
                "#B0BEC5",
                "#B0BEC5",
                "#B0BEC5",
                "#B0BEC5",
                "#B0BEC5",
                "#B0BEC5",
                "#B0BEC5",
                "#B0BEC5",
                "#B0BEC5",
                "#B0BEC5",
                "#B0BEC5",
                "#B0BEC5",
                "#B0BEC5",
                "#B0BEC5"
               ]
              ]
             }
            ],
            "label": "Topic 36",
            "method": "update"
           },
           {
            "args": [
             {
              "marker.color": [
               [
                "#B0BEC5",
                "#B0BEC5",
                "#B0BEC5",
                "#B0BEC5",
                "#B0BEC5",
                "#B0BEC5",
                "#B0BEC5",
                "#B0BEC5",
                "#B0BEC5",
                "#B0BEC5",
                "#B0BEC5",
                "#B0BEC5",
                "#B0BEC5",
                "#B0BEC5",
                "#B0BEC5",
                "#B0BEC5",
                "#B0BEC5",
                "#B0BEC5",
                "#B0BEC5",
                "#B0BEC5",
                "#B0BEC5",
                "#B0BEC5",
                "#B0BEC5",
                "#B0BEC5",
                "#B0BEC5",
                "#B0BEC5",
                "#B0BEC5",
                "#B0BEC5",
                "#B0BEC5",
                "#B0BEC5",
                "#B0BEC5",
                "#B0BEC5",
                "#B0BEC5",
                "#B0BEC5",
                "#B0BEC5",
                "#B0BEC5",
                "#B0BEC5",
                "red",
                "#B0BEC5",
                "#B0BEC5",
                "#B0BEC5",
                "#B0BEC5",
                "#B0BEC5",
                "#B0BEC5",
                "#B0BEC5",
                "#B0BEC5",
                "#B0BEC5",
                "#B0BEC5",
                "#B0BEC5",
                "#B0BEC5",
                "#B0BEC5",
                "#B0BEC5",
                "#B0BEC5",
                "#B0BEC5",
                "#B0BEC5",
                "#B0BEC5",
                "#B0BEC5",
                "#B0BEC5",
                "#B0BEC5",
                "#B0BEC5",
                "#B0BEC5",
                "#B0BEC5",
                "#B0BEC5"
               ]
              ]
             }
            ],
            "label": "Topic 37",
            "method": "update"
           },
           {
            "args": [
             {
              "marker.color": [
               [
                "#B0BEC5",
                "#B0BEC5",
                "#B0BEC5",
                "#B0BEC5",
                "#B0BEC5",
                "#B0BEC5",
                "#B0BEC5",
                "#B0BEC5",
                "#B0BEC5",
                "#B0BEC5",
                "#B0BEC5",
                "#B0BEC5",
                "#B0BEC5",
                "#B0BEC5",
                "#B0BEC5",
                "#B0BEC5",
                "#B0BEC5",
                "#B0BEC5",
                "#B0BEC5",
                "#B0BEC5",
                "#B0BEC5",
                "#B0BEC5",
                "#B0BEC5",
                "#B0BEC5",
                "#B0BEC5",
                "#B0BEC5",
                "#B0BEC5",
                "#B0BEC5",
                "#B0BEC5",
                "#B0BEC5",
                "#B0BEC5",
                "#B0BEC5",
                "#B0BEC5",
                "#B0BEC5",
                "#B0BEC5",
                "#B0BEC5",
                "#B0BEC5",
                "#B0BEC5",
                "red",
                "#B0BEC5",
                "#B0BEC5",
                "#B0BEC5",
                "#B0BEC5",
                "#B0BEC5",
                "#B0BEC5",
                "#B0BEC5",
                "#B0BEC5",
                "#B0BEC5",
                "#B0BEC5",
                "#B0BEC5",
                "#B0BEC5",
                "#B0BEC5",
                "#B0BEC5",
                "#B0BEC5",
                "#B0BEC5",
                "#B0BEC5",
                "#B0BEC5",
                "#B0BEC5",
                "#B0BEC5",
                "#B0BEC5",
                "#B0BEC5",
                "#B0BEC5",
                "#B0BEC5"
               ]
              ]
             }
            ],
            "label": "Topic 38",
            "method": "update"
           },
           {
            "args": [
             {
              "marker.color": [
               [
                "#B0BEC5",
                "#B0BEC5",
                "#B0BEC5",
                "#B0BEC5",
                "#B0BEC5",
                "#B0BEC5",
                "#B0BEC5",
                "#B0BEC5",
                "#B0BEC5",
                "#B0BEC5",
                "#B0BEC5",
                "#B0BEC5",
                "#B0BEC5",
                "#B0BEC5",
                "#B0BEC5",
                "#B0BEC5",
                "#B0BEC5",
                "#B0BEC5",
                "#B0BEC5",
                "#B0BEC5",
                "#B0BEC5",
                "#B0BEC5",
                "#B0BEC5",
                "#B0BEC5",
                "#B0BEC5",
                "#B0BEC5",
                "#B0BEC5",
                "#B0BEC5",
                "#B0BEC5",
                "#B0BEC5",
                "#B0BEC5",
                "#B0BEC5",
                "#B0BEC5",
                "#B0BEC5",
                "#B0BEC5",
                "#B0BEC5",
                "#B0BEC5",
                "#B0BEC5",
                "#B0BEC5",
                "red",
                "#B0BEC5",
                "#B0BEC5",
                "#B0BEC5",
                "#B0BEC5",
                "#B0BEC5",
                "#B0BEC5",
                "#B0BEC5",
                "#B0BEC5",
                "#B0BEC5",
                "#B0BEC5",
                "#B0BEC5",
                "#B0BEC5",
                "#B0BEC5",
                "#B0BEC5",
                "#B0BEC5",
                "#B0BEC5",
                "#B0BEC5",
                "#B0BEC5",
                "#B0BEC5",
                "#B0BEC5",
                "#B0BEC5",
                "#B0BEC5",
                "#B0BEC5"
               ]
              ]
             }
            ],
            "label": "Topic 39",
            "method": "update"
           },
           {
            "args": [
             {
              "marker.color": [
               [
                "#B0BEC5",
                "#B0BEC5",
                "#B0BEC5",
                "#B0BEC5",
                "#B0BEC5",
                "#B0BEC5",
                "#B0BEC5",
                "#B0BEC5",
                "#B0BEC5",
                "#B0BEC5",
                "#B0BEC5",
                "#B0BEC5",
                "#B0BEC5",
                "#B0BEC5",
                "#B0BEC5",
                "#B0BEC5",
                "#B0BEC5",
                "#B0BEC5",
                "#B0BEC5",
                "#B0BEC5",
                "#B0BEC5",
                "#B0BEC5",
                "#B0BEC5",
                "#B0BEC5",
                "#B0BEC5",
                "#B0BEC5",
                "#B0BEC5",
                "#B0BEC5",
                "#B0BEC5",
                "#B0BEC5",
                "#B0BEC5",
                "#B0BEC5",
                "#B0BEC5",
                "#B0BEC5",
                "#B0BEC5",
                "#B0BEC5",
                "#B0BEC5",
                "#B0BEC5",
                "#B0BEC5",
                "#B0BEC5",
                "red",
                "#B0BEC5",
                "#B0BEC5",
                "#B0BEC5",
                "#B0BEC5",
                "#B0BEC5",
                "#B0BEC5",
                "#B0BEC5",
                "#B0BEC5",
                "#B0BEC5",
                "#B0BEC5",
                "#B0BEC5",
                "#B0BEC5",
                "#B0BEC5",
                "#B0BEC5",
                "#B0BEC5",
                "#B0BEC5",
                "#B0BEC5",
                "#B0BEC5",
                "#B0BEC5",
                "#B0BEC5",
                "#B0BEC5",
                "#B0BEC5"
               ]
              ]
             }
            ],
            "label": "Topic 40",
            "method": "update"
           },
           {
            "args": [
             {
              "marker.color": [
               [
                "#B0BEC5",
                "#B0BEC5",
                "#B0BEC5",
                "#B0BEC5",
                "#B0BEC5",
                "#B0BEC5",
                "#B0BEC5",
                "#B0BEC5",
                "#B0BEC5",
                "#B0BEC5",
                "#B0BEC5",
                "#B0BEC5",
                "#B0BEC5",
                "#B0BEC5",
                "#B0BEC5",
                "#B0BEC5",
                "#B0BEC5",
                "#B0BEC5",
                "#B0BEC5",
                "#B0BEC5",
                "#B0BEC5",
                "#B0BEC5",
                "#B0BEC5",
                "#B0BEC5",
                "#B0BEC5",
                "#B0BEC5",
                "#B0BEC5",
                "#B0BEC5",
                "#B0BEC5",
                "#B0BEC5",
                "#B0BEC5",
                "#B0BEC5",
                "#B0BEC5",
                "#B0BEC5",
                "#B0BEC5",
                "#B0BEC5",
                "#B0BEC5",
                "#B0BEC5",
                "#B0BEC5",
                "#B0BEC5",
                "#B0BEC5",
                "red",
                "#B0BEC5",
                "#B0BEC5",
                "#B0BEC5",
                "#B0BEC5",
                "#B0BEC5",
                "#B0BEC5",
                "#B0BEC5",
                "#B0BEC5",
                "#B0BEC5",
                "#B0BEC5",
                "#B0BEC5",
                "#B0BEC5",
                "#B0BEC5",
                "#B0BEC5",
                "#B0BEC5",
                "#B0BEC5",
                "#B0BEC5",
                "#B0BEC5",
                "#B0BEC5",
                "#B0BEC5",
                "#B0BEC5"
               ]
              ]
             }
            ],
            "label": "Topic 41",
            "method": "update"
           },
           {
            "args": [
             {
              "marker.color": [
               [
                "#B0BEC5",
                "#B0BEC5",
                "#B0BEC5",
                "#B0BEC5",
                "#B0BEC5",
                "#B0BEC5",
                "#B0BEC5",
                "#B0BEC5",
                "#B0BEC5",
                "#B0BEC5",
                "#B0BEC5",
                "#B0BEC5",
                "#B0BEC5",
                "#B0BEC5",
                "#B0BEC5",
                "#B0BEC5",
                "#B0BEC5",
                "#B0BEC5",
                "#B0BEC5",
                "#B0BEC5",
                "#B0BEC5",
                "#B0BEC5",
                "#B0BEC5",
                "#B0BEC5",
                "#B0BEC5",
                "#B0BEC5",
                "#B0BEC5",
                "#B0BEC5",
                "#B0BEC5",
                "#B0BEC5",
                "#B0BEC5",
                "#B0BEC5",
                "#B0BEC5",
                "#B0BEC5",
                "#B0BEC5",
                "#B0BEC5",
                "#B0BEC5",
                "#B0BEC5",
                "#B0BEC5",
                "#B0BEC5",
                "#B0BEC5",
                "#B0BEC5",
                "red",
                "#B0BEC5",
                "#B0BEC5",
                "#B0BEC5",
                "#B0BEC5",
                "#B0BEC5",
                "#B0BEC5",
                "#B0BEC5",
                "#B0BEC5",
                "#B0BEC5",
                "#B0BEC5",
                "#B0BEC5",
                "#B0BEC5",
                "#B0BEC5",
                "#B0BEC5",
                "#B0BEC5",
                "#B0BEC5",
                "#B0BEC5",
                "#B0BEC5",
                "#B0BEC5",
                "#B0BEC5"
               ]
              ]
             }
            ],
            "label": "Topic 42",
            "method": "update"
           },
           {
            "args": [
             {
              "marker.color": [
               [
                "#B0BEC5",
                "#B0BEC5",
                "#B0BEC5",
                "#B0BEC5",
                "#B0BEC5",
                "#B0BEC5",
                "#B0BEC5",
                "#B0BEC5",
                "#B0BEC5",
                "#B0BEC5",
                "#B0BEC5",
                "#B0BEC5",
                "#B0BEC5",
                "#B0BEC5",
                "#B0BEC5",
                "#B0BEC5",
                "#B0BEC5",
                "#B0BEC5",
                "#B0BEC5",
                "#B0BEC5",
                "#B0BEC5",
                "#B0BEC5",
                "#B0BEC5",
                "#B0BEC5",
                "#B0BEC5",
                "#B0BEC5",
                "#B0BEC5",
                "#B0BEC5",
                "#B0BEC5",
                "#B0BEC5",
                "#B0BEC5",
                "#B0BEC5",
                "#B0BEC5",
                "#B0BEC5",
                "#B0BEC5",
                "#B0BEC5",
                "#B0BEC5",
                "#B0BEC5",
                "#B0BEC5",
                "#B0BEC5",
                "#B0BEC5",
                "#B0BEC5",
                "#B0BEC5",
                "red",
                "#B0BEC5",
                "#B0BEC5",
                "#B0BEC5",
                "#B0BEC5",
                "#B0BEC5",
                "#B0BEC5",
                "#B0BEC5",
                "#B0BEC5",
                "#B0BEC5",
                "#B0BEC5",
                "#B0BEC5",
                "#B0BEC5",
                "#B0BEC5",
                "#B0BEC5",
                "#B0BEC5",
                "#B0BEC5",
                "#B0BEC5",
                "#B0BEC5",
                "#B0BEC5"
               ]
              ]
             }
            ],
            "label": "Topic 43",
            "method": "update"
           },
           {
            "args": [
             {
              "marker.color": [
               [
                "#B0BEC5",
                "#B0BEC5",
                "#B0BEC5",
                "#B0BEC5",
                "#B0BEC5",
                "#B0BEC5",
                "#B0BEC5",
                "#B0BEC5",
                "#B0BEC5",
                "#B0BEC5",
                "#B0BEC5",
                "#B0BEC5",
                "#B0BEC5",
                "#B0BEC5",
                "#B0BEC5",
                "#B0BEC5",
                "#B0BEC5",
                "#B0BEC5",
                "#B0BEC5",
                "#B0BEC5",
                "#B0BEC5",
                "#B0BEC5",
                "#B0BEC5",
                "#B0BEC5",
                "#B0BEC5",
                "#B0BEC5",
                "#B0BEC5",
                "#B0BEC5",
                "#B0BEC5",
                "#B0BEC5",
                "#B0BEC5",
                "#B0BEC5",
                "#B0BEC5",
                "#B0BEC5",
                "#B0BEC5",
                "#B0BEC5",
                "#B0BEC5",
                "#B0BEC5",
                "#B0BEC5",
                "#B0BEC5",
                "#B0BEC5",
                "#B0BEC5",
                "#B0BEC5",
                "#B0BEC5",
                "red",
                "#B0BEC5",
                "#B0BEC5",
                "#B0BEC5",
                "#B0BEC5",
                "#B0BEC5",
                "#B0BEC5",
                "#B0BEC5",
                "#B0BEC5",
                "#B0BEC5",
                "#B0BEC5",
                "#B0BEC5",
                "#B0BEC5",
                "#B0BEC5",
                "#B0BEC5",
                "#B0BEC5",
                "#B0BEC5",
                "#B0BEC5",
                "#B0BEC5"
               ]
              ]
             }
            ],
            "label": "Topic 44",
            "method": "update"
           },
           {
            "args": [
             {
              "marker.color": [
               [
                "#B0BEC5",
                "#B0BEC5",
                "#B0BEC5",
                "#B0BEC5",
                "#B0BEC5",
                "#B0BEC5",
                "#B0BEC5",
                "#B0BEC5",
                "#B0BEC5",
                "#B0BEC5",
                "#B0BEC5",
                "#B0BEC5",
                "#B0BEC5",
                "#B0BEC5",
                "#B0BEC5",
                "#B0BEC5",
                "#B0BEC5",
                "#B0BEC5",
                "#B0BEC5",
                "#B0BEC5",
                "#B0BEC5",
                "#B0BEC5",
                "#B0BEC5",
                "#B0BEC5",
                "#B0BEC5",
                "#B0BEC5",
                "#B0BEC5",
                "#B0BEC5",
                "#B0BEC5",
                "#B0BEC5",
                "#B0BEC5",
                "#B0BEC5",
                "#B0BEC5",
                "#B0BEC5",
                "#B0BEC5",
                "#B0BEC5",
                "#B0BEC5",
                "#B0BEC5",
                "#B0BEC5",
                "#B0BEC5",
                "#B0BEC5",
                "#B0BEC5",
                "#B0BEC5",
                "#B0BEC5",
                "#B0BEC5",
                "red",
                "#B0BEC5",
                "#B0BEC5",
                "#B0BEC5",
                "#B0BEC5",
                "#B0BEC5",
                "#B0BEC5",
                "#B0BEC5",
                "#B0BEC5",
                "#B0BEC5",
                "#B0BEC5",
                "#B0BEC5",
                "#B0BEC5",
                "#B0BEC5",
                "#B0BEC5",
                "#B0BEC5",
                "#B0BEC5",
                "#B0BEC5"
               ]
              ]
             }
            ],
            "label": "Topic 45",
            "method": "update"
           },
           {
            "args": [
             {
              "marker.color": [
               [
                "#B0BEC5",
                "#B0BEC5",
                "#B0BEC5",
                "#B0BEC5",
                "#B0BEC5",
                "#B0BEC5",
                "#B0BEC5",
                "#B0BEC5",
                "#B0BEC5",
                "#B0BEC5",
                "#B0BEC5",
                "#B0BEC5",
                "#B0BEC5",
                "#B0BEC5",
                "#B0BEC5",
                "#B0BEC5",
                "#B0BEC5",
                "#B0BEC5",
                "#B0BEC5",
                "#B0BEC5",
                "#B0BEC5",
                "#B0BEC5",
                "#B0BEC5",
                "#B0BEC5",
                "#B0BEC5",
                "#B0BEC5",
                "#B0BEC5",
                "#B0BEC5",
                "#B0BEC5",
                "#B0BEC5",
                "#B0BEC5",
                "#B0BEC5",
                "#B0BEC5",
                "#B0BEC5",
                "#B0BEC5",
                "#B0BEC5",
                "#B0BEC5",
                "#B0BEC5",
                "#B0BEC5",
                "#B0BEC5",
                "#B0BEC5",
                "#B0BEC5",
                "#B0BEC5",
                "#B0BEC5",
                "#B0BEC5",
                "#B0BEC5",
                "red",
                "#B0BEC5",
                "#B0BEC5",
                "#B0BEC5",
                "#B0BEC5",
                "#B0BEC5",
                "#B0BEC5",
                "#B0BEC5",
                "#B0BEC5",
                "#B0BEC5",
                "#B0BEC5",
                "#B0BEC5",
                "#B0BEC5",
                "#B0BEC5",
                "#B0BEC5",
                "#B0BEC5",
                "#B0BEC5"
               ]
              ]
             }
            ],
            "label": "Topic 46",
            "method": "update"
           },
           {
            "args": [
             {
              "marker.color": [
               [
                "#B0BEC5",
                "#B0BEC5",
                "#B0BEC5",
                "#B0BEC5",
                "#B0BEC5",
                "#B0BEC5",
                "#B0BEC5",
                "#B0BEC5",
                "#B0BEC5",
                "#B0BEC5",
                "#B0BEC5",
                "#B0BEC5",
                "#B0BEC5",
                "#B0BEC5",
                "#B0BEC5",
                "#B0BEC5",
                "#B0BEC5",
                "#B0BEC5",
                "#B0BEC5",
                "#B0BEC5",
                "#B0BEC5",
                "#B0BEC5",
                "#B0BEC5",
                "#B0BEC5",
                "#B0BEC5",
                "#B0BEC5",
                "#B0BEC5",
                "#B0BEC5",
                "#B0BEC5",
                "#B0BEC5",
                "#B0BEC5",
                "#B0BEC5",
                "#B0BEC5",
                "#B0BEC5",
                "#B0BEC5",
                "#B0BEC5",
                "#B0BEC5",
                "#B0BEC5",
                "#B0BEC5",
                "#B0BEC5",
                "#B0BEC5",
                "#B0BEC5",
                "#B0BEC5",
                "#B0BEC5",
                "#B0BEC5",
                "#B0BEC5",
                "#B0BEC5",
                "red",
                "#B0BEC5",
                "#B0BEC5",
                "#B0BEC5",
                "#B0BEC5",
                "#B0BEC5",
                "#B0BEC5",
                "#B0BEC5",
                "#B0BEC5",
                "#B0BEC5",
                "#B0BEC5",
                "#B0BEC5",
                "#B0BEC5",
                "#B0BEC5",
                "#B0BEC5",
                "#B0BEC5"
               ]
              ]
             }
            ],
            "label": "Topic 47",
            "method": "update"
           },
           {
            "args": [
             {
              "marker.color": [
               [
                "#B0BEC5",
                "#B0BEC5",
                "#B0BEC5",
                "#B0BEC5",
                "#B0BEC5",
                "#B0BEC5",
                "#B0BEC5",
                "#B0BEC5",
                "#B0BEC5",
                "#B0BEC5",
                "#B0BEC5",
                "#B0BEC5",
                "#B0BEC5",
                "#B0BEC5",
                "#B0BEC5",
                "#B0BEC5",
                "#B0BEC5",
                "#B0BEC5",
                "#B0BEC5",
                "#B0BEC5",
                "#B0BEC5",
                "#B0BEC5",
                "#B0BEC5",
                "#B0BEC5",
                "#B0BEC5",
                "#B0BEC5",
                "#B0BEC5",
                "#B0BEC5",
                "#B0BEC5",
                "#B0BEC5",
                "#B0BEC5",
                "#B0BEC5",
                "#B0BEC5",
                "#B0BEC5",
                "#B0BEC5",
                "#B0BEC5",
                "#B0BEC5",
                "#B0BEC5",
                "#B0BEC5",
                "#B0BEC5",
                "#B0BEC5",
                "#B0BEC5",
                "#B0BEC5",
                "#B0BEC5",
                "#B0BEC5",
                "#B0BEC5",
                "#B0BEC5",
                "#B0BEC5",
                "red",
                "#B0BEC5",
                "#B0BEC5",
                "#B0BEC5",
                "#B0BEC5",
                "#B0BEC5",
                "#B0BEC5",
                "#B0BEC5",
                "#B0BEC5",
                "#B0BEC5",
                "#B0BEC5",
                "#B0BEC5",
                "#B0BEC5",
                "#B0BEC5",
                "#B0BEC5"
               ]
              ]
             }
            ],
            "label": "Topic 48",
            "method": "update"
           },
           {
            "args": [
             {
              "marker.color": [
               [
                "#B0BEC5",
                "#B0BEC5",
                "#B0BEC5",
                "#B0BEC5",
                "#B0BEC5",
                "#B0BEC5",
                "#B0BEC5",
                "#B0BEC5",
                "#B0BEC5",
                "#B0BEC5",
                "#B0BEC5",
                "#B0BEC5",
                "#B0BEC5",
                "#B0BEC5",
                "#B0BEC5",
                "#B0BEC5",
                "#B0BEC5",
                "#B0BEC5",
                "#B0BEC5",
                "#B0BEC5",
                "#B0BEC5",
                "#B0BEC5",
                "#B0BEC5",
                "#B0BEC5",
                "#B0BEC5",
                "#B0BEC5",
                "#B0BEC5",
                "#B0BEC5",
                "#B0BEC5",
                "#B0BEC5",
                "#B0BEC5",
                "#B0BEC5",
                "#B0BEC5",
                "#B0BEC5",
                "#B0BEC5",
                "#B0BEC5",
                "#B0BEC5",
                "#B0BEC5",
                "#B0BEC5",
                "#B0BEC5",
                "#B0BEC5",
                "#B0BEC5",
                "#B0BEC5",
                "#B0BEC5",
                "#B0BEC5",
                "#B0BEC5",
                "#B0BEC5",
                "#B0BEC5",
                "#B0BEC5",
                "red",
                "#B0BEC5",
                "#B0BEC5",
                "#B0BEC5",
                "#B0BEC5",
                "#B0BEC5",
                "#B0BEC5",
                "#B0BEC5",
                "#B0BEC5",
                "#B0BEC5",
                "#B0BEC5",
                "#B0BEC5",
                "#B0BEC5",
                "#B0BEC5"
               ]
              ]
             }
            ],
            "label": "Topic 49",
            "method": "update"
           },
           {
            "args": [
             {
              "marker.color": [
               [
                "#B0BEC5",
                "#B0BEC5",
                "#B0BEC5",
                "#B0BEC5",
                "#B0BEC5",
                "#B0BEC5",
                "#B0BEC5",
                "#B0BEC5",
                "#B0BEC5",
                "#B0BEC5",
                "#B0BEC5",
                "#B0BEC5",
                "#B0BEC5",
                "#B0BEC5",
                "#B0BEC5",
                "#B0BEC5",
                "#B0BEC5",
                "#B0BEC5",
                "#B0BEC5",
                "#B0BEC5",
                "#B0BEC5",
                "#B0BEC5",
                "#B0BEC5",
                "#B0BEC5",
                "#B0BEC5",
                "#B0BEC5",
                "#B0BEC5",
                "#B0BEC5",
                "#B0BEC5",
                "#B0BEC5",
                "#B0BEC5",
                "#B0BEC5",
                "#B0BEC5",
                "#B0BEC5",
                "#B0BEC5",
                "#B0BEC5",
                "#B0BEC5",
                "#B0BEC5",
                "#B0BEC5",
                "#B0BEC5",
                "#B0BEC5",
                "#B0BEC5",
                "#B0BEC5",
                "#B0BEC5",
                "#B0BEC5",
                "#B0BEC5",
                "#B0BEC5",
                "#B0BEC5",
                "#B0BEC5",
                "#B0BEC5",
                "red",
                "#B0BEC5",
                "#B0BEC5",
                "#B0BEC5",
                "#B0BEC5",
                "#B0BEC5",
                "#B0BEC5",
                "#B0BEC5",
                "#B0BEC5",
                "#B0BEC5",
                "#B0BEC5",
                "#B0BEC5",
                "#B0BEC5"
               ]
              ]
             }
            ],
            "label": "Topic 50",
            "method": "update"
           },
           {
            "args": [
             {
              "marker.color": [
               [
                "#B0BEC5",
                "#B0BEC5",
                "#B0BEC5",
                "#B0BEC5",
                "#B0BEC5",
                "#B0BEC5",
                "#B0BEC5",
                "#B0BEC5",
                "#B0BEC5",
                "#B0BEC5",
                "#B0BEC5",
                "#B0BEC5",
                "#B0BEC5",
                "#B0BEC5",
                "#B0BEC5",
                "#B0BEC5",
                "#B0BEC5",
                "#B0BEC5",
                "#B0BEC5",
                "#B0BEC5",
                "#B0BEC5",
                "#B0BEC5",
                "#B0BEC5",
                "#B0BEC5",
                "#B0BEC5",
                "#B0BEC5",
                "#B0BEC5",
                "#B0BEC5",
                "#B0BEC5",
                "#B0BEC5",
                "#B0BEC5",
                "#B0BEC5",
                "#B0BEC5",
                "#B0BEC5",
                "#B0BEC5",
                "#B0BEC5",
                "#B0BEC5",
                "#B0BEC5",
                "#B0BEC5",
                "#B0BEC5",
                "#B0BEC5",
                "#B0BEC5",
                "#B0BEC5",
                "#B0BEC5",
                "#B0BEC5",
                "#B0BEC5",
                "#B0BEC5",
                "#B0BEC5",
                "#B0BEC5",
                "#B0BEC5",
                "#B0BEC5",
                "red",
                "#B0BEC5",
                "#B0BEC5",
                "#B0BEC5",
                "#B0BEC5",
                "#B0BEC5",
                "#B0BEC5",
                "#B0BEC5",
                "#B0BEC5",
                "#B0BEC5",
                "#B0BEC5",
                "#B0BEC5"
               ]
              ]
             }
            ],
            "label": "Topic 51",
            "method": "update"
           },
           {
            "args": [
             {
              "marker.color": [
               [
                "#B0BEC5",
                "#B0BEC5",
                "#B0BEC5",
                "#B0BEC5",
                "#B0BEC5",
                "#B0BEC5",
                "#B0BEC5",
                "#B0BEC5",
                "#B0BEC5",
                "#B0BEC5",
                "#B0BEC5",
                "#B0BEC5",
                "#B0BEC5",
                "#B0BEC5",
                "#B0BEC5",
                "#B0BEC5",
                "#B0BEC5",
                "#B0BEC5",
                "#B0BEC5",
                "#B0BEC5",
                "#B0BEC5",
                "#B0BEC5",
                "#B0BEC5",
                "#B0BEC5",
                "#B0BEC5",
                "#B0BEC5",
                "#B0BEC5",
                "#B0BEC5",
                "#B0BEC5",
                "#B0BEC5",
                "#B0BEC5",
                "#B0BEC5",
                "#B0BEC5",
                "#B0BEC5",
                "#B0BEC5",
                "#B0BEC5",
                "#B0BEC5",
                "#B0BEC5",
                "#B0BEC5",
                "#B0BEC5",
                "#B0BEC5",
                "#B0BEC5",
                "#B0BEC5",
                "#B0BEC5",
                "#B0BEC5",
                "#B0BEC5",
                "#B0BEC5",
                "#B0BEC5",
                "#B0BEC5",
                "#B0BEC5",
                "#B0BEC5",
                "#B0BEC5",
                "red",
                "#B0BEC5",
                "#B0BEC5",
                "#B0BEC5",
                "#B0BEC5",
                "#B0BEC5",
                "#B0BEC5",
                "#B0BEC5",
                "#B0BEC5",
                "#B0BEC5",
                "#B0BEC5"
               ]
              ]
             }
            ],
            "label": "Topic 52",
            "method": "update"
           },
           {
            "args": [
             {
              "marker.color": [
               [
                "#B0BEC5",
                "#B0BEC5",
                "#B0BEC5",
                "#B0BEC5",
                "#B0BEC5",
                "#B0BEC5",
                "#B0BEC5",
                "#B0BEC5",
                "#B0BEC5",
                "#B0BEC5",
                "#B0BEC5",
                "#B0BEC5",
                "#B0BEC5",
                "#B0BEC5",
                "#B0BEC5",
                "#B0BEC5",
                "#B0BEC5",
                "#B0BEC5",
                "#B0BEC5",
                "#B0BEC5",
                "#B0BEC5",
                "#B0BEC5",
                "#B0BEC5",
                "#B0BEC5",
                "#B0BEC5",
                "#B0BEC5",
                "#B0BEC5",
                "#B0BEC5",
                "#B0BEC5",
                "#B0BEC5",
                "#B0BEC5",
                "#B0BEC5",
                "#B0BEC5",
                "#B0BEC5",
                "#B0BEC5",
                "#B0BEC5",
                "#B0BEC5",
                "#B0BEC5",
                "#B0BEC5",
                "#B0BEC5",
                "#B0BEC5",
                "#B0BEC5",
                "#B0BEC5",
                "#B0BEC5",
                "#B0BEC5",
                "#B0BEC5",
                "#B0BEC5",
                "#B0BEC5",
                "#B0BEC5",
                "#B0BEC5",
                "#B0BEC5",
                "#B0BEC5",
                "#B0BEC5",
                "red",
                "#B0BEC5",
                "#B0BEC5",
                "#B0BEC5",
                "#B0BEC5",
                "#B0BEC5",
                "#B0BEC5",
                "#B0BEC5",
                "#B0BEC5",
                "#B0BEC5"
               ]
              ]
             }
            ],
            "label": "Topic 53",
            "method": "update"
           },
           {
            "args": [
             {
              "marker.color": [
               [
                "#B0BEC5",
                "#B0BEC5",
                "#B0BEC5",
                "#B0BEC5",
                "#B0BEC5",
                "#B0BEC5",
                "#B0BEC5",
                "#B0BEC5",
                "#B0BEC5",
                "#B0BEC5",
                "#B0BEC5",
                "#B0BEC5",
                "#B0BEC5",
                "#B0BEC5",
                "#B0BEC5",
                "#B0BEC5",
                "#B0BEC5",
                "#B0BEC5",
                "#B0BEC5",
                "#B0BEC5",
                "#B0BEC5",
                "#B0BEC5",
                "#B0BEC5",
                "#B0BEC5",
                "#B0BEC5",
                "#B0BEC5",
                "#B0BEC5",
                "#B0BEC5",
                "#B0BEC5",
                "#B0BEC5",
                "#B0BEC5",
                "#B0BEC5",
                "#B0BEC5",
                "#B0BEC5",
                "#B0BEC5",
                "#B0BEC5",
                "#B0BEC5",
                "#B0BEC5",
                "#B0BEC5",
                "#B0BEC5",
                "#B0BEC5",
                "#B0BEC5",
                "#B0BEC5",
                "#B0BEC5",
                "#B0BEC5",
                "#B0BEC5",
                "#B0BEC5",
                "#B0BEC5",
                "#B0BEC5",
                "#B0BEC5",
                "#B0BEC5",
                "#B0BEC5",
                "#B0BEC5",
                "#B0BEC5",
                "red",
                "#B0BEC5",
                "#B0BEC5",
                "#B0BEC5",
                "#B0BEC5",
                "#B0BEC5",
                "#B0BEC5",
                "#B0BEC5",
                "#B0BEC5"
               ]
              ]
             }
            ],
            "label": "Topic 54",
            "method": "update"
           },
           {
            "args": [
             {
              "marker.color": [
               [
                "#B0BEC5",
                "#B0BEC5",
                "#B0BEC5",
                "#B0BEC5",
                "#B0BEC5",
                "#B0BEC5",
                "#B0BEC5",
                "#B0BEC5",
                "#B0BEC5",
                "#B0BEC5",
                "#B0BEC5",
                "#B0BEC5",
                "#B0BEC5",
                "#B0BEC5",
                "#B0BEC5",
                "#B0BEC5",
                "#B0BEC5",
                "#B0BEC5",
                "#B0BEC5",
                "#B0BEC5",
                "#B0BEC5",
                "#B0BEC5",
                "#B0BEC5",
                "#B0BEC5",
                "#B0BEC5",
                "#B0BEC5",
                "#B0BEC5",
                "#B0BEC5",
                "#B0BEC5",
                "#B0BEC5",
                "#B0BEC5",
                "#B0BEC5",
                "#B0BEC5",
                "#B0BEC5",
                "#B0BEC5",
                "#B0BEC5",
                "#B0BEC5",
                "#B0BEC5",
                "#B0BEC5",
                "#B0BEC5",
                "#B0BEC5",
                "#B0BEC5",
                "#B0BEC5",
                "#B0BEC5",
                "#B0BEC5",
                "#B0BEC5",
                "#B0BEC5",
                "#B0BEC5",
                "#B0BEC5",
                "#B0BEC5",
                "#B0BEC5",
                "#B0BEC5",
                "#B0BEC5",
                "#B0BEC5",
                "#B0BEC5",
                "red",
                "#B0BEC5",
                "#B0BEC5",
                "#B0BEC5",
                "#B0BEC5",
                "#B0BEC5",
                "#B0BEC5",
                "#B0BEC5"
               ]
              ]
             }
            ],
            "label": "Topic 55",
            "method": "update"
           },
           {
            "args": [
             {
              "marker.color": [
               [
                "#B0BEC5",
                "#B0BEC5",
                "#B0BEC5",
                "#B0BEC5",
                "#B0BEC5",
                "#B0BEC5",
                "#B0BEC5",
                "#B0BEC5",
                "#B0BEC5",
                "#B0BEC5",
                "#B0BEC5",
                "#B0BEC5",
                "#B0BEC5",
                "#B0BEC5",
                "#B0BEC5",
                "#B0BEC5",
                "#B0BEC5",
                "#B0BEC5",
                "#B0BEC5",
                "#B0BEC5",
                "#B0BEC5",
                "#B0BEC5",
                "#B0BEC5",
                "#B0BEC5",
                "#B0BEC5",
                "#B0BEC5",
                "#B0BEC5",
                "#B0BEC5",
                "#B0BEC5",
                "#B0BEC5",
                "#B0BEC5",
                "#B0BEC5",
                "#B0BEC5",
                "#B0BEC5",
                "#B0BEC5",
                "#B0BEC5",
                "#B0BEC5",
                "#B0BEC5",
                "#B0BEC5",
                "#B0BEC5",
                "#B0BEC5",
                "#B0BEC5",
                "#B0BEC5",
                "#B0BEC5",
                "#B0BEC5",
                "#B0BEC5",
                "#B0BEC5",
                "#B0BEC5",
                "#B0BEC5",
                "#B0BEC5",
                "#B0BEC5",
                "#B0BEC5",
                "#B0BEC5",
                "#B0BEC5",
                "#B0BEC5",
                "#B0BEC5",
                "red",
                "#B0BEC5",
                "#B0BEC5",
                "#B0BEC5",
                "#B0BEC5",
                "#B0BEC5",
                "#B0BEC5"
               ]
              ]
             }
            ],
            "label": "Topic 56",
            "method": "update"
           },
           {
            "args": [
             {
              "marker.color": [
               [
                "#B0BEC5",
                "#B0BEC5",
                "#B0BEC5",
                "#B0BEC5",
                "#B0BEC5",
                "#B0BEC5",
                "#B0BEC5",
                "#B0BEC5",
                "#B0BEC5",
                "#B0BEC5",
                "#B0BEC5",
                "#B0BEC5",
                "#B0BEC5",
                "#B0BEC5",
                "#B0BEC5",
                "#B0BEC5",
                "#B0BEC5",
                "#B0BEC5",
                "#B0BEC5",
                "#B0BEC5",
                "#B0BEC5",
                "#B0BEC5",
                "#B0BEC5",
                "#B0BEC5",
                "#B0BEC5",
                "#B0BEC5",
                "#B0BEC5",
                "#B0BEC5",
                "#B0BEC5",
                "#B0BEC5",
                "#B0BEC5",
                "#B0BEC5",
                "#B0BEC5",
                "#B0BEC5",
                "#B0BEC5",
                "#B0BEC5",
                "#B0BEC5",
                "#B0BEC5",
                "#B0BEC5",
                "#B0BEC5",
                "#B0BEC5",
                "#B0BEC5",
                "#B0BEC5",
                "#B0BEC5",
                "#B0BEC5",
                "#B0BEC5",
                "#B0BEC5",
                "#B0BEC5",
                "#B0BEC5",
                "#B0BEC5",
                "#B0BEC5",
                "#B0BEC5",
                "#B0BEC5",
                "#B0BEC5",
                "#B0BEC5",
                "#B0BEC5",
                "#B0BEC5",
                "red",
                "#B0BEC5",
                "#B0BEC5",
                "#B0BEC5",
                "#B0BEC5",
                "#B0BEC5"
               ]
              ]
             }
            ],
            "label": "Topic 57",
            "method": "update"
           },
           {
            "args": [
             {
              "marker.color": [
               [
                "#B0BEC5",
                "#B0BEC5",
                "#B0BEC5",
                "#B0BEC5",
                "#B0BEC5",
                "#B0BEC5",
                "#B0BEC5",
                "#B0BEC5",
                "#B0BEC5",
                "#B0BEC5",
                "#B0BEC5",
                "#B0BEC5",
                "#B0BEC5",
                "#B0BEC5",
                "#B0BEC5",
                "#B0BEC5",
                "#B0BEC5",
                "#B0BEC5",
                "#B0BEC5",
                "#B0BEC5",
                "#B0BEC5",
                "#B0BEC5",
                "#B0BEC5",
                "#B0BEC5",
                "#B0BEC5",
                "#B0BEC5",
                "#B0BEC5",
                "#B0BEC5",
                "#B0BEC5",
                "#B0BEC5",
                "#B0BEC5",
                "#B0BEC5",
                "#B0BEC5",
                "#B0BEC5",
                "#B0BEC5",
                "#B0BEC5",
                "#B0BEC5",
                "#B0BEC5",
                "#B0BEC5",
                "#B0BEC5",
                "#B0BEC5",
                "#B0BEC5",
                "#B0BEC5",
                "#B0BEC5",
                "#B0BEC5",
                "#B0BEC5",
                "#B0BEC5",
                "#B0BEC5",
                "#B0BEC5",
                "#B0BEC5",
                "#B0BEC5",
                "#B0BEC5",
                "#B0BEC5",
                "#B0BEC5",
                "#B0BEC5",
                "#B0BEC5",
                "#B0BEC5",
                "#B0BEC5",
                "red",
                "#B0BEC5",
                "#B0BEC5",
                "#B0BEC5",
                "#B0BEC5"
               ]
              ]
             }
            ],
            "label": "Topic 58",
            "method": "update"
           },
           {
            "args": [
             {
              "marker.color": [
               [
                "#B0BEC5",
                "#B0BEC5",
                "#B0BEC5",
                "#B0BEC5",
                "#B0BEC5",
                "#B0BEC5",
                "#B0BEC5",
                "#B0BEC5",
                "#B0BEC5",
                "#B0BEC5",
                "#B0BEC5",
                "#B0BEC5",
                "#B0BEC5",
                "#B0BEC5",
                "#B0BEC5",
                "#B0BEC5",
                "#B0BEC5",
                "#B0BEC5",
                "#B0BEC5",
                "#B0BEC5",
                "#B0BEC5",
                "#B0BEC5",
                "#B0BEC5",
                "#B0BEC5",
                "#B0BEC5",
                "#B0BEC5",
                "#B0BEC5",
                "#B0BEC5",
                "#B0BEC5",
                "#B0BEC5",
                "#B0BEC5",
                "#B0BEC5",
                "#B0BEC5",
                "#B0BEC5",
                "#B0BEC5",
                "#B0BEC5",
                "#B0BEC5",
                "#B0BEC5",
                "#B0BEC5",
                "#B0BEC5",
                "#B0BEC5",
                "#B0BEC5",
                "#B0BEC5",
                "#B0BEC5",
                "#B0BEC5",
                "#B0BEC5",
                "#B0BEC5",
                "#B0BEC5",
                "#B0BEC5",
                "#B0BEC5",
                "#B0BEC5",
                "#B0BEC5",
                "#B0BEC5",
                "#B0BEC5",
                "#B0BEC5",
                "#B0BEC5",
                "#B0BEC5",
                "#B0BEC5",
                "#B0BEC5",
                "red",
                "#B0BEC5",
                "#B0BEC5",
                "#B0BEC5"
               ]
              ]
             }
            ],
            "label": "Topic 59",
            "method": "update"
           },
           {
            "args": [
             {
              "marker.color": [
               [
                "#B0BEC5",
                "#B0BEC5",
                "#B0BEC5",
                "#B0BEC5",
                "#B0BEC5",
                "#B0BEC5",
                "#B0BEC5",
                "#B0BEC5",
                "#B0BEC5",
                "#B0BEC5",
                "#B0BEC5",
                "#B0BEC5",
                "#B0BEC5",
                "#B0BEC5",
                "#B0BEC5",
                "#B0BEC5",
                "#B0BEC5",
                "#B0BEC5",
                "#B0BEC5",
                "#B0BEC5",
                "#B0BEC5",
                "#B0BEC5",
                "#B0BEC5",
                "#B0BEC5",
                "#B0BEC5",
                "#B0BEC5",
                "#B0BEC5",
                "#B0BEC5",
                "#B0BEC5",
                "#B0BEC5",
                "#B0BEC5",
                "#B0BEC5",
                "#B0BEC5",
                "#B0BEC5",
                "#B0BEC5",
                "#B0BEC5",
                "#B0BEC5",
                "#B0BEC5",
                "#B0BEC5",
                "#B0BEC5",
                "#B0BEC5",
                "#B0BEC5",
                "#B0BEC5",
                "#B0BEC5",
                "#B0BEC5",
                "#B0BEC5",
                "#B0BEC5",
                "#B0BEC5",
                "#B0BEC5",
                "#B0BEC5",
                "#B0BEC5",
                "#B0BEC5",
                "#B0BEC5",
                "#B0BEC5",
                "#B0BEC5",
                "#B0BEC5",
                "#B0BEC5",
                "#B0BEC5",
                "#B0BEC5",
                "#B0BEC5",
                "red",
                "#B0BEC5",
                "#B0BEC5"
               ]
              ]
             }
            ],
            "label": "Topic 60",
            "method": "update"
           },
           {
            "args": [
             {
              "marker.color": [
               [
                "#B0BEC5",
                "#B0BEC5",
                "#B0BEC5",
                "#B0BEC5",
                "#B0BEC5",
                "#B0BEC5",
                "#B0BEC5",
                "#B0BEC5",
                "#B0BEC5",
                "#B0BEC5",
                "#B0BEC5",
                "#B0BEC5",
                "#B0BEC5",
                "#B0BEC5",
                "#B0BEC5",
                "#B0BEC5",
                "#B0BEC5",
                "#B0BEC5",
                "#B0BEC5",
                "#B0BEC5",
                "#B0BEC5",
                "#B0BEC5",
                "#B0BEC5",
                "#B0BEC5",
                "#B0BEC5",
                "#B0BEC5",
                "#B0BEC5",
                "#B0BEC5",
                "#B0BEC5",
                "#B0BEC5",
                "#B0BEC5",
                "#B0BEC5",
                "#B0BEC5",
                "#B0BEC5",
                "#B0BEC5",
                "#B0BEC5",
                "#B0BEC5",
                "#B0BEC5",
                "#B0BEC5",
                "#B0BEC5",
                "#B0BEC5",
                "#B0BEC5",
                "#B0BEC5",
                "#B0BEC5",
                "#B0BEC5",
                "#B0BEC5",
                "#B0BEC5",
                "#B0BEC5",
                "#B0BEC5",
                "#B0BEC5",
                "#B0BEC5",
                "#B0BEC5",
                "#B0BEC5",
                "#B0BEC5",
                "#B0BEC5",
                "#B0BEC5",
                "#B0BEC5",
                "#B0BEC5",
                "#B0BEC5",
                "#B0BEC5",
                "#B0BEC5",
                "red",
                "#B0BEC5"
               ]
              ]
             }
            ],
            "label": "Topic 61",
            "method": "update"
           },
           {
            "args": [
             {
              "marker.color": [
               [
                "#B0BEC5",
                "#B0BEC5",
                "#B0BEC5",
                "#B0BEC5",
                "#B0BEC5",
                "#B0BEC5",
                "#B0BEC5",
                "#B0BEC5",
                "#B0BEC5",
                "#B0BEC5",
                "#B0BEC5",
                "#B0BEC5",
                "#B0BEC5",
                "#B0BEC5",
                "#B0BEC5",
                "#B0BEC5",
                "#B0BEC5",
                "#B0BEC5",
                "#B0BEC5",
                "#B0BEC5",
                "#B0BEC5",
                "#B0BEC5",
                "#B0BEC5",
                "#B0BEC5",
                "#B0BEC5",
                "#B0BEC5",
                "#B0BEC5",
                "#B0BEC5",
                "#B0BEC5",
                "#B0BEC5",
                "#B0BEC5",
                "#B0BEC5",
                "#B0BEC5",
                "#B0BEC5",
                "#B0BEC5",
                "#B0BEC5",
                "#B0BEC5",
                "#B0BEC5",
                "#B0BEC5",
                "#B0BEC5",
                "#B0BEC5",
                "#B0BEC5",
                "#B0BEC5",
                "#B0BEC5",
                "#B0BEC5",
                "#B0BEC5",
                "#B0BEC5",
                "#B0BEC5",
                "#B0BEC5",
                "#B0BEC5",
                "#B0BEC5",
                "#B0BEC5",
                "#B0BEC5",
                "#B0BEC5",
                "#B0BEC5",
                "#B0BEC5",
                "#B0BEC5",
                "#B0BEC5",
                "#B0BEC5",
                "#B0BEC5",
                "#B0BEC5",
                "#B0BEC5",
                "red"
               ]
              ]
             }
            ],
            "label": "Topic 62",
            "method": "update"
           }
          ]
         }
        ],
        "template": {
         "data": {
          "bar": [
           {
            "error_x": {
             "color": "rgb(36,36,36)"
            },
            "error_y": {
             "color": "rgb(36,36,36)"
            },
            "marker": {
             "line": {
              "color": "white",
              "width": 0.5
             },
             "pattern": {
              "fillmode": "overlay",
              "size": 10,
              "solidity": 0.2
             }
            },
            "type": "bar"
           }
          ],
          "barpolar": [
           {
            "marker": {
             "line": {
              "color": "white",
              "width": 0.5
             },
             "pattern": {
              "fillmode": "overlay",
              "size": 10,
              "solidity": 0.2
             }
            },
            "type": "barpolar"
           }
          ],
          "carpet": [
           {
            "aaxis": {
             "endlinecolor": "rgb(36,36,36)",
             "gridcolor": "white",
             "linecolor": "white",
             "minorgridcolor": "white",
             "startlinecolor": "rgb(36,36,36)"
            },
            "baxis": {
             "endlinecolor": "rgb(36,36,36)",
             "gridcolor": "white",
             "linecolor": "white",
             "minorgridcolor": "white",
             "startlinecolor": "rgb(36,36,36)"
            },
            "type": "carpet"
           }
          ],
          "choropleth": [
           {
            "colorbar": {
             "outlinewidth": 1,
             "tickcolor": "rgb(36,36,36)",
             "ticks": "outside"
            },
            "type": "choropleth"
           }
          ],
          "contour": [
           {
            "colorbar": {
             "outlinewidth": 1,
             "tickcolor": "rgb(36,36,36)",
             "ticks": "outside"
            },
            "colorscale": [
             [
              0,
              "#440154"
             ],
             [
              0.1111111111111111,
              "#482878"
             ],
             [
              0.2222222222222222,
              "#3e4989"
             ],
             [
              0.3333333333333333,
              "#31688e"
             ],
             [
              0.4444444444444444,
              "#26828e"
             ],
             [
              0.5555555555555556,
              "#1f9e89"
             ],
             [
              0.6666666666666666,
              "#35b779"
             ],
             [
              0.7777777777777778,
              "#6ece58"
             ],
             [
              0.8888888888888888,
              "#b5de2b"
             ],
             [
              1,
              "#fde725"
             ]
            ],
            "type": "contour"
           }
          ],
          "contourcarpet": [
           {
            "colorbar": {
             "outlinewidth": 1,
             "tickcolor": "rgb(36,36,36)",
             "ticks": "outside"
            },
            "type": "contourcarpet"
           }
          ],
          "heatmap": [
           {
            "colorbar": {
             "outlinewidth": 1,
             "tickcolor": "rgb(36,36,36)",
             "ticks": "outside"
            },
            "colorscale": [
             [
              0,
              "#440154"
             ],
             [
              0.1111111111111111,
              "#482878"
             ],
             [
              0.2222222222222222,
              "#3e4989"
             ],
             [
              0.3333333333333333,
              "#31688e"
             ],
             [
              0.4444444444444444,
              "#26828e"
             ],
             [
              0.5555555555555556,
              "#1f9e89"
             ],
             [
              0.6666666666666666,
              "#35b779"
             ],
             [
              0.7777777777777778,
              "#6ece58"
             ],
             [
              0.8888888888888888,
              "#b5de2b"
             ],
             [
              1,
              "#fde725"
             ]
            ],
            "type": "heatmap"
           }
          ],
          "heatmapgl": [
           {
            "colorbar": {
             "outlinewidth": 1,
             "tickcolor": "rgb(36,36,36)",
             "ticks": "outside"
            },
            "colorscale": [
             [
              0,
              "#440154"
             ],
             [
              0.1111111111111111,
              "#482878"
             ],
             [
              0.2222222222222222,
              "#3e4989"
             ],
             [
              0.3333333333333333,
              "#31688e"
             ],
             [
              0.4444444444444444,
              "#26828e"
             ],
             [
              0.5555555555555556,
              "#1f9e89"
             ],
             [
              0.6666666666666666,
              "#35b779"
             ],
             [
              0.7777777777777778,
              "#6ece58"
             ],
             [
              0.8888888888888888,
              "#b5de2b"
             ],
             [
              1,
              "#fde725"
             ]
            ],
            "type": "heatmapgl"
           }
          ],
          "histogram": [
           {
            "marker": {
             "line": {
              "color": "white",
              "width": 0.6
             }
            },
            "type": "histogram"
           }
          ],
          "histogram2d": [
           {
            "colorbar": {
             "outlinewidth": 1,
             "tickcolor": "rgb(36,36,36)",
             "ticks": "outside"
            },
            "colorscale": [
             [
              0,
              "#440154"
             ],
             [
              0.1111111111111111,
              "#482878"
             ],
             [
              0.2222222222222222,
              "#3e4989"
             ],
             [
              0.3333333333333333,
              "#31688e"
             ],
             [
              0.4444444444444444,
              "#26828e"
             ],
             [
              0.5555555555555556,
              "#1f9e89"
             ],
             [
              0.6666666666666666,
              "#35b779"
             ],
             [
              0.7777777777777778,
              "#6ece58"
             ],
             [
              0.8888888888888888,
              "#b5de2b"
             ],
             [
              1,
              "#fde725"
             ]
            ],
            "type": "histogram2d"
           }
          ],
          "histogram2dcontour": [
           {
            "colorbar": {
             "outlinewidth": 1,
             "tickcolor": "rgb(36,36,36)",
             "ticks": "outside"
            },
            "colorscale": [
             [
              0,
              "#440154"
             ],
             [
              0.1111111111111111,
              "#482878"
             ],
             [
              0.2222222222222222,
              "#3e4989"
             ],
             [
              0.3333333333333333,
              "#31688e"
             ],
             [
              0.4444444444444444,
              "#26828e"
             ],
             [
              0.5555555555555556,
              "#1f9e89"
             ],
             [
              0.6666666666666666,
              "#35b779"
             ],
             [
              0.7777777777777778,
              "#6ece58"
             ],
             [
              0.8888888888888888,
              "#b5de2b"
             ],
             [
              1,
              "#fde725"
             ]
            ],
            "type": "histogram2dcontour"
           }
          ],
          "mesh3d": [
           {
            "colorbar": {
             "outlinewidth": 1,
             "tickcolor": "rgb(36,36,36)",
             "ticks": "outside"
            },
            "type": "mesh3d"
           }
          ],
          "parcoords": [
           {
            "line": {
             "colorbar": {
              "outlinewidth": 1,
              "tickcolor": "rgb(36,36,36)",
              "ticks": "outside"
             }
            },
            "type": "parcoords"
           }
          ],
          "pie": [
           {
            "automargin": true,
            "type": "pie"
           }
          ],
          "scatter": [
           {
            "fillpattern": {
             "fillmode": "overlay",
             "size": 10,
             "solidity": 0.2
            },
            "type": "scatter"
           }
          ],
          "scatter3d": [
           {
            "line": {
             "colorbar": {
              "outlinewidth": 1,
              "tickcolor": "rgb(36,36,36)",
              "ticks": "outside"
             }
            },
            "marker": {
             "colorbar": {
              "outlinewidth": 1,
              "tickcolor": "rgb(36,36,36)",
              "ticks": "outside"
             }
            },
            "type": "scatter3d"
           }
          ],
          "scattercarpet": [
           {
            "marker": {
             "colorbar": {
              "outlinewidth": 1,
              "tickcolor": "rgb(36,36,36)",
              "ticks": "outside"
             }
            },
            "type": "scattercarpet"
           }
          ],
          "scattergeo": [
           {
            "marker": {
             "colorbar": {
              "outlinewidth": 1,
              "tickcolor": "rgb(36,36,36)",
              "ticks": "outside"
             }
            },
            "type": "scattergeo"
           }
          ],
          "scattergl": [
           {
            "marker": {
             "colorbar": {
              "outlinewidth": 1,
              "tickcolor": "rgb(36,36,36)",
              "ticks": "outside"
             }
            },
            "type": "scattergl"
           }
          ],
          "scattermapbox": [
           {
            "marker": {
             "colorbar": {
              "outlinewidth": 1,
              "tickcolor": "rgb(36,36,36)",
              "ticks": "outside"
             }
            },
            "type": "scattermapbox"
           }
          ],
          "scatterpolar": [
           {
            "marker": {
             "colorbar": {
              "outlinewidth": 1,
              "tickcolor": "rgb(36,36,36)",
              "ticks": "outside"
             }
            },
            "type": "scatterpolar"
           }
          ],
          "scatterpolargl": [
           {
            "marker": {
             "colorbar": {
              "outlinewidth": 1,
              "tickcolor": "rgb(36,36,36)",
              "ticks": "outside"
             }
            },
            "type": "scatterpolargl"
           }
          ],
          "scatterternary": [
           {
            "marker": {
             "colorbar": {
              "outlinewidth": 1,
              "tickcolor": "rgb(36,36,36)",
              "ticks": "outside"
             }
            },
            "type": "scatterternary"
           }
          ],
          "surface": [
           {
            "colorbar": {
             "outlinewidth": 1,
             "tickcolor": "rgb(36,36,36)",
             "ticks": "outside"
            },
            "colorscale": [
             [
              0,
              "#440154"
             ],
             [
              0.1111111111111111,
              "#482878"
             ],
             [
              0.2222222222222222,
              "#3e4989"
             ],
             [
              0.3333333333333333,
              "#31688e"
             ],
             [
              0.4444444444444444,
              "#26828e"
             ],
             [
              0.5555555555555556,
              "#1f9e89"
             ],
             [
              0.6666666666666666,
              "#35b779"
             ],
             [
              0.7777777777777778,
              "#6ece58"
             ],
             [
              0.8888888888888888,
              "#b5de2b"
             ],
             [
              1,
              "#fde725"
             ]
            ],
            "type": "surface"
           }
          ],
          "table": [
           {
            "cells": {
             "fill": {
              "color": "rgb(237,237,237)"
             },
             "line": {
              "color": "white"
             }
            },
            "header": {
             "fill": {
              "color": "rgb(217,217,217)"
             },
             "line": {
              "color": "white"
             }
            },
            "type": "table"
           }
          ]
         },
         "layout": {
          "annotationdefaults": {
           "arrowhead": 0,
           "arrowwidth": 1
          },
          "autotypenumbers": "strict",
          "coloraxis": {
           "colorbar": {
            "outlinewidth": 1,
            "tickcolor": "rgb(36,36,36)",
            "ticks": "outside"
           }
          },
          "colorscale": {
           "diverging": [
            [
             0,
             "rgb(103,0,31)"
            ],
            [
             0.1,
             "rgb(178,24,43)"
            ],
            [
             0.2,
             "rgb(214,96,77)"
            ],
            [
             0.3,
             "rgb(244,165,130)"
            ],
            [
             0.4,
             "rgb(253,219,199)"
            ],
            [
             0.5,
             "rgb(247,247,247)"
            ],
            [
             0.6,
             "rgb(209,229,240)"
            ],
            [
             0.7,
             "rgb(146,197,222)"
            ],
            [
             0.8,
             "rgb(67,147,195)"
            ],
            [
             0.9,
             "rgb(33,102,172)"
            ],
            [
             1,
             "rgb(5,48,97)"
            ]
           ],
           "sequential": [
            [
             0,
             "#440154"
            ],
            [
             0.1111111111111111,
             "#482878"
            ],
            [
             0.2222222222222222,
             "#3e4989"
            ],
            [
             0.3333333333333333,
             "#31688e"
            ],
            [
             0.4444444444444444,
             "#26828e"
            ],
            [
             0.5555555555555556,
             "#1f9e89"
            ],
            [
             0.6666666666666666,
             "#35b779"
            ],
            [
             0.7777777777777778,
             "#6ece58"
            ],
            [
             0.8888888888888888,
             "#b5de2b"
            ],
            [
             1,
             "#fde725"
            ]
           ],
           "sequentialminus": [
            [
             0,
             "#440154"
            ],
            [
             0.1111111111111111,
             "#482878"
            ],
            [
             0.2222222222222222,
             "#3e4989"
            ],
            [
             0.3333333333333333,
             "#31688e"
            ],
            [
             0.4444444444444444,
             "#26828e"
            ],
            [
             0.5555555555555556,
             "#1f9e89"
            ],
            [
             0.6666666666666666,
             "#35b779"
            ],
            [
             0.7777777777777778,
             "#6ece58"
            ],
            [
             0.8888888888888888,
             "#b5de2b"
            ],
            [
             1,
             "#fde725"
            ]
           ]
          },
          "colorway": [
           "#1F77B4",
           "#FF7F0E",
           "#2CA02C",
           "#D62728",
           "#9467BD",
           "#8C564B",
           "#E377C2",
           "#7F7F7F",
           "#BCBD22",
           "#17BECF"
          ],
          "font": {
           "color": "rgb(36,36,36)"
          },
          "geo": {
           "bgcolor": "white",
           "lakecolor": "white",
           "landcolor": "white",
           "showlakes": true,
           "showland": true,
           "subunitcolor": "white"
          },
          "hoverlabel": {
           "align": "left"
          },
          "hovermode": "closest",
          "mapbox": {
           "style": "light"
          },
          "paper_bgcolor": "white",
          "plot_bgcolor": "white",
          "polar": {
           "angularaxis": {
            "gridcolor": "rgb(232,232,232)",
            "linecolor": "rgb(36,36,36)",
            "showgrid": false,
            "showline": true,
            "ticks": "outside"
           },
           "bgcolor": "white",
           "radialaxis": {
            "gridcolor": "rgb(232,232,232)",
            "linecolor": "rgb(36,36,36)",
            "showgrid": false,
            "showline": true,
            "ticks": "outside"
           }
          },
          "scene": {
           "xaxis": {
            "backgroundcolor": "white",
            "gridcolor": "rgb(232,232,232)",
            "gridwidth": 2,
            "linecolor": "rgb(36,36,36)",
            "showbackground": true,
            "showgrid": false,
            "showline": true,
            "ticks": "outside",
            "zeroline": false,
            "zerolinecolor": "rgb(36,36,36)"
           },
           "yaxis": {
            "backgroundcolor": "white",
            "gridcolor": "rgb(232,232,232)",
            "gridwidth": 2,
            "linecolor": "rgb(36,36,36)",
            "showbackground": true,
            "showgrid": false,
            "showline": true,
            "ticks": "outside",
            "zeroline": false,
            "zerolinecolor": "rgb(36,36,36)"
           },
           "zaxis": {
            "backgroundcolor": "white",
            "gridcolor": "rgb(232,232,232)",
            "gridwidth": 2,
            "linecolor": "rgb(36,36,36)",
            "showbackground": true,
            "showgrid": false,
            "showline": true,
            "ticks": "outside",
            "zeroline": false,
            "zerolinecolor": "rgb(36,36,36)"
           }
          },
          "shapedefaults": {
           "fillcolor": "black",
           "line": {
            "width": 0
           },
           "opacity": 0.3
          },
          "ternary": {
           "aaxis": {
            "gridcolor": "rgb(232,232,232)",
            "linecolor": "rgb(36,36,36)",
            "showgrid": false,
            "showline": true,
            "ticks": "outside"
           },
           "baxis": {
            "gridcolor": "rgb(232,232,232)",
            "linecolor": "rgb(36,36,36)",
            "showgrid": false,
            "showline": true,
            "ticks": "outside"
           },
           "bgcolor": "white",
           "caxis": {
            "gridcolor": "rgb(232,232,232)",
            "linecolor": "rgb(36,36,36)",
            "showgrid": false,
            "showline": true,
            "ticks": "outside"
           }
          },
          "title": {
           "x": 0.05
          },
          "xaxis": {
           "automargin": true,
           "gridcolor": "rgb(232,232,232)",
           "linecolor": "rgb(36,36,36)",
           "showgrid": false,
           "showline": true,
           "ticks": "outside",
           "title": {
            "standoff": 15
           },
           "zeroline": false,
           "zerolinecolor": "rgb(36,36,36)"
          },
          "yaxis": {
           "automargin": true,
           "gridcolor": "rgb(232,232,232)",
           "linecolor": "rgb(36,36,36)",
           "showgrid": false,
           "showline": true,
           "ticks": "outside",
           "title": {
            "standoff": 15
           },
           "zeroline": false,
           "zerolinecolor": "rgb(36,36,36)"
          }
         }
        },
        "title": {
         "font": {
          "color": "Black",
          "size": 22
         },
         "text": "<b>Intertopic Distance Map",
         "x": 0.5,
         "xanchor": "center",
         "y": 0.95,
         "yanchor": "top"
        },
        "width": 650,
        "xaxis": {
         "anchor": "y",
         "domain": [
          0,
          1
         ],
         "range": [
          -12.529355812072755,
          25.56862316131592
         ],
         "title": {
          "text": ""
         },
         "visible": false
        },
        "yaxis": {
         "anchor": "x",
         "domain": [
          0,
          1
         ],
         "range": [
          -10.929482316970825,
          22.26257495880127
         ],
         "title": {
          "text": ""
         },
         "visible": false
        }
       }
      }
     },
     "metadata": {},
     "output_type": "display_data"
    }
   ],
   "source": [
    "model.visualize_topics()\n"
   ]
  },
  {
   "cell_type": "code",
   "execution_count": 37,
   "metadata": {},
   "outputs": [
    {
     "data": {
      "application/vnd.plotly.v1+json": {
       "config": {
        "plotlyServerURL": "https://plot.ly"
       },
       "data": [
        {
         "marker": {
          "color": "#D55E00"
         },
         "orientation": "h",
         "type": "bar",
         "x": [
          0.024245550993380893,
          0.025937697704301498,
          0.03232600938245996,
          0.03235423923443315,
          0.032547977193920774
         ],
         "xaxis": "x",
         "y": [
          "1988 10  ",
          "constituicao  ",
          "span  ",
          "br  ",
          "1988  "
         ],
         "yaxis": "y"
        },
        {
         "marker": {
          "color": "#0072B2"
         },
         "orientation": "h",
         "type": "bar",
         "x": [
          0.02148099109087658,
          0.027864131130319218,
          0.03246039193444779,
          0.03514585203293035,
          0.035765134118187936
         ],
         "xaxis": "x2",
         "y": [
          "defensoria publica  ",
          "publico  ",
          "organizacao  ",
          "ministerio  ",
          "ministerio publico  "
         ],
         "yaxis": "y2"
        },
        {
         "marker": {
          "color": "#CC79A7"
         },
         "orientation": "h",
         "type": "bar",
         "x": [
          0.025743651926674327,
          0.03038487360410171,
          0.03712555115424386,
          0.041265457662488715,
          0.041420509172078374
         ],
         "xaxis": "x3",
         "y": [
          "prazo  ",
          "nacional  ",
          "dias  ",
          "congresso  ",
          "congresso nacional  "
         ],
         "yaxis": "y3"
        },
        {
         "marker": {
          "color": "#E69F00"
         },
         "orientation": "h",
         "type": "bar",
         "x": [
          0.0478761957778467,
          0.05410241740908326,
          0.06982054268875473,
          0.07675998858665262,
          0.0952716305602182
         ],
         "xaxis": "x4",
         "y": [
          "superior  ",
          "justica  ",
          "tribunal justica  ",
          "juizes  ",
          "tribunal  "
         ],
         "yaxis": "y4"
        },
        {
         "marker": {
          "color": "#56B4E9"
         },
         "orientation": "h",
         "type": "bar",
         "x": [
          0.03868951339012053,
          0.03902515918891194,
          0.040826916099143185,
          0.04119899166507328,
          0.04356092466130285
         ],
         "xaxis": "x5",
         "y": [
          "federativa brasil  ",
          "brasil  ",
          "brasileiro  ",
          "brasileiros  ",
          "brasileira  "
         ],
         "yaxis": "y5"
        },
        {
         "marker": {
          "color": "#009E73"
         },
         "orientation": "h",
         "type": "bar",
         "x": [
          0.026863855199677166,
          0.027021230902344786,
          0.02811684186259768,
          0.03896245446047527,
          0.03932073777704039
         ],
         "xaxis": "x6",
         "y": [
          "tempo  ",
          "previdencia  ",
          "previdencia social  ",
          "aposentadoria  ",
          "contribuicao  "
         ],
         "yaxis": "y6"
        },
        {
         "marker": {
          "color": "#F0E442"
         },
         "orientation": "h",
         "type": "bar",
         "x": [
          0.03505444470330761,
          0.03588253831965925,
          0.03845169012017282,
          0.03911132273345013,
          0.04209081621613073
         ],
         "xaxis": "x7",
         "y": [
          "reforma agraria  ",
          "urbano  ",
          "agraria  ",
          "propriedade  ",
          "rural  "
         ],
         "yaxis": "y7"
        },
        {
         "marker": {
          "color": "#D55E00"
         },
         "orientation": "h",
         "type": "bar",
         "x": [
          0.028286172528484685,
          0.05112997136991601,
          0.052858009130742234,
          0.05961999031183949,
          0.10980298923539705
         ],
         "xaxis": "x8",
         "y": [
          "atendimento  ",
          "fundamental  ",
          "ensino fundamental  ",
          "educacao  ",
          "ensino  "
         ],
         "yaxis": "y8"
        }
       ],
       "layout": {
        "annotations": [
         {
          "font": {
           "size": 16
          },
          "showarrow": false,
          "text": "Topic 0",
          "x": 0.0875,
          "xanchor": "center",
          "xref": "paper",
          "y": 1,
          "yanchor": "bottom",
          "yref": "paper"
         },
         {
          "font": {
           "size": 16
          },
          "showarrow": false,
          "text": "Topic 1",
          "x": 0.36250000000000004,
          "xanchor": "center",
          "xref": "paper",
          "y": 1,
          "yanchor": "bottom",
          "yref": "paper"
         },
         {
          "font": {
           "size": 16
          },
          "showarrow": false,
          "text": "Topic 2",
          "x": 0.6375000000000001,
          "xanchor": "center",
          "xref": "paper",
          "y": 1,
          "yanchor": "bottom",
          "yref": "paper"
         },
         {
          "font": {
           "size": 16
          },
          "showarrow": false,
          "text": "Topic 3",
          "x": 0.9125,
          "xanchor": "center",
          "xref": "paper",
          "y": 1,
          "yanchor": "bottom",
          "yref": "paper"
         },
         {
          "font": {
           "size": 16
          },
          "showarrow": false,
          "text": "Topic 4",
          "x": 0.0875,
          "xanchor": "center",
          "xref": "paper",
          "y": 0.4,
          "yanchor": "bottom",
          "yref": "paper"
         },
         {
          "font": {
           "size": 16
          },
          "showarrow": false,
          "text": "Topic 5",
          "x": 0.36250000000000004,
          "xanchor": "center",
          "xref": "paper",
          "y": 0.4,
          "yanchor": "bottom",
          "yref": "paper"
         },
         {
          "font": {
           "size": 16
          },
          "showarrow": false,
          "text": "Topic 6",
          "x": 0.6375000000000001,
          "xanchor": "center",
          "xref": "paper",
          "y": 0.4,
          "yanchor": "bottom",
          "yref": "paper"
         },
         {
          "font": {
           "size": 16
          },
          "showarrow": false,
          "text": "Topic 7",
          "x": 0.9125,
          "xanchor": "center",
          "xref": "paper",
          "y": 0.4,
          "yanchor": "bottom",
          "yref": "paper"
         }
        ],
        "height": 500,
        "hoverlabel": {
         "bgcolor": "white",
         "font": {
          "family": "Rockwell",
          "size": 16
         }
        },
        "showlegend": false,
        "template": {
         "data": {
          "bar": [
           {
            "error_x": {
             "color": "#2a3f5f"
            },
            "error_y": {
             "color": "#2a3f5f"
            },
            "marker": {
             "line": {
              "color": "white",
              "width": 0.5
             },
             "pattern": {
              "fillmode": "overlay",
              "size": 10,
              "solidity": 0.2
             }
            },
            "type": "bar"
           }
          ],
          "barpolar": [
           {
            "marker": {
             "line": {
              "color": "white",
              "width": 0.5
             },
             "pattern": {
              "fillmode": "overlay",
              "size": 10,
              "solidity": 0.2
             }
            },
            "type": "barpolar"
           }
          ],
          "carpet": [
           {
            "aaxis": {
             "endlinecolor": "#2a3f5f",
             "gridcolor": "#C8D4E3",
             "linecolor": "#C8D4E3",
             "minorgridcolor": "#C8D4E3",
             "startlinecolor": "#2a3f5f"
            },
            "baxis": {
             "endlinecolor": "#2a3f5f",
             "gridcolor": "#C8D4E3",
             "linecolor": "#C8D4E3",
             "minorgridcolor": "#C8D4E3",
             "startlinecolor": "#2a3f5f"
            },
            "type": "carpet"
           }
          ],
          "choropleth": [
           {
            "colorbar": {
             "outlinewidth": 0,
             "ticks": ""
            },
            "type": "choropleth"
           }
          ],
          "contour": [
           {
            "colorbar": {
             "outlinewidth": 0,
             "ticks": ""
            },
            "colorscale": [
             [
              0,
              "#0d0887"
             ],
             [
              0.1111111111111111,
              "#46039f"
             ],
             [
              0.2222222222222222,
              "#7201a8"
             ],
             [
              0.3333333333333333,
              "#9c179e"
             ],
             [
              0.4444444444444444,
              "#bd3786"
             ],
             [
              0.5555555555555556,
              "#d8576b"
             ],
             [
              0.6666666666666666,
              "#ed7953"
             ],
             [
              0.7777777777777778,
              "#fb9f3a"
             ],
             [
              0.8888888888888888,
              "#fdca26"
             ],
             [
              1,
              "#f0f921"
             ]
            ],
            "type": "contour"
           }
          ],
          "contourcarpet": [
           {
            "colorbar": {
             "outlinewidth": 0,
             "ticks": ""
            },
            "type": "contourcarpet"
           }
          ],
          "heatmap": [
           {
            "colorbar": {
             "outlinewidth": 0,
             "ticks": ""
            },
            "colorscale": [
             [
              0,
              "#0d0887"
             ],
             [
              0.1111111111111111,
              "#46039f"
             ],
             [
              0.2222222222222222,
              "#7201a8"
             ],
             [
              0.3333333333333333,
              "#9c179e"
             ],
             [
              0.4444444444444444,
              "#bd3786"
             ],
             [
              0.5555555555555556,
              "#d8576b"
             ],
             [
              0.6666666666666666,
              "#ed7953"
             ],
             [
              0.7777777777777778,
              "#fb9f3a"
             ],
             [
              0.8888888888888888,
              "#fdca26"
             ],
             [
              1,
              "#f0f921"
             ]
            ],
            "type": "heatmap"
           }
          ],
          "heatmapgl": [
           {
            "colorbar": {
             "outlinewidth": 0,
             "ticks": ""
            },
            "colorscale": [
             [
              0,
              "#0d0887"
             ],
             [
              0.1111111111111111,
              "#46039f"
             ],
             [
              0.2222222222222222,
              "#7201a8"
             ],
             [
              0.3333333333333333,
              "#9c179e"
             ],
             [
              0.4444444444444444,
              "#bd3786"
             ],
             [
              0.5555555555555556,
              "#d8576b"
             ],
             [
              0.6666666666666666,
              "#ed7953"
             ],
             [
              0.7777777777777778,
              "#fb9f3a"
             ],
             [
              0.8888888888888888,
              "#fdca26"
             ],
             [
              1,
              "#f0f921"
             ]
            ],
            "type": "heatmapgl"
           }
          ],
          "histogram": [
           {
            "marker": {
             "pattern": {
              "fillmode": "overlay",
              "size": 10,
              "solidity": 0.2
             }
            },
            "type": "histogram"
           }
          ],
          "histogram2d": [
           {
            "colorbar": {
             "outlinewidth": 0,
             "ticks": ""
            },
            "colorscale": [
             [
              0,
              "#0d0887"
             ],
             [
              0.1111111111111111,
              "#46039f"
             ],
             [
              0.2222222222222222,
              "#7201a8"
             ],
             [
              0.3333333333333333,
              "#9c179e"
             ],
             [
              0.4444444444444444,
              "#bd3786"
             ],
             [
              0.5555555555555556,
              "#d8576b"
             ],
             [
              0.6666666666666666,
              "#ed7953"
             ],
             [
              0.7777777777777778,
              "#fb9f3a"
             ],
             [
              0.8888888888888888,
              "#fdca26"
             ],
             [
              1,
              "#f0f921"
             ]
            ],
            "type": "histogram2d"
           }
          ],
          "histogram2dcontour": [
           {
            "colorbar": {
             "outlinewidth": 0,
             "ticks": ""
            },
            "colorscale": [
             [
              0,
              "#0d0887"
             ],
             [
              0.1111111111111111,
              "#46039f"
             ],
             [
              0.2222222222222222,
              "#7201a8"
             ],
             [
              0.3333333333333333,
              "#9c179e"
             ],
             [
              0.4444444444444444,
              "#bd3786"
             ],
             [
              0.5555555555555556,
              "#d8576b"
             ],
             [
              0.6666666666666666,
              "#ed7953"
             ],
             [
              0.7777777777777778,
              "#fb9f3a"
             ],
             [
              0.8888888888888888,
              "#fdca26"
             ],
             [
              1,
              "#f0f921"
             ]
            ],
            "type": "histogram2dcontour"
           }
          ],
          "mesh3d": [
           {
            "colorbar": {
             "outlinewidth": 0,
             "ticks": ""
            },
            "type": "mesh3d"
           }
          ],
          "parcoords": [
           {
            "line": {
             "colorbar": {
              "outlinewidth": 0,
              "ticks": ""
             }
            },
            "type": "parcoords"
           }
          ],
          "pie": [
           {
            "automargin": true,
            "type": "pie"
           }
          ],
          "scatter": [
           {
            "fillpattern": {
             "fillmode": "overlay",
             "size": 10,
             "solidity": 0.2
            },
            "type": "scatter"
           }
          ],
          "scatter3d": [
           {
            "line": {
             "colorbar": {
              "outlinewidth": 0,
              "ticks": ""
             }
            },
            "marker": {
             "colorbar": {
              "outlinewidth": 0,
              "ticks": ""
             }
            },
            "type": "scatter3d"
           }
          ],
          "scattercarpet": [
           {
            "marker": {
             "colorbar": {
              "outlinewidth": 0,
              "ticks": ""
             }
            },
            "type": "scattercarpet"
           }
          ],
          "scattergeo": [
           {
            "marker": {
             "colorbar": {
              "outlinewidth": 0,
              "ticks": ""
             }
            },
            "type": "scattergeo"
           }
          ],
          "scattergl": [
           {
            "marker": {
             "colorbar": {
              "outlinewidth": 0,
              "ticks": ""
             }
            },
            "type": "scattergl"
           }
          ],
          "scattermapbox": [
           {
            "marker": {
             "colorbar": {
              "outlinewidth": 0,
              "ticks": ""
             }
            },
            "type": "scattermapbox"
           }
          ],
          "scatterpolar": [
           {
            "marker": {
             "colorbar": {
              "outlinewidth": 0,
              "ticks": ""
             }
            },
            "type": "scatterpolar"
           }
          ],
          "scatterpolargl": [
           {
            "marker": {
             "colorbar": {
              "outlinewidth": 0,
              "ticks": ""
             }
            },
            "type": "scatterpolargl"
           }
          ],
          "scatterternary": [
           {
            "marker": {
             "colorbar": {
              "outlinewidth": 0,
              "ticks": ""
             }
            },
            "type": "scatterternary"
           }
          ],
          "surface": [
           {
            "colorbar": {
             "outlinewidth": 0,
             "ticks": ""
            },
            "colorscale": [
             [
              0,
              "#0d0887"
             ],
             [
              0.1111111111111111,
              "#46039f"
             ],
             [
              0.2222222222222222,
              "#7201a8"
             ],
             [
              0.3333333333333333,
              "#9c179e"
             ],
             [
              0.4444444444444444,
              "#bd3786"
             ],
             [
              0.5555555555555556,
              "#d8576b"
             ],
             [
              0.6666666666666666,
              "#ed7953"
             ],
             [
              0.7777777777777778,
              "#fb9f3a"
             ],
             [
              0.8888888888888888,
              "#fdca26"
             ],
             [
              1,
              "#f0f921"
             ]
            ],
            "type": "surface"
           }
          ],
          "table": [
           {
            "cells": {
             "fill": {
              "color": "#EBF0F8"
             },
             "line": {
              "color": "white"
             }
            },
            "header": {
             "fill": {
              "color": "#C8D4E3"
             },
             "line": {
              "color": "white"
             }
            },
            "type": "table"
           }
          ]
         },
         "layout": {
          "annotationdefaults": {
           "arrowcolor": "#2a3f5f",
           "arrowhead": 0,
           "arrowwidth": 1
          },
          "autotypenumbers": "strict",
          "coloraxis": {
           "colorbar": {
            "outlinewidth": 0,
            "ticks": ""
           }
          },
          "colorscale": {
           "diverging": [
            [
             0,
             "#8e0152"
            ],
            [
             0.1,
             "#c51b7d"
            ],
            [
             0.2,
             "#de77ae"
            ],
            [
             0.3,
             "#f1b6da"
            ],
            [
             0.4,
             "#fde0ef"
            ],
            [
             0.5,
             "#f7f7f7"
            ],
            [
             0.6,
             "#e6f5d0"
            ],
            [
             0.7,
             "#b8e186"
            ],
            [
             0.8,
             "#7fbc41"
            ],
            [
             0.9,
             "#4d9221"
            ],
            [
             1,
             "#276419"
            ]
           ],
           "sequential": [
            [
             0,
             "#0d0887"
            ],
            [
             0.1111111111111111,
             "#46039f"
            ],
            [
             0.2222222222222222,
             "#7201a8"
            ],
            [
             0.3333333333333333,
             "#9c179e"
            ],
            [
             0.4444444444444444,
             "#bd3786"
            ],
            [
             0.5555555555555556,
             "#d8576b"
            ],
            [
             0.6666666666666666,
             "#ed7953"
            ],
            [
             0.7777777777777778,
             "#fb9f3a"
            ],
            [
             0.8888888888888888,
             "#fdca26"
            ],
            [
             1,
             "#f0f921"
            ]
           ],
           "sequentialminus": [
            [
             0,
             "#0d0887"
            ],
            [
             0.1111111111111111,
             "#46039f"
            ],
            [
             0.2222222222222222,
             "#7201a8"
            ],
            [
             0.3333333333333333,
             "#9c179e"
            ],
            [
             0.4444444444444444,
             "#bd3786"
            ],
            [
             0.5555555555555556,
             "#d8576b"
            ],
            [
             0.6666666666666666,
             "#ed7953"
            ],
            [
             0.7777777777777778,
             "#fb9f3a"
            ],
            [
             0.8888888888888888,
             "#fdca26"
            ],
            [
             1,
             "#f0f921"
            ]
           ]
          },
          "colorway": [
           "#636efa",
           "#EF553B",
           "#00cc96",
           "#ab63fa",
           "#FFA15A",
           "#19d3f3",
           "#FF6692",
           "#B6E880",
           "#FF97FF",
           "#FECB52"
          ],
          "font": {
           "color": "#2a3f5f"
          },
          "geo": {
           "bgcolor": "white",
           "lakecolor": "white",
           "landcolor": "white",
           "showlakes": true,
           "showland": true,
           "subunitcolor": "#C8D4E3"
          },
          "hoverlabel": {
           "align": "left"
          },
          "hovermode": "closest",
          "mapbox": {
           "style": "light"
          },
          "paper_bgcolor": "white",
          "plot_bgcolor": "white",
          "polar": {
           "angularaxis": {
            "gridcolor": "#EBF0F8",
            "linecolor": "#EBF0F8",
            "ticks": ""
           },
           "bgcolor": "white",
           "radialaxis": {
            "gridcolor": "#EBF0F8",
            "linecolor": "#EBF0F8",
            "ticks": ""
           }
          },
          "scene": {
           "xaxis": {
            "backgroundcolor": "white",
            "gridcolor": "#DFE8F3",
            "gridwidth": 2,
            "linecolor": "#EBF0F8",
            "showbackground": true,
            "ticks": "",
            "zerolinecolor": "#EBF0F8"
           },
           "yaxis": {
            "backgroundcolor": "white",
            "gridcolor": "#DFE8F3",
            "gridwidth": 2,
            "linecolor": "#EBF0F8",
            "showbackground": true,
            "ticks": "",
            "zerolinecolor": "#EBF0F8"
           },
           "zaxis": {
            "backgroundcolor": "white",
            "gridcolor": "#DFE8F3",
            "gridwidth": 2,
            "linecolor": "#EBF0F8",
            "showbackground": true,
            "ticks": "",
            "zerolinecolor": "#EBF0F8"
           }
          },
          "shapedefaults": {
           "line": {
            "color": "#2a3f5f"
           }
          },
          "ternary": {
           "aaxis": {
            "gridcolor": "#DFE8F3",
            "linecolor": "#A2B1C6",
            "ticks": ""
           },
           "baxis": {
            "gridcolor": "#DFE8F3",
            "linecolor": "#A2B1C6",
            "ticks": ""
           },
           "bgcolor": "white",
           "caxis": {
            "gridcolor": "#DFE8F3",
            "linecolor": "#A2B1C6",
            "ticks": ""
           }
          },
          "title": {
           "x": 0.05
          },
          "xaxis": {
           "automargin": true,
           "gridcolor": "#EBF0F8",
           "linecolor": "#EBF0F8",
           "ticks": "",
           "title": {
            "standoff": 15
           },
           "zerolinecolor": "#EBF0F8",
           "zerolinewidth": 2
          },
          "yaxis": {
           "automargin": true,
           "gridcolor": "#EBF0F8",
           "linecolor": "#EBF0F8",
           "ticks": "",
           "title": {
            "standoff": 15
           },
           "zerolinecolor": "#EBF0F8",
           "zerolinewidth": 2
          }
         }
        },
        "title": {
         "font": {
          "color": "Black",
          "size": 22
         },
         "text": "<b>Topic Word Scores",
         "x": 0.5,
         "xanchor": "center",
         "yanchor": "top"
        },
        "width": 1000,
        "xaxis": {
         "anchor": "y",
         "domain": [
          0,
          0.175
         ],
         "showgrid": true
        },
        "xaxis2": {
         "anchor": "y2",
         "domain": [
          0.275,
          0.45
         ],
         "showgrid": true
        },
        "xaxis3": {
         "anchor": "y3",
         "domain": [
          0.55,
          0.7250000000000001
         ],
         "showgrid": true
        },
        "xaxis4": {
         "anchor": "y4",
         "domain": [
          0.825,
          1
         ],
         "showgrid": true
        },
        "xaxis5": {
         "anchor": "y5",
         "domain": [
          0,
          0.175
         ],
         "showgrid": true
        },
        "xaxis6": {
         "anchor": "y6",
         "domain": [
          0.275,
          0.45
         ],
         "showgrid": true
        },
        "xaxis7": {
         "anchor": "y7",
         "domain": [
          0.55,
          0.7250000000000001
         ],
         "showgrid": true
        },
        "xaxis8": {
         "anchor": "y8",
         "domain": [
          0.825,
          1
         ],
         "showgrid": true
        },
        "yaxis": {
         "anchor": "x",
         "domain": [
          0.6000000000000001,
          1
         ],
         "showgrid": true
        },
        "yaxis2": {
         "anchor": "x2",
         "domain": [
          0.6000000000000001,
          1
         ],
         "showgrid": true
        },
        "yaxis3": {
         "anchor": "x3",
         "domain": [
          0.6000000000000001,
          1
         ],
         "showgrid": true
        },
        "yaxis4": {
         "anchor": "x4",
         "domain": [
          0.6000000000000001,
          1
         ],
         "showgrid": true
        },
        "yaxis5": {
         "anchor": "x5",
         "domain": [
          0,
          0.4
         ],
         "showgrid": true
        },
        "yaxis6": {
         "anchor": "x6",
         "domain": [
          0,
          0.4
         ],
         "showgrid": true
        },
        "yaxis7": {
         "anchor": "x7",
         "domain": [
          0,
          0.4
         ],
         "showgrid": true
        },
        "yaxis8": {
         "anchor": "x8",
         "domain": [
          0,
          0.4
         ],
         "showgrid": true
        }
       }
      }
     },
     "metadata": {},
     "output_type": "display_data"
    }
   ],
   "source": [
    "model.visualize_barchart()\n"
   ]
  },
  {
   "cell_type": "code",
   "execution_count": 38,
   "metadata": {},
   "outputs": [
    {
     "data": {
      "application/vnd.plotly.v1+json": {
       "config": {
        "plotlyServerURL": "https://plot.ly"
       },
       "data": [
        {
         "coloraxis": "coloraxis",
         "hovertemplate": "x: %{x}<br>y: %{y}<br>Similarity Score: %{z}<extra></extra>",
         "name": "0",
         "type": "heatmap",
         "x": [
          "0_1988_br_span",
          "1_ministerio publico_minist...",
          "2_congresso nacional_congre...",
          "3_tribunal_juizes_tribunal ...",
          "4_brasileira_brasileiros_br...",
          "5_contribuicao_aposentadori...",
          "6_rural_propriedade_agraria",
          "7_ensino_educacao_ensino fu...",
          "8_militares_militar_forcas ...",
          "9_cargo_emprego_trabalho",
          "10_estados_distrito_distrit...",
          "11_presidente_senado federa...",
          "12_tribunal_dois_membros",
          "13_nao_despesa_receita",
          "14_ninguem_ninguem sera_sera",
          "15_justica_tribunais_region...",
          "16_000_habitantes_mil habit...",
          "17_meio ambiente_ambiente_m...",
          "18_cultura_culturais_nacion...",
          "19_desde_resolucoes_sera re...",
          "20_imposto_contribuinte_imp...",
          "21_orcamentarias_diretrizes...",
          "22_defesa_estado defesa_est...",
          "23_1988_span_br",
          "24_transporte_ilhas_fluviais",
          "25_produtos_exterior_indust...",
          "26_caput_deste artigo_artigo",
          "27_preso_transitada julgado...",
          "28_geral_procurador_procura...",
          "29_deficiencia_protecao_ate...",
          "30_cento_subsidio_mil",
          "31_policia_policias_militares",
          "32_direitos_politicos_cidad...",
          "33_divida_servico divida_de...",
          "34_sindical_sindicatos_asso...",
          "35_cargo_publico_provas",
          "36_credito_financeiras_inst...",
          "37_voto_secreto_voto secreto",
          "38_dentre brasileiros_ordem...",
          "39_br_span_1988",
          "40_167_desta span_167 167",
          "41_salario_remuneracao_dese...",
          "42_partido_partidario_fundo...",
          "43_social_seguridade_seguri...",
          "44_sociais_pessoal encargos...",
          "45_petroleo_derivados_combu...",
          "46_desenvolvimento_planos_p...",
          "47_inovacao_tecnologia_pesq...",
          "48_inconstitucionalidade_le...",
          "49_habeas_corpus_habeas cor...",
          "50_anos_anos idade_homem",
          "51_sobre lei_lei_dispora so...",
          "52_saude_sistema unico_unic...",
          "53_nucleares_danos_civil da...",
          "54_impostos_distrito federa...",
          "55_politicas_descentralizac...",
          "56_complementar cabe_cabe l...",
          "57_radiodifusao_imagens_radio",
          "58_profissionais_aperfeicoa...",
          "59_creditos_financeiro_exer...",
          "60_dados_pessoais_dados pes...",
          "61_eleicao_prefeito_governa...",
          "62_causas_internacional_org..."
         ],
         "xaxis": "x",
         "y": [
          "0_1988_br_span",
          "1_ministerio publico_minist...",
          "2_congresso nacional_congre...",
          "3_tribunal_juizes_tribunal ...",
          "4_brasileira_brasileiros_br...",
          "5_contribuicao_aposentadori...",
          "6_rural_propriedade_agraria",
          "7_ensino_educacao_ensino fu...",
          "8_militares_militar_forcas ...",
          "9_cargo_emprego_trabalho",
          "10_estados_distrito_distrit...",
          "11_presidente_senado federa...",
          "12_tribunal_dois_membros",
          "13_nao_despesa_receita",
          "14_ninguem_ninguem sera_sera",
          "15_justica_tribunais_region...",
          "16_000_habitantes_mil habit...",
          "17_meio ambiente_ambiente_m...",
          "18_cultura_culturais_nacion...",
          "19_desde_resolucoes_sera re...",
          "20_imposto_contribuinte_imp...",
          "21_orcamentarias_diretrizes...",
          "22_defesa_estado defesa_est...",
          "23_1988_span_br",
          "24_transporte_ilhas_fluviais",
          "25_produtos_exterior_indust...",
          "26_caput_deste artigo_artigo",
          "27_preso_transitada julgado...",
          "28_geral_procurador_procura...",
          "29_deficiencia_protecao_ate...",
          "30_cento_subsidio_mil",
          "31_policia_policias_militares",
          "32_direitos_politicos_cidad...",
          "33_divida_servico divida_de...",
          "34_sindical_sindicatos_asso...",
          "35_cargo_publico_provas",
          "36_credito_financeiras_inst...",
          "37_voto_secreto_voto secreto",
          "38_dentre brasileiros_ordem...",
          "39_br_span_1988",
          "40_167_desta span_167 167",
          "41_salario_remuneracao_dese...",
          "42_partido_partidario_fundo...",
          "43_social_seguridade_seguri...",
          "44_sociais_pessoal encargos...",
          "45_petroleo_derivados_combu...",
          "46_desenvolvimento_planos_p...",
          "47_inovacao_tecnologia_pesq...",
          "48_inconstitucionalidade_le...",
          "49_habeas_corpus_habeas cor...",
          "50_anos_anos idade_homem",
          "51_sobre lei_lei_dispora so...",
          "52_saude_sistema unico_unic...",
          "53_nucleares_danos_civil da...",
          "54_impostos_distrito federa...",
          "55_politicas_descentralizac...",
          "56_complementar cabe_cabe l...",
          "57_radiodifusao_imagens_radio",
          "58_profissionais_aperfeicoa...",
          "59_creditos_financeiro_exer...",
          "60_dados_pessoais_dados pes...",
          "61_eleicao_prefeito_governa...",
          "62_causas_internacional_org..."
         ],
         "yaxis": "y",
         "z": [
          [
           0.9999999999999999,
           0.7389387125727812,
           0.7971406867711224,
           0.6639497200601144,
           0.5173784501260319,
           0.7873522764379,
           0.6976447236064789,
           0.6764075127092504,
           0.6050938563130656,
           0.6072033101724544,
           0.71832618226133,
           0.7102244490501095,
           0.7964009676985204,
           0.7452352194600637,
           0.7702478766427923,
           0.7018847044135793,
           0.740656160757028,
           0.6590262174817717,
           0.5976098358673831,
           0.7867724545581847,
           0.7133394165562901,
           0.7094869774380221,
           0.638245413904341,
           0.9315656701553335,
           0.6795184403986544,
           0.6349831272989774,
           0.7565170652001336,
           0.7536563548193478,
           0.7421385935765215,
           0.7060336109460186,
           0.6348848147163636,
           0.5848615599785261,
           0.6255346424212905,
           0.7982727174739455,
           0.6602876934563162,
           0.7880606998889674,
           0.6299093569545102,
           0.6983282898055273,
           0.5894528390047302,
           0.8200758807887433,
           0.8634690395234919,
           0.6105080679474341,
           0.7382902247487548,
           0.6862725574589918,
           0.7209135050866504,
           0.5495283096785815,
           0.7101826951500583,
           0.6770971114866781,
           0.7766545179303839,
           0.6031605457240568,
           0.7946123162912431,
           0.8053506396651716,
           0.6940667680228066,
           0.4259333873200739,
           0.719358790174982,
           0.7719494592164778,
           0.7310021784539189,
           0.6296803826246826,
           0.7036006564367704,
           0.5927233449280727,
           0.6705991657406768,
           0.8797996387733493,
           0.7184727060693543
          ],
          [
           0.7389387125727812,
           1.0000000000000004,
           0.7850860750350972,
           0.7587118153031067,
           0.6024674473830335,
           0.7742586837710063,
           0.7255112881980637,
           0.7472009735663332,
           0.6533373428924845,
           0.6201454617586741,
           0.7461470198421789,
           0.693892131567746,
           0.8045300093620458,
           0.73896826171835,
           0.7756857825980199,
           0.8062346875296249,
           0.7750877652790207,
           0.6588371662690514,
           0.6822782598063795,
           0.7889168459575395,
           0.7591801429294817,
           0.6944257541382584,
           0.7505460345501849,
           0.6745650176192706,
           0.634452719029619,
           0.6305037702401706,
           0.7235194784083494,
           0.7874604586236262,
           0.82738353990558,
           0.6634598048956386,
           0.7040417191359922,
           0.6979172194122819,
           0.7507615165425849,
           0.7814991082623145,
           0.6436189715879194,
           0.8212334890775357,
           0.6777678302368855,
           0.6749938480331801,
           0.7380221202846124,
           0.645924101473601,
           0.6886413642828522,
           0.565300333671938,
           0.7608096850507516,
           0.7813259972030103,
           0.7719763824329594,
           0.45118540908390403,
           0.725821989563075,
           0.6724351486414042,
           0.8181223957714824,
           0.6061098064906671,
           0.6376625749969538,
           0.8222171457679263,
           0.8029934491427204,
           0.4080595420699324,
           0.7650794874173774,
           0.8734851929111198,
           0.7235700689569551,
           0.5747442327484296,
           0.7687846542815067,
           0.5872913048897259,
           0.6877150848650645,
           0.7977555108906795,
           0.7529458206967319
          ],
          [
           0.7971406867711224,
           0.7850860750350972,
           0.999999999999999,
           0.6441071987561293,
           0.5694491771828272,
           0.7693067188468178,
           0.6986285911762681,
           0.6515862722971391,
           0.5742220563529317,
           0.6183117458298113,
           0.7893634790569581,
           0.7942435610171565,
           0.7952629092627188,
           0.7604163531925141,
           0.764353467343911,
           0.701167286234508,
           0.7692600691050204,
           0.6331587299401443,
           0.6472396957974815,
           0.7862287854835803,
           0.7566809863073423,
           0.6739183146060397,
           0.6876052143458238,
           0.7124431759999141,
           0.6388248696371601,
           0.6179240381793888,
           0.7473315291448805,
           0.7220198157540307,
           0.7781250483722055,
           0.6346630628013894,
           0.7155671569484896,
           0.6241925768986212,
           0.7058024532609175,
           0.7642950130614998,
           0.6707175022585886,
           0.7908318679795143,
           0.6172222627957988,
           0.7751376217407175,
           0.6373051279175712,
           0.6669529676957142,
           0.7282514363769497,
           0.5717756455333061,
           0.7840691531942297,
           0.7123815608277642,
           0.7467674669891673,
           0.47547919899870583,
           0.7895517535677807,
           0.6450923495821934,
           0.8194559171150863,
           0.5510057762218604,
           0.7177065751735374,
           0.807113562193361,
           0.7188587172575343,
           0.4849571657014756,
           0.7873716967797666,
           0.8313036952832042,
           0.6980067154192724,
           0.606255856573324,
           0.662906922217495,
           0.5746966898915523,
           0.6139340141548294,
           0.824379597783391,
           0.7404983617959774
          ],
          [
           0.6639497200601144,
           0.7587118153031067,
           0.6441071987561293,
           0.9999999999999998,
           0.43230648825396456,
           0.5932896266912262,
           0.4739581209383085,
           0.5810741610391829,
           0.5732971506516018,
           0.4873845298149105,
           0.605118112075798,
           0.5749595776040812,
           0.874842218876442,
           0.5835893711444103,
           0.680513840506704,
           0.9214227351697282,
           0.5688539077226253,
           0.46385144316589116,
           0.4495192004102895,
           0.6587380322930616,
           0.6105612585326816,
           0.584150905667685,
           0.6302765831560894,
           0.6214218109285344,
           0.5306044456208804,
           0.477691030232994,
           0.6203762496101362,
           0.8242294380543913,
           0.6898961034751061,
           0.525869229575616,
           0.4857797976945688,
           0.5199708626365694,
           0.6254892744975287,
           0.7048331610245027,
           0.5474218666547062,
           0.6922083055816459,
           0.6075691143366521,
           0.5329986157991944,
           0.6810392261948155,
           0.6144188937684875,
           0.6392515775880236,
           0.4623259186970427,
           0.6010995263637396,
           0.550695599672039,
           0.5700836458865384,
           0.4014832496942011,
           0.4789310677587423,
           0.4741415681010731,
           0.720546214681504,
           0.6058758008494709,
           0.5309620965441291,
           0.7150355309319059,
           0.5861059787775049,
           0.39782504021471043,
           0.619989588876146,
           0.640058450481647,
           0.6862128514113063,
           0.49101882452231105,
           0.6840471807898356,
           0.5375531423149165,
           0.5695573555680792,
           0.670234839313695,
           0.5585291478019733
          ],
          [
           0.5173784501260319,
           0.6024674473830335,
           0.5694491771828272,
           0.43230648825396456,
           1.0000000000000002,
           0.5623728933659359,
           0.5189647522661767,
           0.460578789633282,
           0.49646532342635064,
           0.458517908902277,
           0.5130634203062662,
           0.4852556851770701,
           0.5317760477183943,
           0.5693721568313935,
           0.5762373524117403,
           0.4950535820983674,
           0.5862474692588424,
           0.476678780188738,
           0.5434666024492447,
           0.5541145011732582,
           0.5525928602098745,
           0.49620130130067003,
           0.46903448732711706,
           0.5055521624192851,
           0.5434604155241889,
           0.5093625736901526,
           0.5637524846508458,
           0.5113925197392648,
           0.5323435714020202,
           0.46844263246495577,
           0.4869377443727217,
           0.49377626770228744,
           0.5395335317943861,
           0.548624733179553,
           0.49664690738517664,
           0.5978448127775895,
           0.4558323107175507,
           0.4977289851052882,
           0.8391201793288996,
           0.4885731667864235,
           0.5130596821620866,
           0.4266445228762794,
           0.5523256948509327,
           0.48656819808282337,
           0.5352191545700303,
           0.3998844269029782,
           0.5724771504471892,
           0.4516209825391083,
           0.5527721391778747,
           0.5029370521441285,
           0.47883079451439736,
           0.5898038178525169,
           0.5597558309855416,
           0.15876622165789905,
           0.5119305804689807,
           0.6310653476373829,
           0.4560536915863873,
           0.40206847487563413,
           0.527557586666403,
           0.39298067566873846,
           0.4520025638209859,
           0.5910965922301762,
           0.6513326401626336
          ],
          [
           0.7873522764379,
           0.7742586837710063,
           0.7693067188468178,
           0.5932896266912262,
           0.5623728933659359,
           0.9999999999999996,
           0.7024870758949554,
           0.7187477803424197,
           0.6233376969614717,
           0.6732721861459984,
           0.6318773609417063,
           0.6584423199218311,
           0.7142747181338756,
           0.7578115680896995,
           0.7544050623422129,
           0.6255013948764894,
           0.732934958757482,
           0.6742290166935001,
           0.6292219836953933,
           0.8331225733944351,
           0.7597398389094393,
           0.6723570040981526,
           0.6567975936540241,
           0.746243155094073,
           0.6275715339682175,
           0.6596753233336066,
           0.7316252366039371,
           0.7334519477508021,
           0.7285088991488242,
           0.7358168251837862,
           0.707692813852262,
           0.6137209323705355,
           0.6358169500417825,
           0.7973317783102465,
           0.6327617498246592,
           0.8412593728603308,
           0.6330979294997295,
           0.6696912631277943,
           0.5785336446603602,
           0.6885013306906931,
           0.7169900684509855,
           0.7024334348265953,
           0.7292436498281165,
           0.8135358753438269,
           0.8283304063598503,
           0.5574468267493422,
           0.7868260427585678,
           0.7358889460942519,
           0.7801161133364123,
           0.5577090298544309,
           0.8030997257996746,
           0.8337980744584077,
           0.7563519756743409,
           0.44709607470957863,
           0.6540833173513281,
           0.8285504385450346,
           0.7414600477154638,
           0.5451174902349939,
           0.7413099468425263,
           0.608875360115553,
           0.7311215600006906,
           0.8192182871516398,
           0.7376381850190772
          ],
          [
           0.6976447236064789,
           0.7255112881980637,
           0.6986285911762681,
           0.4739581209383085,
           0.5189647522661767,
           0.7024870758949554,
           0.9999999999999998,
           0.6974243423110276,
           0.5101109527965914,
           0.6640941426348675,
           0.7112290006911228,
           0.5885069843744712,
           0.6254087103076671,
           0.6983165474751774,
           0.7062427672653842,
           0.6013398504157855,
           0.7372184535590895,
           0.7145610624095409,
           0.7206770318067113,
           0.6769043533925025,
           0.6867472803091975,
           0.6026598387561748,
           0.6182899262885967,
           0.6686319021789409,
           0.7156502774972002,
           0.725352747672535,
           0.6702421574227675,
           0.6236760733918825,
           0.6571403390998396,
           0.6361035578824918,
           0.6475613108831672,
           0.5685799832617326,
           0.6342148559459811,
           0.7445849914242175,
           0.6254411829764016,
           0.7452834738280151,
           0.6046923489795237,
           0.5715704030455497,
           0.5465807637394624,
           0.6241102748945152,
           0.6449582318985442,
           0.583897341535023,
           0.6180241164498598,
           0.7058333318229958,
           0.7313055071569889,
           0.48702080001486064,
           0.8223571524733582,
           0.6834468513610308,
           0.7201301181435718,
           0.49972618933664836,
           0.6538460465784366,
           0.7576644169675899,
           0.7206536747526333,
           0.34428301737091027,
           0.7274985852994958,
           0.8065962819928294,
           0.6654928829986949,
           0.4548463352910295,
           0.6426822655130231,
           0.551060984705366,
           0.5881418483480327,
           0.7232568208245617,
           0.6936657278507712
          ],
          [
           0.6764075127092504,
           0.7472009735663332,
           0.6515862722971391,
           0.5810741610391829,
           0.460578789633282,
           0.7187477803424197,
           0.6974243423110276,
           0.9999999999999996,
           0.5542988464107113,
           0.6526495208788684,
           0.6182754664076767,
           0.5692820652144126,
           0.6674285295622573,
           0.685111216575868,
           0.6978418864228144,
           0.6079899099973678,
           0.6587614911146635,
           0.6737108825167063,
           0.6569798164068354,
           0.6898107999704219,
           0.606512279298258,
           0.6568157119596085,
           0.6190777391888902,
           0.6721385134639851,
           0.5884084380446054,
           0.6078222274076588,
           0.6847792387289993,
           0.6900829135374835,
           0.645340884188905,
           0.7202332070588331,
           0.5769384315389334,
           0.5554631857663859,
           0.5655611221079193,
           0.7248807811443125,
           0.5867427045289505,
           0.753772125918493,
           0.6048828034221219,
           0.5612742728195987,
           0.5420863389947098,
           0.6217986380862518,
           0.6122367918797048,
           0.6188753810205503,
           0.6251888586304306,
           0.704626982445984,
           0.711207494226539,
           0.4723006548109563,
           0.6945354143189268,
           0.7576514620362236,
           0.7163616697610433,
           0.5800445494561837,
           0.6462093072284412,
           0.7478178355731667,
           0.7010507020623787,
           0.36064603659257344,
           0.6184738547618386,
           0.7557789030908819,
           0.6815422628995145,
           0.5298757766929758,
           0.8435470208633908,
           0.5666703969421603,
           0.6402212934083503,
           0.7052612195160852,
           0.657965039403095
          ],
          [
           0.6050938563130656,
           0.6533373428924845,
           0.5742220563529317,
           0.5732971506516018,
           0.49646532342635064,
           0.6233376969614717,
           0.5101109527965914,
           0.5542988464107113,
           1,
           0.5356196505911339,
           0.5424096779101912,
           0.5856892757141623,
           0.653450056523573,
           0.5859680828719528,
           0.6243247598092592,
           0.5851669113929514,
           0.5347544703829525,
           0.4779436188868534,
           0.4451751670444512,
           0.5946909021092794,
           0.5318212404414626,
           0.48966753347675884,
           0.7862184690283371,
           0.5978446493595758,
           0.627235342950789,
           0.46977981047313566,
           0.5821464181065985,
           0.6612941088499249,
           0.627931308693868,
           0.5530648247285574,
           0.46008367275848916,
           0.7248152445569414,
           0.5694194063226504,
           0.652046853658665,
           0.5825598575734856,
           0.6772434108838703,
           0.5203214388063321,
           0.4411364058009258,
           0.5836731701816232,
           0.590092782687333,
           0.5579757626980589,
           0.4658310483918839,
           0.5683791916144123,
           0.587626440766259,
           0.5512418190579165,
           0.4080320180069582,
           0.524569335721361,
           0.49467538865550775,
           0.6180435958069573,
           0.49125061374028683,
           0.5360562642422896,
           0.6220399442297238,
           0.627638159820622,
           0.4749349291840319,
           0.5357784194150498,
           0.5894714032379114,
           0.5549716941026773,
           0.5124243306234236,
           0.6154434910294263,
           0.4592350539041009,
           0.49862424780554593,
           0.6384454236858957,
           0.5999499655845102
          ],
          [
           0.6072033101724544,
           0.6201454617586741,
           0.6183117458298113,
           0.4873845298149105,
           0.458517908902277,
           0.6732721861459984,
           0.6640941426348675,
           0.6526495208788684,
           0.5356196505911339,
           1,
           0.5410410327425295,
           0.5096604683121949,
           0.6340905489162927,
           0.7118046188608634,
           0.6645776199327593,
           0.5218991989615934,
           0.6157584269120284,
           0.6474459119002347,
           0.552023802315325,
           0.6575552959163928,
           0.6294410049012299,
           0.5746439931069044,
           0.5084552803182406,
           0.608447925265531,
           0.6351892824556586,
           0.7181372329714769,
           0.6575262042358044,
           0.6292163930996567,
           0.5387845019954423,
           0.6719288578951683,
           0.6299240480174788,
           0.5942082727811644,
           0.4681266663843085,
           0.7209958866440527,
           0.7035507710709069,
           0.8420492992349131,
           0.5503623781799143,
           0.4482262528015034,
           0.5298179512723304,
           0.5797475681670455,
           0.580719551230867,
           0.8209112228306654,
           0.605795462918593,
           0.6174330140146344,
           0.7082139292664557,
           0.5125998773318421,
           0.6545690069800156,
           0.652469616870508,
           0.6278664931114533,
           0.49605901598422747,
           0.623475766368884,
           0.687692482698522,
           0.6663754913048083,
           0.38884662150727967,
           0.5656437947697378,
           0.6780226792283006,
           0.6793588788316507,
           0.5181987186630697,
           0.7678290285754157,
           0.6120728638059942,
           0.607419439204891,
           0.6694871400500173,
           0.6119318252251935
          ],
          [
           0.71832618226133,
           0.7461470198421789,
           0.7893634790569581,
           0.605118112075798,
           0.5130634203062662,
           0.6318773609417063,
           0.7112290006911228,
           0.6182754664076767,
           0.5424096779101912,
           0.5410410327425295,
           1.0000000000000007,
           0.690393429509369,
           0.7149206575740168,
           0.5894291686234394,
           0.6321568698300528,
           0.7734712542037137,
           0.7185889898640563,
           0.5768780369690006,
           0.5782373532991814,
           0.6016326152545378,
           0.6998482830289046,
           0.5877239282128053,
           0.7109829545973603,
           0.6315668269535926,
           0.6273041167364701,
           0.5213393022138242,
           0.5747045738912697,
           0.6192354120225404,
           0.7529394025549336,
           0.5697498112216569,
           0.6564600404599358,
           0.6333345008020854,
           0.6381285395684327,
           0.6764424323321808,
           0.6567144609248565,
           0.68972411448365,
           0.6010318332684967,
           0.5808143805815618,
           0.6016996064361236,
           0.6269559307938344,
           0.6412137266199417,
           0.506460015655376,
           0.6255930973678578,
           0.6272833676187837,
           0.6312841216494164,
           0.4013006016604143,
           0.772080279495611,
           0.5485667418152517,
           0.7549481282136377,
           0.45847322947372204,
           0.5739144843544177,
           0.685785681543764,
           0.6231633790354466,
           0.3844330052643631,
           0.9733189856194251,
           0.7414661432643079,
           0.5817543901081353,
           0.498613147887075,
           0.6382128725373134,
           0.4782679375748415,
           0.5346349937408005,
           0.7305428664277205,
           0.6516205956975509
          ],
          [
           0.7102244490501095,
           0.693892131567746,
           0.7942435610171565,
           0.5749595776040812,
           0.4852556851770701,
           0.6584423199218311,
           0.5885069843744712,
           0.5692820652144126,
           0.5856892757141623,
           0.5096604683121949,
           0.690393429509369,
           1,
           0.6975589998825388,
           0.6199660433948596,
           0.6455998445862795,
           0.5792645159371685,
           0.6402067322175897,
           0.5045774198527911,
           0.46954807231434764,
           0.6494434989868009,
           0.6403145916911747,
           0.5131821313350655,
           0.657192132010326,
           0.6053223712508111,
           0.5562623193003919,
           0.48365318184601314,
           0.6785930294320502,
           0.6244914615062405,
           0.8745591582660733,
           0.5575337785133191,
           0.5943745204032528,
           0.5357034509922713,
           0.6977440942378221,
           0.646959753653028,
           0.6208602340768815,
           0.6725595719355154,
           0.576837483526784,
           0.6670360722425261,
           0.5811078537193689,
           0.5747271441225255,
           0.6034480010608902,
           0.4833334207531309,
           0.6870184702371585,
           0.5887168679319567,
           0.6205643338712038,
           0.4230386707019689,
           0.607557203153535,
           0.504950043522856,
           0.7457769595179216,
           0.4503357649583447,
           0.5917654885185326,
           0.6706475883873348,
           0.6140079031561261,
           0.36942508942855884,
           0.6828182495772444,
           0.7063558379255914,
           0.6306717884113167,
           0.5265716755892395,
           0.5789652372123867,
           0.47215112688704397,
           0.4955327145778219,
           0.7756985260976075,
           0.5944990463373699
          ],
          [
           0.7964009676985204,
           0.8045300093620458,
           0.7952629092627188,
           0.874842218876442,
           0.5317760477183943,
           0.7142747181338756,
           0.6254087103076671,
           0.6674285295622573,
           0.653450056523573,
           0.6340905489162927,
           0.7149206575740168,
           0.6975589998825388,
           0.9999999999999998,
           0.7630992177182219,
           0.819302447309192,
           0.8584120252320497,
           0.7340507295588214,
           0.6225168377527746,
           0.5738533120022,
           0.7963603112594004,
           0.7070004092947475,
           0.7102247732891049,
           0.6945310046394106,
           0.7557311814704801,
           0.6936830853548993,
           0.6218422634526435,
           0.7898137862917953,
           0.8636304559956614,
           0.7437748516002192,
           0.6861006524058569,
           0.6209400841713657,
           0.6519275393855155,
           0.670132731422312,
           0.8282359193753237,
           0.6959518989217878,
           0.8309380576347607,
           0.6564020898454743,
           0.672345416759052,
           0.71389966503951,
           0.7209360435185047,
           0.7734617185136756,
           0.5767755643128814,
           0.7649495610348087,
           0.6846448485289617,
           0.7266551314012708,
           0.5213140332648672,
           0.6382748583128146,
           0.6079102212324797,
           0.8042976962139257,
           0.6390088386855494,
           0.7050936176609472,
           0.8536219344816768,
           0.7504104628379811,
           0.4971112413741991,
           0.7193263683163376,
           0.7880857220411924,
           0.7988395146211198,
           0.6609723194427971,
           0.7391737692379373,
           0.6006204014329171,
           0.6568650843538879,
           0.8037572927756841,
           0.7060268435556925
          ],
          [
           0.7452352194600637,
           0.73896826171835,
           0.7604163531925141,
           0.5835893711444103,
           0.5693721568313935,
           0.7578115680896995,
           0.6983165474751774,
           0.685111216575868,
           0.5859680828719528,
           0.7118046188608634,
           0.5894291686234394,
           0.6199660433948596,
           0.7630992177182219,
           1,
           0.9265891471091896,
           0.5977230951061803,
           0.7437233786750078,
           0.7293730058433567,
           0.655429905611791,
           0.8066120802234285,
           0.7599296497588462,
           0.7052167400875926,
           0.6258747596112245,
           0.7297909388039262,
           0.7097858229092202,
           0.7004799265599456,
           0.830156237912086,
           0.7675918456007766,
           0.6428913308352663,
           0.7949550631831495,
           0.6653190069805299,
           0.6148418426888743,
           0.5942411742149702,
           0.8387349963193669,
           0.6039841260340896,
           0.8376359896920321,
           0.6237898484259217,
           0.6598020687855192,
           0.5876143269112574,
           0.6614163214299327,
           0.7212611021036229,
           0.6860880052398683,
           0.7668059913796869,
           0.703380402300933,
           0.7633210398521151,
           0.5909577915739757,
           0.7028692711712163,
           0.672837722632681,
           0.7706732173622621,
           0.6109381805337035,
           0.7421154979660873,
           0.8401112670110196,
           0.8082578423537238,
           0.4688050210446953,
           0.617564769125114,
           0.7854161356900529,
           0.7445885501998821,
           0.6555519738511688,
           0.6689895406341593,
           0.6585234824006205,
           0.6731133583020419,
           0.806678535560748,
           0.7410182191612642
          ],
          [
           0.7702478766427923,
           0.7756857825980199,
           0.764353467343911,
           0.680513840506704,
           0.5762373524117403,
           0.7544050623422129,
           0.7062427672653842,
           0.6978418864228144,
           0.6243247598092592,
           0.6645776199327593,
           0.6321568698300528,
           0.6455998445862795,
           0.819302447309192,
           0.9265891471091896,
           1.0000000000000002,
           0.6959770414444513,
           0.7411268058955425,
           0.682801752164554,
           0.6558289848405319,
           0.863075408998736,
           0.7411652472179133,
           0.6683398596029475,
           0.6774938069073764,
           0.7553125120813748,
           0.7069249492656073,
           0.6592889057438223,
           0.8580350291160075,
           0.8635495592063186,
           0.6860748672798587,
           0.7638364811883867,
           0.6028432991714232,
           0.6751416711235284,
           0.6828391465923768,
           0.834406956499344,
           0.6183496293123646,
           0.8404265475165644,
           0.5833152825368363,
           0.6849052000451017,
           0.6499849739065486,
           0.6968687387977738,
           0.7565227918094214,
           0.6361249750564939,
           0.7512376009711272,
           0.7138030822968414,
           0.7335265605249158,
           0.5809041728533104,
           0.6902526850656301,
           0.6400962572374517,
           0.8311532964208544,
           0.6525094109515698,
           0.7532378865361756,
           0.9010349443041676,
           0.7907134474083556,
           0.4953832189721531,
           0.6590738161385138,
           0.7975160353268264,
           0.7991956860340879,
           0.6586191043413957,
           0.6925013559208228,
           0.5719743722453245,
           0.6518808308999536,
           0.8365410009886085,
           0.7723537553861604
          ],
          [
           0.7018847044135793,
           0.8062346875296249,
           0.701167286234508,
           0.9214227351697282,
           0.4950535820983674,
           0.6255013948764894,
           0.6013398504157855,
           0.6079899099973678,
           0.5851669113929514,
           0.5218991989615934,
           0.7734712542037137,
           0.5792645159371685,
           0.8584120252320497,
           0.5977230951061803,
           0.6959770414444513,
           1.0000000000000004,
           0.6413256971217255,
           0.529814658815399,
           0.560765503461293,
           0.6603976981067115,
           0.6566940923333562,
           0.604982984770533,
           0.6977942926578606,
           0.6487315709503377,
           0.6167972916341703,
           0.5294622840288278,
           0.595694460137419,
           0.8036189707170708,
           0.7192994328271417,
           0.5436152133505698,
           0.5577965717630748,
           0.5715775974554715,
           0.6548471881788998,
           0.7149289178387992,
           0.5982803477777596,
           0.7338433003709968,
           0.6473652578127933,
           0.5428302005864651,
           0.6952759251996752,
           0.6472867179409767,
           0.6727607074924283,
           0.4748269835106909,
           0.6302005364900896,
           0.5980146674825272,
           0.6139393217206188,
           0.41633986853299854,
           0.6492582604419647,
           0.5213746350298173,
           0.7431143554409407,
           0.5719438414141902,
           0.5451221996071935,
           0.7304829474209228,
           0.6141457050671957,
           0.4036312714918778,
           0.7671371648194499,
           0.7079441270830946,
           0.6785770872502302,
           0.49617809712181343,
           0.6956045755074898,
           0.5454558232080956,
           0.5829830358026895,
           0.6974081844654487,
           0.6532246246332257
          ],
          [
           0.740656160757028,
           0.7750877652790207,
           0.7692600691050204,
           0.5688539077226253,
           0.5862474692588424,
           0.732934958757482,
           0.7372184535590895,
           0.6587614911146635,
           0.5347544703829525,
           0.6157584269120284,
           0.7185889898640563,
           0.6402067322175897,
           0.7340507295588214,
           0.7437233786750078,
           0.7411268058955425,
           0.6413256971217255,
           0.9999999999999998,
           0.6590333643180184,
           0.683614530851017,
           0.7569945647285483,
           0.6963402857108745,
           0.6789948585217218,
           0.5736162125824389,
           0.6983273131089089,
           0.6668178241050515,
           0.5876273208975276,
           0.7424700558235895,
           0.6947961031004823,
           0.7035914456417134,
           0.6578087641458068,
           0.7393189285269648,
           0.6255164384839227,
           0.6649268579986936,
           0.759160671910263,
           0.6095973380321851,
           0.7541352625315149,
           0.600210092451184,
           0.6601008118458211,
           0.6043979336194797,
           0.6325105888179418,
           0.7336971621101589,
           0.6163245456170512,
           0.7337179601397603,
           0.7035384434542066,
           0.7744714121588712,
           0.4148528323680065,
           0.7225589316136578,
           0.6288705727617079,
           0.7114696230954217,
           0.5462265784266086,
           0.7492491768392152,
           0.776333829568471,
           0.7487655061194539,
           0.4178824347194392,
           0.7208249199876253,
           0.7849043201683233,
           0.6307752242474398,
           0.5850470262692455,
           0.6755654314712342,
           0.5481739240887925,
           0.6686024289200418,
           0.8266641234609233,
           0.7536469146918553
          ],
          [
           0.6590262174817717,
           0.6588371662690514,
           0.6331587299401443,
           0.46385144316589116,
           0.476678780188738,
           0.6742290166935001,
           0.7145610624095409,
           0.6737108825167063,
           0.4779436188868534,
           0.6474459119002347,
           0.5768780369690006,
           0.5045774198527911,
           0.6225168377527746,
           0.7293730058433567,
           0.682801752164554,
           0.529814658815399,
           0.6590333643180184,
           0.9999999999999996,
           0.6531488216310566,
           0.6792352433889013,
           0.6061740464677299,
           0.6524968856841712,
           0.5453802762630097,
           0.6900038511949661,
           0.7077177631905801,
           0.7568287207351864,
           0.6748403378379829,
           0.5861008447013121,
           0.5350603142200697,
           0.6881132996035142,
           0.5712855235334484,
           0.5188028941790123,
           0.477898410534374,
           0.7310312310709365,
           0.543029608404513,
           0.7564852891930771,
           0.5649054524559123,
           0.495984191717586,
           0.49200495322354854,
           0.6256368160234491,
           0.6536057069671094,
           0.5375727699583139,
           0.642267228601231,
           0.6929059244066397,
           0.6982701387888424,
           0.6934751460498901,
           0.7114549354616946,
           0.7783057165720421,
           0.6578235382134446,
           0.5295693728734661,
           0.6035481820802779,
           0.7423885274644839,
           0.7122799842342827,
           0.5116497380137539,
           0.5610933005761523,
           0.7274583721653354,
           0.6621373374945366,
           0.5996961099222009,
           0.5884769553700763,
           0.5607276118163564,
           0.6605840061254935,
           0.6735623855631072,
           0.7382272816303188
          ],
          [
           0.5976098358673831,
           0.6822782598063795,
           0.6472396957974815,
           0.4495192004102895,
           0.5434666024492447,
           0.6292219836953933,
           0.7206770318067113,
           0.6569798164068354,
           0.4451751670444512,
           0.552023802315325,
           0.5782373532991814,
           0.46954807231434764,
           0.5738533120022,
           0.655429905611791,
           0.6558289848405319,
           0.560765503461293,
           0.683614530851017,
           0.6531488216310566,
           0.9999999999999994,
           0.6560081386632306,
           0.548799816408239,
           0.6503278922914569,
           0.5008439124164206,
           0.5953119192629652,
           0.5995409920860189,
           0.6735472910930937,
           0.6428861316219532,
           0.555250822994009,
           0.5151512754696611,
           0.54919433853059,
           0.5135878564250225,
           0.4858604573221995,
           0.6125979973232217,
           0.60870453581503,
           0.5399231923164971,
           0.6737362327902113,
           0.47509880596035853,
           0.49593331840367794,
           0.5115151423545115,
           0.5610608341396607,
           0.559490230549106,
           0.45015559962250973,
           0.5990177419638979,
           0.6931734132033422,
           0.6896646453082269,
           0.41912993756271966,
           0.7525047181175009,
           0.689883529336069,
           0.6309263455337156,
           0.46213252121800574,
           0.5880761117823154,
           0.6735834624127749,
           0.6691001951204206,
           0.3125267875686315,
           0.5584612225813681,
           0.760807034492989,
           0.5715034450493034,
           0.5185399623794813,
           0.5811721792340194,
           0.4303485219743024,
           0.5332009313888927,
           0.624701570801848,
           0.7627774190331451
          ],
          [
           0.7867724545581847,
           0.7889168459575395,
           0.7862287854835803,
           0.6587380322930616,
           0.5541145011732582,
           0.8331225733944351,
           0.6769043533925025,
           0.6898107999704219,
           0.5946909021092794,
           0.6575552959163928,
           0.6016326152545378,
           0.6494434989868009,
           0.7963603112594004,
           0.8066120802234285,
           0.863075408998736,
           0.6603976981067115,
           0.7569945647285483,
           0.6792352433889013,
           0.6560081386632306,
           0.9999999999999999,
           0.726203314513891,
           0.7219095285860644,
           0.6505088555214977,
           0.7627076728511897,
           0.6663653747382342,
           0.7125021533800663,
           0.850444908130723,
           0.8293746183744797,
           0.672761910451647,
           0.7110932044241314,
           0.659604301229672,
           0.6426849154901962,
           0.6476213481222012,
           0.8403662454095774,
           0.6241825841370301,
           0.8350901892869683,
           0.5900173814591521,
           0.7027959632093749,
           0.6047925162526622,
           0.6998500843527132,
           0.7490424143005086,
           0.6181681561740734,
           0.7876375634066383,
           0.7324067410812156,
           0.7620606950438704,
           0.5763941899779549,
           0.7060291686927831,
           0.7127652929900372,
           0.8265617383600765,
           0.6042635338962347,
           0.7462507963360009,
           0.9146076208832519,
           0.7952069910469393,
           0.4907321766497441,
           0.6237354638879407,
           0.8402987353857224,
           0.83761882553601,
           0.6518512226185471,
           0.7207116512290949,
           0.5721534339142005,
           0.686713445505043,
           0.8307770878231282,
           0.7634405688197679
          ],
          [
           0.7133394165562901,
           0.7591801429294817,
           0.7566809863073423,
           0.6105612585326816,
           0.5525928602098745,
           0.7597398389094393,
           0.6867472803091975,
           0.606512279298258,
           0.5318212404414626,
           0.6294410049012299,
           0.6998482830289046,
           0.6403145916911747,
           0.7070004092947475,
           0.7599296497588462,
           0.7411652472179133,
           0.6566940923333562,
           0.6963402857108745,
           0.6061740464677299,
           0.548799816408239,
           0.726203314513891,
           0.9999999999999996,
           0.559059150602499,
           0.6264572535271946,
           0.6516145837737796,
           0.6394064311412114,
           0.6615541281565973,
           0.6698396208785709,
           0.686311073671519,
           0.6973678499206317,
           0.6690217814741306,
           0.8027499760044602,
           0.5990741809720832,
           0.6529519055832712,
           0.8051505196450375,
           0.6439656337302483,
           0.7647488929020074,
           0.7043136213750851,
           0.6519871809814752,
           0.6028432098363252,
           0.6054106864040923,
           0.6837716481487794,
           0.7187878154696339,
           0.6544287750953008,
           0.7348825343339517,
           0.8073709739945103,
           0.5072035341980381,
           0.7084734623228788,
           0.5781293611180492,
           0.7998093648258878,
           0.5690360670400413,
           0.6418714197766702,
           0.7625047204256514,
           0.7112015535696216,
           0.41565884100507877,
           0.7976314982232965,
           0.766882469001914,
           0.6728606289546875,
           0.48514715099012445,
           0.6629122248310199,
           0.6826111833518063,
           0.6422949385255623,
           0.732135027687697,
           0.6769380314951565
          ],
          [
           0.7094869774380221,
           0.6944257541382584,
           0.6739183146060397,
           0.584150905667685,
           0.49620130130067003,
           0.6723570040981526,
           0.6026598387561748,
           0.6568157119596085,
           0.48966753347675884,
           0.5746439931069044,
           0.5877239282128053,
           0.5131821313350655,
           0.7102247732891049,
           0.7052167400875926,
           0.6683398596029475,
           0.604982984770533,
           0.6789948585217218,
           0.6524968856841712,
           0.6503278922914569,
           0.7219095285860644,
           0.559059150602499,
           1,
           0.48805575566100934,
           0.7073748975516827,
           0.6201877762825869,
           0.601161862296773,
           0.7054816391544199,
           0.650129516345591,
           0.5725115477469085,
           0.6175103186967293,
           0.5114806966217478,
           0.5115613629184733,
           0.4441293136012408,
           0.7222856401768916,
           0.5664224927585934,
           0.7083683769022486,
           0.54764673246235,
           0.5124356959426635,
           0.5709949656452711,
           0.660691899851114,
           0.6787210162116876,
           0.5280915568121716,
           0.6682754595769298,
           0.6217913683940386,
           0.6088839924877599,
           0.46151906806990806,
           0.6455192071952498,
           0.6397850443640192,
           0.6291135057632957,
           0.548334723302496,
           0.6587027115009396,
           0.7401625205552347,
           0.6736146565389256,
           0.33299810616780184,
           0.572215343182003,
           0.7433413304024636,
           0.6517921265412112,
           0.6407674214461827,
           0.6900310338121671,
           0.5185847972118197,
           0.5512817692807633,
           0.7427480832855786,
           0.6678598880436071
          ],
          [
           0.638245413904341,
           0.7505460345501849,
           0.6876052143458238,
           0.6302765831560894,
           0.46903448732711706,
           0.6567975936540241,
           0.6182899262885967,
           0.6190777391888902,
           0.7862184690283371,
           0.5084552803182406,
           0.7109829545973603,
           0.657192132010326,
           0.6945310046394106,
           0.6258747596112245,
           0.6774938069073764,
           0.6977942926578606,
           0.5736162125824389,
           0.5453802762630097,
           0.5008439124164206,
           0.6505088555214977,
           0.6264572535271946,
           0.48805575566100934,
           1.0000000000000004,
           0.5761567139043241,
           0.5950428268530791,
           0.54227856216678,
           0.6099621972811138,
           0.6943641369681345,
           0.7414427179157984,
           0.5696061322390144,
           0.5783471210361104,
           0.7341246663682293,
           0.639319993563978,
           0.6613691769674275,
           0.5924321516342005,
           0.6810003276034874,
           0.5385864860741293,
           0.5405003934386706,
           0.6082266625497086,
           0.5756928288129416,
           0.5566010987202624,
           0.46987806540986676,
           0.6440313449769013,
           0.6511368611810353,
           0.5997499088591319,
           0.46760643611043917,
           0.6588642445839145,
           0.5544384929233401,
           0.7179025262190895,
           0.42833541691934895,
           0.5312181157719698,
           0.6963070466561959,
           0.6278765639808811,
           0.48498078742420037,
           0.6998486603613943,
           0.6901578907517122,
           0.6265322304138372,
           0.4902249123501403,
           0.6478340850876876,
           0.4608567024492779,
           0.528970323724669,
           0.685002036287188,
           0.6292763217618784
          ],
          [
           0.9315656701553335,
           0.6745650176192706,
           0.7124431759999141,
           0.6214218109285344,
           0.5055521624192851,
           0.746243155094073,
           0.6686319021789409,
           0.6721385134639851,
           0.5978446493595758,
           0.608447925265531,
           0.6315668269535926,
           0.6053223712508111,
           0.7557311814704801,
           0.7297909388039262,
           0.7553125120813748,
           0.6487315709503377,
           0.6983273131089089,
           0.6900038511949661,
           0.5953119192629652,
           0.7627076728511897,
           0.6516145837737796,
           0.7073748975516827,
           0.5761567139043241,
           0.9999999999999991,
           0.6989308149254647,
           0.675835227315444,
           0.7581354201513432,
           0.7270752753092224,
           0.6377542865332425,
           0.7175252456191257,
           0.5740118119086659,
           0.5679213861195102,
           0.5445682423541119,
           0.781970774963916,
           0.6228984442867141,
           0.7857145416200237,
           0.5962516337899555,
           0.6041594648024127,
           0.5619770646958919,
           0.9298495442066188,
           0.8602009460610244,
           0.5753603801287638,
           0.694115775446429,
           0.6756046870498336,
           0.6920810620368985,
           0.568142710104114,
           0.6563170484396911,
           0.7004956947507261,
           0.7090152954317537,
           0.6486782331100298,
           0.7788408371555934,
           0.784140465103516,
           0.6930882143653136,
           0.4189188529965181,
           0.6310631008391697,
           0.7285925651900309,
           0.7102558524656439,
           0.6445689125777548,
           0.6816405195172628,
           0.5673842089367661,
           0.6858704099845399,
           0.8388804469272783,
           0.7231528533054544
          ],
          [
           0.6795184403986544,
           0.634452719029619,
           0.6388248696371601,
           0.5306044456208804,
           0.5434604155241889,
           0.6275715339682175,
           0.7156502774972002,
           0.5884084380446054,
           0.627235342950789,
           0.6351892824556586,
           0.6273041167364701,
           0.5562623193003919,
           0.6936830853548993,
           0.7097858229092202,
           0.7069249492656073,
           0.6167972916341703,
           0.6668178241050515,
           0.7077177631905801,
           0.5995409920860189,
           0.6663653747382342,
           0.6394064311412114,
           0.6201877762825869,
           0.5950428268530791,
           0.6989308149254647,
           1.0000000000000002,
           0.6754631924446979,
           0.6952357977503336,
           0.6918421242150097,
           0.5742568221349684,
           0.6810807780106667,
           0.5531503254453679,
           0.5913852488785382,
           0.5771599452894488,
           0.7481653988054948,
           0.5537493956269907,
           0.7835173968070195,
           0.5479206820130437,
           0.5198361073559246,
           0.5596785470030099,
           0.6757295996100803,
           0.6952629670163661,
           0.49669657098552944,
           0.6233117728008642,
           0.6430860786991868,
           0.6442470782355022,
           0.5459832434198406,
           0.6884102492860225,
           0.6136970011702488,
           0.6763392267491928,
           0.5851591337106042,
           0.6122222652801215,
           0.7493119129803855,
           0.7090476149238043,
           0.377031530563009,
           0.6159229694177351,
           0.7181073897871468,
           0.6354728715975582,
           0.5920132081513053,
           0.598819512944841,
           0.49510885573431906,
           0.5852354721807238,
           0.7178957186482824,
           0.735795124394671
          ],
          [
           0.6349831272989774,
           0.6305037702401706,
           0.6179240381793888,
           0.477691030232994,
           0.5093625736901526,
           0.6596753233336066,
           0.725352747672535,
           0.6078222274076588,
           0.46977981047313566,
           0.7181372329714769,
           0.5213393022138242,
           0.48365318184601314,
           0.6218422634526435,
           0.7004799265599456,
           0.6592889057438223,
           0.5294622840288278,
           0.5876273208975276,
           0.7568287207351864,
           0.6735472910930937,
           0.7125021533800663,
           0.6615541281565973,
           0.601161862296773,
           0.54227856216678,
           0.675835227315444,
           0.6754631924446979,
           1.0000000000000002,
           0.6806075683550941,
           0.5717019552184929,
           0.49355471921815064,
           0.6613353224095566,
           0.6037623381655713,
           0.4936781028908495,
           0.4825663580137453,
           0.710612187219175,
           0.6320247762392724,
           0.7937246096693712,
           0.5885122964342479,
           0.47343940320928335,
           0.528467786881417,
           0.6122608322798936,
           0.6007533656175825,
           0.588002766710825,
           0.5878620846789318,
           0.6564573792254516,
           0.6853354843226198,
           0.6544058559136255,
           0.6957305162739957,
           0.7532172025987692,
           0.6511104542696123,
           0.46801795514399136,
           0.5987993735015216,
           0.7302180560297185,
           0.702535636499869,
           0.4061705811423522,
           0.5357804752789723,
           0.7530040534437796,
           0.6849869491338784,
           0.5150238590826658,
           0.6386306328788754,
           0.5755929333513264,
           0.6327817139075989,
           0.643573060878058,
           0.7274552248838106
          ],
          [
           0.7565170652001336,
           0.7235194784083494,
           0.7473315291448805,
           0.6203762496101362,
           0.5637524846508458,
           0.7316252366039371,
           0.6702421574227675,
           0.6847792387289993,
           0.5821464181065985,
           0.6575262042358044,
           0.5747045738912697,
           0.6785930294320502,
           0.7898137862917953,
           0.830156237912086,
           0.8580350291160075,
           0.595694460137419,
           0.7424700558235895,
           0.6748403378379829,
           0.6428861316219532,
           0.850444908130723,
           0.6698396208785709,
           0.7054816391544199,
           0.6099621972811138,
           0.7581354201513432,
           0.6952357977503336,
           0.6806075683550941,
           0.9999999999999996,
           0.7959132054395641,
           0.6843104104461073,
           0.7329140312627074,
           0.5660959526085259,
           0.6486089142104103,
           0.6108187824209034,
           0.7913919776087882,
           0.6233840441236461,
           0.8011630328362132,
           0.5694307680260606,
           0.666781362640123,
           0.5932327187554235,
           0.710207972209817,
           0.7612932688333018,
           0.5970134060385488,
           0.7311288175104165,
           0.670631448085164,
           0.7130483739802504,
           0.5788513960997281,
           0.642382268377248,
           0.6635072987900743,
           0.7927721570693201,
           0.6373559129128279,
           0.7683245036269446,
           0.8692427319341025,
           0.7568657950866984,
           0.4543710136616601,
           0.5910821585414646,
           0.7883327253841572,
           0.8021450579086766,
           0.6590792078665849,
           0.6695586578604706,
           0.5267586374597278,
           0.6678392179570658,
           0.8507333144073765,
           0.7830993432059059
          ],
          [
           0.7536563548193478,
           0.7874604586236262,
           0.7220198157540307,
           0.8242294380543913,
           0.5113925197392648,
           0.7334519477508021,
           0.6236760733918825,
           0.6900829135374835,
           0.6612941088499249,
           0.6292163930996567,
           0.6192354120225404,
           0.6244914615062405,
           0.8636304559956614,
           0.7675918456007766,
           0.8635495592063186,
           0.8036189707170708,
           0.6947961031004823,
           0.5861008447013121,
           0.555250822994009,
           0.8293746183744797,
           0.686311073671519,
           0.650129516345591,
           0.6943641369681345,
           0.7270752753092224,
           0.6918421242150097,
           0.5717019552184929,
           0.7959132054395641,
           1,
           0.7129388520269813,
           0.7129711981528873,
           0.5554095054515215,
           0.6930160824181422,
           0.6671219396388015,
           0.842296410247992,
           0.5439590958831962,
           0.824956751520988,
           0.5953423598291978,
           0.661833537634755,
           0.6666876121113653,
           0.7066412426104466,
           0.7354102604989559,
           0.573105108207538,
           0.710383755187006,
           0.6902006394771296,
           0.6968946730180922,
           0.5031048782466837,
           0.6126047296571703,
           0.5988415959753735,
           0.7972726552048479,
           0.6556345278686209,
           0.7004755745933581,
           0.866416116679889,
           0.7206160570622918,
           0.4413206751669616,
           0.6534051446021353,
           0.737882268026223,
           0.7775602377397921,
           0.6073196991583524,
           0.7480455206350944,
           0.5727350600612007,
           0.6822133458337409,
           0.8019321800843742,
           0.6752102827722172
          ],
          [
           0.7421385935765215,
           0.82738353990558,
           0.7781250483722055,
           0.6898961034751061,
           0.5323435714020202,
           0.7285088991488242,
           0.6571403390998396,
           0.645340884188905,
           0.627931308693868,
           0.5387845019954423,
           0.7529394025549336,
           0.8745591582660733,
           0.7437748516002192,
           0.6428913308352663,
           0.6860748672798587,
           0.7192994328271417,
           0.7035914456417134,
           0.5350603142200697,
           0.5151512754696611,
           0.672761910451647,
           0.6973678499206317,
           0.5725115477469085,
           0.7414427179157984,
           0.6377542865332425,
           0.5742568221349684,
           0.49355471921815064,
           0.6843104104461073,
           0.7129388520269813,
           1.0000000000000002,
           0.5763425033459741,
           0.6184173185818729,
           0.6547963446834713,
           0.7266860292649577,
           0.6745508243067017,
           0.5889980956946734,
           0.7149193524350264,
           0.5953338164037517,
           0.6540734888453105,
           0.6929261216639153,
           0.6226263017961818,
           0.6381072705914296,
           0.5216052426541709,
           0.6811915174654406,
           0.6210652087322891,
           0.6488715565196624,
           0.4569208516055621,
           0.668025756576188,
           0.5409755721699376,
           0.7697680629641532,
           0.47612543604918733,
           0.6227135264170365,
           0.7254709454580531,
           0.6574567860664235,
           0.36668123561546384,
           0.7631545070402284,
           0.7520714390606835,
           0.6401771420024813,
           0.5014785365640133,
           0.6919443557523246,
           0.48512927623193935,
           0.5571967066876351,
           0.8080656198226657,
           0.6194295994054231
          ],
          [
           0.7060336109460186,
           0.6634598048956386,
           0.6346630628013894,
           0.525869229575616,
           0.46844263246495577,
           0.7358168251837862,
           0.6361035578824918,
           0.7202332070588331,
           0.5530648247285574,
           0.6719288578951683,
           0.5697498112216569,
           0.5575337785133191,
           0.6861006524058569,
           0.7949550631831495,
           0.7638364811883867,
           0.5436152133505698,
           0.6578087641458068,
           0.6881132996035142,
           0.54919433853059,
           0.7110932044241314,
           0.6690217814741306,
           0.6175103186967293,
           0.5696061322390144,
           0.7175252456191257,
           0.6810807780106667,
           0.6613353224095566,
           0.7329140312627074,
           0.7129711981528873,
           0.5763425033459741,
           1.0000000000000009,
           0.6292356287707521,
           0.5781254426203242,
           0.5387623975309282,
           0.8132665143563877,
           0.5579670954352995,
           0.8099026586954613,
           0.5832898544421059,
           0.5609441208512449,
           0.49402629467797954,
           0.6747176545846896,
           0.7025246703980226,
           0.6248418625564929,
           0.6842690250055566,
           0.7192484243681659,
           0.7447257098780027,
           0.5503790067000018,
           0.6567842583382757,
           0.7188402122809034,
           0.7178037326507246,
           0.5829349801847854,
           0.7153979588027393,
           0.775719196279398,
           0.753204912820161,
           0.4564499042850617,
           0.5986264814655597,
           0.7204889584220016,
           0.7255318389811951,
           0.6317684279730831,
           0.6972359777750469,
           0.5965689803813121,
           0.7389847662293705,
           0.7321682093229952,
           0.7009736228114507
          ],
          [
           0.6348848147163636,
           0.7040417191359922,
           0.7155671569484896,
           0.4857797976945688,
           0.4869377443727217,
           0.707692813852262,
           0.6475613108831672,
           0.5769384315389334,
           0.46008367275848916,
           0.6299240480174788,
           0.6564600404599358,
           0.5943745204032528,
           0.6209400841713657,
           0.6653190069805299,
           0.6028432991714232,
           0.5577965717630748,
           0.7393189285269648,
           0.5712855235334484,
           0.5135878564250225,
           0.659604301229672,
           0.8027499760044602,
           0.5114806966217478,
           0.5783471210361104,
           0.5740118119086659,
           0.5531503254453679,
           0.6037623381655713,
           0.5660959526085259,
           0.5554095054515215,
           0.6184173185818729,
           0.6292356287707521,
           0.9999999999999999,
           0.5277553027636235,
           0.578604394320833,
           0.7180942840894364,
           0.6025226166612518,
           0.6897156087242526,
           0.6313524247592364,
           0.5645807907965731,
           0.5217331957152326,
           0.5240462471631447,
           0.6013099888846386,
           0.6914545540597916,
           0.7173895796013776,
           0.7038524986021277,
           0.81100630009877,
           0.37894714495442094,
           0.7048870071395874,
           0.5514494313316236,
           0.6698312410991292,
           0.3865154210711933,
           0.59299253731131,
           0.6621087341284231,
           0.6684487236249832,
           0.3733275586355136,
           0.7025435013819048,
           0.7088228992393557,
           0.6179746093847349,
           0.4466096974610036,
           0.6505794886418914,
           0.6712598312946529,
           0.5761301413261262,
           0.6760691944628765,
           0.6148908074843261
          ],
          [
           0.5848615599785261,
           0.6979172194122819,
           0.6241925768986212,
           0.5199708626365694,
           0.49377626770228744,
           0.6137209323705355,
           0.5685799832617326,
           0.5554631857663859,
           0.7248152445569414,
           0.5942082727811644,
           0.6333345008020854,
           0.5357034509922713,
           0.6519275393855155,
           0.6148418426888743,
           0.6751416711235284,
           0.5715775974554715,
           0.6255164384839227,
           0.5188028941790123,
           0.4858604573221995,
           0.6426849154901962,
           0.5990741809720832,
           0.5115613629184733,
           0.7341246663682293,
           0.5679213861195102,
           0.5913852488785382,
           0.4936781028908495,
           0.6486089142104103,
           0.6930160824181422,
           0.6547963446834713,
           0.5781254426203242,
           0.5277553027636235,
           1,
           0.5462886018997235,
           0.6184702300926639,
           0.5463816654485271,
           0.6871469120409873,
           0.45531481991889744,
           0.5384277799632505,
           0.5949197937532269,
           0.5632413168784396,
           0.5374538987881139,
           0.5112441033094952,
           0.6083868639104398,
           0.6635650508117665,
           0.5994675996232262,
           0.4546004005515042,
           0.579961358640852,
           0.544250825019744,
           0.6331769897508142,
           0.39919735971743586,
           0.5887828589371086,
           0.6879729298663291,
           0.6200421788253748,
           0.4442064084590236,
           0.663597258049346,
           0.642969909474556,
           0.5682389473988787,
           0.5610969507529013,
           0.6370034541343732,
           0.40117048914697506,
           0.508668813681988,
           0.6727752680978354,
           0.6060012837875473
          ],
          [
           0.6255346424212905,
           0.7507615165425849,
           0.7058024532609175,
           0.6254892744975287,
           0.5395335317943861,
           0.6358169500417825,
           0.6342148559459811,
           0.5655611221079193,
           0.5694194063226504,
           0.4681266663843085,
           0.6381285395684327,
           0.6977440942378221,
           0.670132731422312,
           0.5942411742149702,
           0.6828391465923768,
           0.6548471881788998,
           0.6649268579986936,
           0.477898410534374,
           0.6125979973232217,
           0.6476213481222012,
           0.6529519055832712,
           0.4441293136012408,
           0.639319993563978,
           0.5445682423541119,
           0.5771599452894488,
           0.4825663580137453,
           0.6108187824209034,
           0.6671219396388015,
           0.7266860292649577,
           0.5387623975309282,
           0.578604394320833,
           0.5462886018997235,
           1.0000000000000007,
           0.6509958828321424,
           0.5719196697378388,
           0.6525525810752489,
           0.4699530371127798,
           0.6742916306573239,
           0.6501817549818008,
           0.5355300188239717,
           0.5840921517006341,
           0.46411999475565463,
           0.6156174701993438,
           0.6728863341333424,
           0.6861789029390938,
           0.32881492656812755,
           0.6587448670751949,
           0.4728879268090826,
           0.7912267201159018,
           0.5146791309563412,
           0.565244065863891,
           0.7167402483023423,
           0.6618376207437561,
           0.3601676033764599,
           0.6409510671866756,
           0.7448082381105823,
           0.6383488376564048,
           0.4290032270641838,
           0.5852094594604039,
           0.42032497627266663,
           0.5643780812627379,
           0.6895382119239506,
           0.6430673987655656
          ],
          [
           0.7982727174739455,
           0.7814991082623145,
           0.7642950130614998,
           0.7048331610245027,
           0.548624733179553,
           0.7973317783102465,
           0.7445849914242175,
           0.7248807811443125,
           0.652046853658665,
           0.7209958866440527,
           0.6764424323321808,
           0.646959753653028,
           0.8282359193753237,
           0.8387349963193669,
           0.834406956499344,
           0.7149289178387992,
           0.759160671910263,
           0.7310312310709365,
           0.60870453581503,
           0.8403662454095774,
           0.8051505196450375,
           0.7222856401768916,
           0.6613691769674275,
           0.781970774963916,
           0.7481653988054948,
           0.710612187219175,
           0.7913919776087882,
           0.842296410247992,
           0.6745508243067017,
           0.8132665143563877,
           0.7180942840894364,
           0.6184702300926639,
           0.6509958828321424,
           0.9999999999999996,
           0.6670129130162861,
           0.8824402814688044,
           0.7621470775857738,
           0.6831605714294171,
           0.6350768788499473,
           0.7319750827764886,
           0.7705605308259735,
           0.7058281691993914,
           0.7642433532148922,
           0.7538649605433028,
           0.8290897125390106,
           0.5655632533743734,
           0.7318833615369517,
           0.6844735119863292,
           0.810565909270287,
           0.702147732355146,
           0.7342359225255303,
           0.879194204336665,
           0.8304245471824816,
           0.46484242925820074,
           0.71884142817722,
           0.8249673924728572,
           0.8311662708332632,
           0.5997906768700454,
           0.7636037606968518,
           0.797365174871089,
           0.779148882258323,
           0.8173229029686376,
           0.736949558827138
          ],
          [
           0.6602876934563162,
           0.6436189715879194,
           0.6707175022585886,
           0.5474218666547062,
           0.49664690738517664,
           0.6327617498246592,
           0.6254411829764016,
           0.5867427045289505,
           0.5825598575734856,
           0.7035507710709069,
           0.6567144609248565,
           0.6208602340768815,
           0.6959518989217878,
           0.6039841260340896,
           0.6183496293123646,
           0.5982803477777596,
           0.6095973380321851,
           0.543029608404513,
           0.5399231923164971,
           0.6241825841370301,
           0.6439656337302483,
           0.5664224927585934,
           0.5924321516342005,
           0.6228984442867141,
           0.5537493956269907,
           0.6320247762392724,
           0.6233840441236461,
           0.5439590958831962,
           0.5889980956946734,
           0.5579670954352995,
           0.6025226166612518,
           0.5463816654485271,
           0.5719196697378388,
           0.6670129130162861,
           0.9999999999999996,
           0.7195917325472986,
           0.6354775523810384,
           0.5483701310678033,
           0.5655556107544627,
           0.5714594318924338,
           0.6182962285890826,
           0.6854883711956591,
           0.6102441859954494,
           0.6258251953978766,
           0.6642604011114719,
           0.43646975942861205,
           0.6302976298556651,
           0.5475285656657436,
           0.6739315906857664,
           0.49694279806844266,
           0.5499030631157134,
           0.6623282045753521,
           0.6337343857183253,
           0.387520803582806,
           0.6413559512121059,
           0.7054904516282468,
           0.6681908149412658,
           0.4672687570360096,
           0.7093861424288368,
           0.5547566001521771,
           0.5225984346247943,
           0.6557781280035194,
           0.6696739992727612
          ],
          [
           0.7880606998889674,
           0.8212334890775357,
           0.7908318679795143,
           0.6922083055816459,
           0.5978448127775895,
           0.8412593728603308,
           0.7452834738280151,
           0.753772125918493,
           0.6772434108838703,
           0.8420492992349131,
           0.68972411448365,
           0.6725595719355154,
           0.8309380576347607,
           0.8376359896920321,
           0.8404265475165644,
           0.7338433003709968,
           0.7541352625315149,
           0.7564852891930771,
           0.6737362327902113,
           0.8350901892869683,
           0.7647488929020074,
           0.7083683769022486,
           0.6810003276034874,
           0.7857145416200237,
           0.7835173968070195,
           0.7937246096693712,
           0.8011630328362132,
           0.824956751520988,
           0.7149193524350264,
           0.8099026586954613,
           0.6897156087242526,
           0.6871469120409873,
           0.6525525810752489,
           0.8824402814688044,
           0.7195917325472986,
           1,
           0.6777701028663081,
           0.6693294255971959,
           0.675275773516818,
           0.7472079879642696,
           0.7557695230646896,
           0.7113071725890386,
           0.7740313695373171,
           0.7948838498709723,
           0.8077561700770862,
           0.6379425637507234,
           0.7621869058269789,
           0.7586959044718262,
           0.8194555307266431,
           0.6498803413442772,
           0.7312115392096019,
           0.8734238449050449,
           0.8447688475651968,
           0.46064233897438783,
           0.7075728107007391,
           0.8598995640727252,
           0.7983108963895074,
           0.6452209888555542,
           0.8045763170311981,
           0.6576525610343154,
           0.7675924566845979,
           0.8237853278008012,
           0.7901431200310162
          ],
          [
           0.6299093569545102,
           0.6777678302368855,
           0.6172222627957988,
           0.6075691143366521,
           0.4558323107175507,
           0.6330979294997295,
           0.6046923489795237,
           0.6048828034221219,
           0.5203214388063321,
           0.5503623781799143,
           0.6010318332684967,
           0.576837483526784,
           0.6564020898454743,
           0.6237898484259217,
           0.5833152825368363,
           0.6473652578127933,
           0.600210092451184,
           0.5649054524559123,
           0.47509880596035853,
           0.5900173814591521,
           0.7043136213750851,
           0.54764673246235,
           0.5385864860741293,
           0.5962516337899555,
           0.5479206820130437,
           0.5885122964342479,
           0.5694307680260606,
           0.5953423598291978,
           0.5953338164037517,
           0.5832898544421059,
           0.6313524247592364,
           0.45531481991889744,
           0.4699530371127798,
           0.7621470775857738,
           0.6354775523810384,
           0.6777701028663081,
           0.9999999999999999,
           0.49881490442602994,
           0.5413359779107715,
           0.546306234967009,
           0.5950053224602827,
           0.5939014908881585,
           0.6163326238607479,
           0.6022564972499025,
           0.6690957035441913,
           0.45603196398807555,
           0.5931628946779429,
           0.5486457614428718,
           0.6408802818581742,
           0.4917447750827796,
           0.5450919913382549,
           0.625378336019708,
           0.6297234792796955,
           0.3523993207968005,
           0.6333818941739279,
           0.6281782949944391,
           0.5997585810879676,
           0.4142752546024411,
           0.6493753944979952,
           0.8855625529896671,
           0.5821832056394803,
           0.6351201209026931,
           0.5999223044787804
          ],
          [
           0.6983282898055273,
           0.6749938480331801,
           0.7751376217407175,
           0.5329986157991944,
           0.4977289851052882,
           0.6696912631277943,
           0.5715704030455497,
           0.5612742728195987,
           0.4411364058009258,
           0.4482262528015034,
           0.5808143805815618,
           0.6670360722425261,
           0.672345416759052,
           0.6598020687855192,
           0.6849052000451017,
           0.5428302005864651,
           0.6601008118458211,
           0.495984191717586,
           0.49593331840367794,
           0.7027959632093749,
           0.6519871809814752,
           0.5124356959426635,
           0.5405003934386706,
           0.6041594648024127,
           0.5198361073559246,
           0.47343940320928335,
           0.666781362640123,
           0.661833537634755,
           0.6540734888453105,
           0.5609441208512449,
           0.5645807907965731,
           0.5384277799632505,
           0.6742916306573239,
           0.6831605714294171,
           0.5483701310678033,
           0.6693294255971959,
           0.49881490442602994,
           0.9999999999999993,
           0.5290458041178902,
           0.526817716112848,
           0.6349341486448579,
           0.48695659772397126,
           0.739376029032385,
           0.6559030133911845,
           0.6681656190279143,
           0.4046484254161654,
           0.6166514413237628,
           0.5161969497075456,
           0.7096222815477278,
           0.507821033037376,
           0.6062781030027516,
           0.723050064791156,
           0.645013061949983,
           0.33855733250198694,
           0.594331800773318,
           0.72631475685738,
           0.5965029161455426,
           0.4871391760053378,
           0.55014596483416,
           0.47644562530507517,
           0.5900110329901891,
           0.6761539367993749,
           0.596760306405919
          ],
          [
           0.5894528390047302,
           0.7380221202846124,
           0.6373051279175712,
           0.6810392261948155,
           0.8391201793288996,
           0.5785336446603602,
           0.5465807637394624,
           0.5420863389947098,
           0.5836731701816232,
           0.5298179512723304,
           0.6016996064361236,
           0.5811078537193689,
           0.71389966503951,
           0.5876143269112574,
           0.6499849739065486,
           0.6952759251996752,
           0.6043979336194797,
           0.49200495322354854,
           0.5115151423545115,
           0.6047925162526622,
           0.6028432098363252,
           0.5709949656452711,
           0.6082266625497086,
           0.5619770646958919,
           0.5596785470030099,
           0.528467786881417,
           0.5932327187554235,
           0.6666876121113653,
           0.6929261216639153,
           0.49402629467797954,
           0.5217331957152326,
           0.5949197937532269,
           0.6501817549818008,
           0.6350768788499473,
           0.5655556107544627,
           0.675275773516818,
           0.5413359779107715,
           0.5290458041178902,
           1,
           0.5566399539956015,
           0.5561037815842998,
           0.46702856442646595,
           0.5853242753982887,
           0.5372767152453068,
           0.5752235444122755,
           0.42265144403236754,
           0.5652535956538067,
           0.4782805325591977,
           0.6620214274981596,
           0.5311783167005818,
           0.5112087690120412,
           0.6842920880210821,
           0.6036927785571538,
           0.2702311935847464,
           0.6139406990902285,
           0.6736027764263697,
           0.5648254415692403,
           0.4633183169804437,
           0.6648012948073396,
           0.4741614921992269,
           0.520311643346003,
           0.6656612733492203,
           0.6329886575370105
          ],
          [
           0.8200758807887433,
           0.645924101473601,
           0.6669529676957142,
           0.6144188937684875,
           0.4885731667864235,
           0.6885013306906931,
           0.6241102748945152,
           0.6217986380862518,
           0.590092782687333,
           0.5797475681670455,
           0.6269559307938344,
           0.5747271441225255,
           0.7209360435185047,
           0.6614163214299327,
           0.6968687387977738,
           0.6472867179409767,
           0.6325105888179418,
           0.6256368160234491,
           0.5610608341396607,
           0.6998500843527132,
           0.6054106864040923,
           0.660691899851114,
           0.5756928288129416,
           0.9298495442066188,
           0.6757295996100803,
           0.6122608322798936,
           0.710207972209817,
           0.7066412426104466,
           0.6226263017961818,
           0.6747176545846896,
           0.5240462471631447,
           0.5632413168784396,
           0.5355300188239717,
           0.7319750827764886,
           0.5714594318924338,
           0.7472079879642696,
           0.546306234967009,
           0.526817716112848,
           0.5566399539956015,
           0.9999999999999996,
           0.8042502172765809,
           0.5235816553094106,
           0.6258942810581911,
           0.6416150546951026,
           0.6444590513669138,
           0.5066028174658352,
           0.6122116028184622,
           0.6090399345451784,
           0.669117886291956,
           0.6499115273479075,
           0.6961373943149939,
           0.7265850676769066,
           0.6564780261460527,
           0.36768282102421557,
           0.6231170247282923,
           0.6783332060435809,
           0.6757405239813032,
           0.57994116533297,
           0.6559079055733443,
           0.5208782702587612,
           0.629687382359643,
           0.7764849301140375,
           0.6661990329658223
          ],
          [
           0.8634690395234919,
           0.6886413642828522,
           0.7282514363769497,
           0.6392515775880236,
           0.5130596821620866,
           0.7169900684509855,
           0.6449582318985442,
           0.6122367918797048,
           0.5579757626980589,
           0.580719551230867,
           0.6412137266199417,
           0.6034480010608902,
           0.7734617185136756,
           0.7212611021036229,
           0.7565227918094214,
           0.6727607074924283,
           0.7336971621101589,
           0.6536057069671094,
           0.559490230549106,
           0.7490424143005086,
           0.6837716481487794,
           0.6787210162116876,
           0.5566010987202624,
           0.8602009460610244,
           0.6952629670163661,
           0.6007533656175825,
           0.7612932688333018,
           0.7354102604989559,
           0.6381072705914296,
           0.7025246703980226,
           0.6013099888846386,
           0.5374538987881139,
           0.5840921517006341,
           0.7705605308259735,
           0.6182962285890826,
           0.7557695230646896,
           0.5950053224602827,
           0.6349341486448579,
           0.5561037815842998,
           0.8042502172765809,
           1.0000000000000007,
           0.5704280797899348,
           0.6910020251798545,
           0.6672515907614579,
           0.702577596167181,
           0.562808419231702,
           0.647922565668311,
           0.6263437545619572,
           0.7463606992898297,
           0.6413184233102929,
           0.7530224993630052,
           0.7896199846680314,
           0.6619488803996949,
           0.4547814006691958,
           0.6505554820658024,
           0.7438952139062041,
           0.7023691421662459,
           0.6224221538148119,
           0.6398422434303239,
           0.54836652656798,
           0.6496027020918292,
           0.8232536428124082,
           0.7040407022075174
          ],
          [
           0.6105080679474341,
           0.565300333671938,
           0.5717756455333061,
           0.4623259186970427,
           0.4266445228762794,
           0.7024334348265953,
           0.583897341535023,
           0.6188753810205503,
           0.4658310483918839,
           0.8209112228306654,
           0.506460015655376,
           0.4833334207531309,
           0.5767755643128814,
           0.6860880052398683,
           0.6361249750564939,
           0.4748269835106909,
           0.6163245456170512,
           0.5375727699583139,
           0.45015559962250973,
           0.6181681561740734,
           0.7187878154696339,
           0.5280915568121716,
           0.46987806540986676,
           0.5753603801287638,
           0.49669657098552944,
           0.588002766710825,
           0.5970134060385488,
           0.573105108207538,
           0.5216052426541709,
           0.6248418625564929,
           0.6914545540597916,
           0.5112441033094952,
           0.46411999475565463,
           0.7058281691993914,
           0.6854883711956591,
           0.7113071725890386,
           0.5939014908881585,
           0.48695659772397126,
           0.46702856442646595,
           0.5235816553094106,
           0.5704280797899348,
           0.9999999999999998,
           0.5844756230106793,
           0.591733317959884,
           0.7172558517033042,
           0.42445656241761737,
           0.6172822857868251,
           0.543165131937648,
           0.6012859740346748,
           0.43525898537054103,
           0.6272664315833579,
           0.6391458224421115,
           0.6031321049457323,
           0.3570560088982877,
           0.5623808583884145,
           0.6094672172649999,
           0.6262841893690309,
           0.4498556161845577,
           0.7661484072224996,
           0.6823892745988843,
           0.5582757803369571,
           0.6392637006429966,
           0.53428786060302
          ],
          [
           0.7382902247487548,
           0.7608096850507516,
           0.7840691531942297,
           0.6010995263637396,
           0.5523256948509327,
           0.7292436498281165,
           0.6180241164498598,
           0.6251888586304306,
           0.5683791916144123,
           0.605795462918593,
           0.6255930973678578,
           0.6870184702371585,
           0.7649495610348087,
           0.7668059913796869,
           0.7512376009711272,
           0.6302005364900896,
           0.7337179601397603,
           0.642267228601231,
           0.5990177419638979,
           0.7876375634066383,
           0.6544287750953008,
           0.6682754595769298,
           0.6440313449769013,
           0.694115775446429,
           0.6233117728008642,
           0.5878620846789318,
           0.7311288175104165,
           0.710383755187006,
           0.6811915174654406,
           0.6842690250055566,
           0.7173895796013776,
           0.6083868639104398,
           0.6156174701993438,
           0.7642433532148922,
           0.6102441859954494,
           0.7740313695373171,
           0.6163326238607479,
           0.739376029032385,
           0.5853242753982887,
           0.6258942810581911,
           0.6910020251798545,
           0.5844756230106793,
           1.0000000000000002,
           0.7403108458365145,
           0.77578683789328,
           0.4912983114660111,
           0.7054258045263002,
           0.6702623436898997,
           0.7278158919681398,
           0.49575937610870036,
           0.6646347102254115,
           0.7610274807337035,
           0.7494371375620138,
           0.47557443987797465,
           0.6261395266974596,
           0.7776420017267673,
           0.708387060138681,
           0.7955324863580384,
           0.6713395781459575,
           0.615142541419894,
           0.6705906633259526,
           0.7623289241304319,
           0.693793070007239
          ],
          [
           0.6862725574589918,
           0.7813259972030103,
           0.7123815608277642,
           0.550695599672039,
           0.48656819808282337,
           0.8135358753438269,
           0.7058333318229958,
           0.704626982445984,
           0.587626440766259,
           0.6174330140146344,
           0.6272833676187837,
           0.5887168679319567,
           0.6846448485289617,
           0.703380402300933,
           0.7138030822968414,
           0.5980146674825272,
           0.7035384434542066,
           0.6929059244066397,
           0.6931734132033422,
           0.7324067410812156,
           0.7348825343339517,
           0.6217913683940386,
           0.6511368611810353,
           0.6756046870498336,
           0.6430860786991868,
           0.6564573792254516,
           0.670631448085164,
           0.6902006394771296,
           0.6210652087322891,
           0.7192484243681659,
           0.7038524986021277,
           0.6635650508117665,
           0.6728863341333424,
           0.7538649605433028,
           0.6258251953978766,
           0.7948838498709723,
           0.6022564972499025,
           0.6559030133911845,
           0.5372767152453068,
           0.6416150546951026,
           0.6672515907614579,
           0.591733317959884,
           0.7403108458365145,
           0.9999999999999999,
           0.9011849581549531,
           0.4861572844625097,
           0.7226771867692581,
           0.7211896001952406,
           0.7399672188734865,
           0.5080064663817533,
           0.6781039356702632,
           0.7678239544042927,
           0.778441958604021,
           0.4533032575772794,
           0.6654037982862087,
           0.8202169367958125,
           0.6988474116130126,
           0.5611676435754156,
           0.6861335744294907,
           0.5772342093750511,
           0.7097854453725323,
           0.7195982305023882,
           0.7166010029026162
          ],
          [
           0.7209135050866504,
           0.7719763824329594,
           0.7467674669891673,
           0.5700836458865384,
           0.5352191545700303,
           0.8283304063598503,
           0.7313055071569889,
           0.711207494226539,
           0.5512418190579165,
           0.7082139292664557,
           0.6312841216494164,
           0.6205643338712038,
           0.7266551314012708,
           0.7633210398521151,
           0.7335265605249158,
           0.6139393217206188,
           0.7744714121588712,
           0.6982701387888424,
           0.6896646453082269,
           0.7620606950438704,
           0.8073709739945103,
           0.6088839924877599,
           0.5997499088591319,
           0.6920810620368985,
           0.6442470782355022,
           0.6853354843226198,
           0.7130483739802504,
           0.6968946730180922,
           0.6488715565196624,
           0.7447257098780027,
           0.81100630009877,
           0.5994675996232262,
           0.6861789029390938,
           0.8290897125390106,
           0.6642604011114719,
           0.8077561700770862,
           0.6690957035441913,
           0.6681656190279143,
           0.5752235444122755,
           0.6444590513669138,
           0.702577596167181,
           0.7172558517033042,
           0.77578683789328,
           0.9011849581549531,
           1,
           0.47677100384748416,
           0.7727606348904532,
           0.7043421075312963,
           0.7564862258742516,
           0.5575726637466106,
           0.7279332157497502,
           0.792748772508401,
           0.7883379079244494,
           0.43253906168555273,
           0.6793488519886334,
           0.8397267018315296,
           0.751294271962793,
           0.5425144739683291,
           0.7299293008402373,
           0.7094254708578493,
           0.7514316192652922,
           0.7410894334801383,
           0.7384570180606256
          ],
          [
           0.5495283096785815,
           0.45118540908390403,
           0.47547919899870583,
           0.4014832496942011,
           0.3998844269029782,
           0.5574468267493422,
           0.48702080001486064,
           0.4723006548109563,
           0.4080320180069582,
           0.5125998773318421,
           0.4013006016604143,
           0.4230386707019689,
           0.5213140332648672,
           0.5909577915739757,
           0.5809041728533104,
           0.41633986853299854,
           0.4148528323680065,
           0.6934751460498901,
           0.41912993756271966,
           0.5763941899779549,
           0.5072035341980381,
           0.46151906806990806,
           0.46760643611043917,
           0.568142710104114,
           0.5459832434198406,
           0.6544058559136255,
           0.5788513960997281,
           0.5031048782466837,
           0.4569208516055621,
           0.5503790067000018,
           0.37894714495442094,
           0.4546004005515042,
           0.32881492656812755,
           0.5655632533743734,
           0.43646975942861205,
           0.6379425637507234,
           0.45603196398807555,
           0.4046484254161654,
           0.42265144403236754,
           0.5066028174658352,
           0.562808419231702,
           0.42445656241761737,
           0.4912983114660111,
           0.4861572844625097,
           0.47677100384748416,
           1.0000000000000004,
           0.5025066550793099,
           0.5628843767281828,
           0.5528829984622865,
           0.3914911307472295,
           0.49187180211652076,
           0.6069909489652757,
           0.5393371825649271,
           0.4420790803288087,
           0.40906263781094954,
           0.5469738035845486,
           0.5671474749473496,
           0.48263021439228837,
           0.45414432828755746,
           0.41911164118705635,
           0.48198801819917403,
           0.5464223916523219,
           0.5446870629208866
          ],
          [
           0.7101826951500583,
           0.725821989563075,
           0.7895517535677807,
           0.4789310677587423,
           0.5724771504471892,
           0.7868260427585678,
           0.8223571524733582,
           0.6945354143189268,
           0.524569335721361,
           0.6545690069800156,
           0.772080279495611,
           0.607557203153535,
           0.6382748583128146,
           0.7028692711712163,
           0.6902526850656301,
           0.6492582604419647,
           0.7225589316136578,
           0.7114549354616946,
           0.7525047181175009,
           0.7060291686927831,
           0.7084734623228788,
           0.6455192071952498,
           0.6588642445839145,
           0.6563170484396911,
           0.6884102492860225,
           0.6957305162739957,
           0.642382268377248,
           0.6126047296571703,
           0.668025756576188,
           0.6567842583382757,
           0.7048870071395874,
           0.579961358640852,
           0.6587448670751949,
           0.7318833615369517,
           0.6302976298556651,
           0.7621869058269789,
           0.5931628946779429,
           0.6166514413237628,
           0.5652535956538067,
           0.6122116028184622,
           0.647922565668311,
           0.6172822857868251,
           0.7054258045263002,
           0.7226771867692581,
           0.7727606348904532,
           0.5025066550793099,
           1.0000000000000002,
           0.7482490520946847,
           0.732735112193618,
           0.46554633630991826,
           0.6733805091767116,
           0.7626298161180969,
           0.7066593436377147,
           0.4294485415562055,
           0.7595389711105207,
           0.8336629629446648,
           0.6580573684973834,
           0.5226883296533514,
           0.6642511380642142,
           0.567878650183754,
           0.6071031834446868,
           0.7274328853903766,
           0.76471683712079
          ],
          [
           0.6770971114866781,
           0.6724351486414042,
           0.6450923495821934,
           0.4741415681010731,
           0.4516209825391083,
           0.7358889460942519,
           0.6834468513610308,
           0.7576514620362236,
           0.49467538865550775,
           0.652469616870508,
           0.5485667418152517,
           0.504950043522856,
           0.6079102212324797,
           0.672837722632681,
           0.6400962572374517,
           0.5213746350298173,
           0.6288705727617079,
           0.7783057165720421,
           0.689883529336069,
           0.7127652929900372,
           0.5781293611180492,
           0.6397850443640192,
           0.5544384929233401,
           0.7004956947507261,
           0.6136970011702488,
           0.7532172025987692,
           0.6635072987900743,
           0.5988415959753735,
           0.5409755721699376,
           0.7188402122809034,
           0.5514494313316236,
           0.544250825019744,
           0.4728879268090826,
           0.6844735119863292,
           0.5475285656657436,
           0.7586959044718262,
           0.5486457614428718,
           0.5161969497075456,
           0.4782805325591977,
           0.6090399345451784,
           0.6263437545619572,
           0.543165131937648,
           0.6702623436898997,
           0.7211896001952406,
           0.7043421075312963,
           0.5628843767281828,
           0.7482490520946847,
           1,
           0.663594981253068,
           0.4743937869760617,
           0.6667175725119904,
           0.7454307749955198,
           0.7123984358369035,
           0.5038195591101964,
           0.5480509647966723,
           0.7676177816340528,
           0.6495165813889666,
           0.6316957789732418,
           0.6955245413391379,
           0.5216767722894833,
           0.6880342741293254,
           0.6656992877814545,
           0.7389159618627956
          ],
          [
           0.7766545179303839,
           0.8181223957714824,
           0.8194559171150863,
           0.720546214681504,
           0.5527721391778747,
           0.7801161133364123,
           0.7201301181435718,
           0.7163616697610433,
           0.6180435958069573,
           0.6278664931114533,
           0.7549481282136377,
           0.7457769595179216,
           0.8042976962139257,
           0.7706732173622621,
           0.8311532964208544,
           0.7431143554409407,
           0.7114696230954217,
           0.6578235382134446,
           0.6309263455337156,
           0.8265617383600765,
           0.7998093648258878,
           0.6291135057632957,
           0.7179025262190895,
           0.7090152954317537,
           0.6763392267491928,
           0.6511104542696123,
           0.7927721570693201,
           0.7972726552048479,
           0.7697680629641532,
           0.7178037326507246,
           0.6698312410991292,
           0.6331769897508142,
           0.7912267201159018,
           0.810565909270287,
           0.6739315906857664,
           0.8194555307266431,
           0.6408802818581742,
           0.7096222815477278,
           0.6620214274981596,
           0.669117886291956,
           0.7463606992898297,
           0.6012859740346748,
           0.7278158919681398,
           0.7399672188734865,
           0.7564862258742516,
           0.5528829984622865,
           0.732735112193618,
           0.663594981253068,
           1.0000000000000002,
           0.6048415002349744,
           0.6903595913853551,
           0.8831564667473573,
           0.7366047739625394,
           0.46923102931814925,
           0.7767069570815353,
           0.8368477760568747,
           0.7974458913756497,
           0.5775161004268929,
           0.7029172172195022,
           0.5735174290426169,
           0.6732894691430449,
           0.8093483853539547,
           0.740365576218732
          ],
          [
           0.6031605457240568,
           0.6061098064906671,
           0.5510057762218604,
           0.6058758008494709,
           0.5029370521441285,
           0.5577090298544309,
           0.49972618933664836,
           0.5800445494561837,
           0.49125061374028683,
           0.49605901598422747,
           0.45847322947372204,
           0.4503357649583447,
           0.6390088386855494,
           0.6109381805337035,
           0.6525094109515698,
           0.5719438414141902,
           0.5462265784266086,
           0.5295693728734661,
           0.46213252121800574,
           0.6042635338962347,
           0.5690360670400413,
           0.548334723302496,
           0.42833541691934895,
           0.6486782331100298,
           0.5851591337106042,
           0.46801795514399136,
           0.6373559129128279,
           0.6556345278686209,
           0.47612543604918733,
           0.5829349801847854,
           0.3865154210711933,
           0.39919735971743586,
           0.5146791309563412,
           0.702147732355146,
           0.49694279806844266,
           0.6498803413442772,
           0.4917447750827796,
           0.507821033037376,
           0.5311783167005818,
           0.6499115273479075,
           0.6413184233102929,
           0.43525898537054103,
           0.49575937610870036,
           0.5080064663817533,
           0.5575726637466106,
           0.3914911307472295,
           0.46554633630991826,
           0.4743937869760617,
           0.6048415002349744,
           0.9999999999999994,
           0.5518505852323394,
           0.6831257571423058,
           0.6315005606852679,
           0.3266021150931576,
           0.4743090753397715,
           0.5854199457180547,
           0.6030988929032801,
           0.48150396328467243,
           0.5406704401893189,
           0.49689058381298845,
           0.6695205012161298,
           0.619478802867546,
           0.5920349602223178
          ],
          [
           0.7946123162912431,
           0.6376625749969538,
           0.7177065751735374,
           0.5309620965441291,
           0.47883079451439736,
           0.8030997257996746,
           0.6538460465784366,
           0.6462093072284412,
           0.5360562642422896,
           0.623475766368884,
           0.5739144843544177,
           0.5917654885185326,
           0.7050936176609472,
           0.7421154979660873,
           0.7532378865361756,
           0.5451221996071935,
           0.7492491768392152,
           0.6035481820802779,
           0.5880761117823154,
           0.7462507963360009,
           0.6418714197766702,
           0.6587027115009396,
           0.5312181157719698,
           0.7788408371555934,
           0.6122222652801215,
           0.5987993735015216,
           0.7683245036269446,
           0.7004755745933581,
           0.6227135264170365,
           0.7153979588027393,
           0.59299253731131,
           0.5887828589371086,
           0.565244065863891,
           0.7342359225255303,
           0.5499030631157134,
           0.7312115392096019,
           0.5450919913382549,
           0.6062781030027516,
           0.5112087690120412,
           0.6961373943149939,
           0.7530224993630052,
           0.6272664315833579,
           0.6646347102254115,
           0.6781039356702632,
           0.7279332157497502,
           0.49187180211652076,
           0.6733805091767116,
           0.6667175725119904,
           0.6903595913853551,
           0.5518505852323394,
           0.9999999999999996,
           0.7738646211016651,
           0.6573239556106353,
           0.4451287370459974,
           0.5909724112329997,
           0.7190520512070904,
           0.6628805041553427,
           0.6018920439403915,
           0.6671988724431871,
           0.5510201141157296,
           0.627971127480482,
           0.8432834308869832,
           0.673420914409468
          ],
          [
           0.8053506396651716,
           0.8222171457679263,
           0.807113562193361,
           0.7150355309319059,
           0.5898038178525169,
           0.8337980744584077,
           0.7576644169675899,
           0.7478178355731667,
           0.6220399442297238,
           0.687692482698522,
           0.685785681543764,
           0.6706475883873348,
           0.8536219344816768,
           0.8401112670110196,
           0.9010349443041676,
           0.7304829474209228,
           0.776333829568471,
           0.7423885274644839,
           0.6735834624127749,
           0.9146076208832519,
           0.7625047204256514,
           0.7401625205552347,
           0.6963070466561959,
           0.784140465103516,
           0.7493119129803855,
           0.7302180560297185,
           0.8692427319341025,
           0.866416116679889,
           0.7254709454580531,
           0.775719196279398,
           0.6621087341284231,
           0.6879729298663291,
           0.7167402483023423,
           0.879194204336665,
           0.6623282045753521,
           0.8734238449050449,
           0.625378336019708,
           0.723050064791156,
           0.6842920880210821,
           0.7265850676769066,
           0.7896199846680314,
           0.6391458224421115,
           0.7610274807337035,
           0.7678239544042927,
           0.792748772508401,
           0.6069909489652757,
           0.7626298161180969,
           0.7454307749955198,
           0.8831564667473573,
           0.6831257571423058,
           0.7738646211016651,
           1,
           0.8268463719399528,
           0.5048842626739038,
           0.7029496738141501,
           0.8796449674799419,
           0.8686094841979947,
           0.6401167112848127,
           0.7464567099321806,
           0.6027521526904813,
           0.7321198563739828,
           0.8533153588206028,
           0.7971024721182618
          ],
          [
           0.6940667680228066,
           0.8029934491427204,
           0.7188587172575343,
           0.5861059787775049,
           0.5597558309855416,
           0.7563519756743409,
           0.7206536747526333,
           0.7010507020623787,
           0.627638159820622,
           0.6663754913048083,
           0.6231633790354466,
           0.6140079031561261,
           0.7504104628379811,
           0.8082578423537238,
           0.7907134474083556,
           0.6141457050671957,
           0.7487655061194539,
           0.7122799842342827,
           0.6691001951204206,
           0.7952069910469393,
           0.7112015535696216,
           0.6736146565389256,
           0.6278765639808811,
           0.6930882143653136,
           0.7090476149238043,
           0.702535636499869,
           0.7568657950866984,
           0.7206160570622918,
           0.6574567860664235,
           0.753204912820161,
           0.6684487236249832,
           0.6200421788253748,
           0.6618376207437561,
           0.8304245471824816,
           0.6337343857183253,
           0.8447688475651968,
           0.6297234792796955,
           0.645013061949983,
           0.6036927785571538,
           0.6564780261460527,
           0.6619488803996949,
           0.6031321049457323,
           0.7494371375620138,
           0.778441958604021,
           0.7883379079244494,
           0.5393371825649271,
           0.7066593436377147,
           0.7123984358369035,
           0.7366047739625394,
           0.6315005606852679,
           0.6573239556106353,
           0.8268463719399528,
           1.000000000000001,
           0.4536666823845334,
           0.6343908426647502,
           0.8349195795352296,
           0.753161575365205,
           0.5826765663834935,
           0.6866877051681815,
           0.6164824490948785,
           0.7231497823254005,
           0.7518250885234923,
           0.7683910273952949
          ],
          [
           0.4259333873200739,
           0.4080595420699324,
           0.4849571657014756,
           0.39782504021471043,
           0.15876622165789905,
           0.44709607470957863,
           0.34428301737091027,
           0.36064603659257344,
           0.4749349291840319,
           0.38884662150727967,
           0.3844330052643631,
           0.36942508942855884,
           0.4971112413741991,
           0.4688050210446953,
           0.4953832189721531,
           0.4036312714918778,
           0.4178824347194392,
           0.5116497380137539,
           0.3125267875686315,
           0.4907321766497441,
           0.41565884100507877,
           0.33299810616780184,
           0.48498078742420037,
           0.4189188529965181,
           0.377031530563009,
           0.4061705811423522,
           0.4543710136616601,
           0.4413206751669616,
           0.36668123561546384,
           0.4564499042850617,
           0.3733275586355136,
           0.4442064084590236,
           0.3601676033764599,
           0.46484242925820074,
           0.387520803582806,
           0.46064233897438783,
           0.3523993207968005,
           0.33855733250198694,
           0.2702311935847464,
           0.36768282102421557,
           0.4547814006691958,
           0.3570560088982877,
           0.47557443987797465,
           0.4533032575772794,
           0.43253906168555273,
           0.4420790803288087,
           0.4294485415562055,
           0.5038195591101964,
           0.46923102931814925,
           0.3266021150931576,
           0.4451287370459974,
           0.5048842626739038,
           0.4536666823845334,
           0.9999999999999998,
           0.3896044802812192,
           0.4360451218432413,
           0.4414307121955606,
           0.5463741657306667,
           0.340740745219395,
           0.348189780485049,
           0.3945075048621421,
           0.4332253268370808,
           0.5026847409413736
          ],
          [
           0.719358790174982,
           0.7650794874173774,
           0.7873716967797666,
           0.619989588876146,
           0.5119305804689807,
           0.6540833173513281,
           0.7274985852994958,
           0.6184738547618386,
           0.5357784194150498,
           0.5656437947697378,
           0.9733189856194251,
           0.6828182495772444,
           0.7193263683163376,
           0.617564769125114,
           0.6590738161385138,
           0.7671371648194499,
           0.7208249199876253,
           0.5610933005761523,
           0.5584612225813681,
           0.6237354638879407,
           0.7976314982232965,
           0.572215343182003,
           0.6998486603613943,
           0.6310631008391697,
           0.6159229694177351,
           0.5357804752789723,
           0.5910821585414646,
           0.6534051446021353,
           0.7631545070402284,
           0.5986264814655597,
           0.7025435013819048,
           0.663597258049346,
           0.6409510671866756,
           0.71884142817722,
           0.6413559512121059,
           0.7075728107007391,
           0.6333818941739279,
           0.594331800773318,
           0.6139406990902285,
           0.6231170247282923,
           0.6505554820658024,
           0.5623808583884145,
           0.6261395266974596,
           0.6654037982862087,
           0.6793488519886334,
           0.40906263781094954,
           0.7595389711105207,
           0.5480509647966723,
           0.7767069570815353,
           0.4743090753397715,
           0.5909724112329997,
           0.7029496738141501,
           0.6343908426647502,
           0.3896044802812192,
           0.9999999999999997,
           0.7486048187317753,
           0.5991933972984109,
           0.4871723179746489,
           0.6589220336712895,
           0.5301618548756352,
           0.5632701822657825,
           0.7359350925834196,
           0.6328469696350493
          ],
          [
           0.7719494592164778,
           0.8734851929111198,
           0.8313036952832042,
           0.640058450481647,
           0.6310653476373829,
           0.8285504385450346,
           0.8065962819928294,
           0.7557789030908819,
           0.5894714032379114,
           0.6780226792283006,
           0.7414661432643079,
           0.7063558379255914,
           0.7880857220411924,
           0.7854161356900529,
           0.7975160353268264,
           0.7079441270830946,
           0.7849043201683233,
           0.7274583721653354,
           0.760807034492989,
           0.8402987353857224,
           0.766882469001914,
           0.7433413304024636,
           0.6901578907517122,
           0.7285925651900309,
           0.7181073897871468,
           0.7530040534437796,
           0.7883327253841572,
           0.737882268026223,
           0.7520714390606835,
           0.7204889584220016,
           0.7088228992393557,
           0.642969909474556,
           0.7448082381105823,
           0.8249673924728572,
           0.7054904516282468,
           0.8598995640727252,
           0.6281782949944391,
           0.72631475685738,
           0.6736027764263697,
           0.6783332060435809,
           0.7438952139062041,
           0.6094672172649999,
           0.7776420017267673,
           0.8202169367958125,
           0.8397267018315296,
           0.5469738035845486,
           0.8336629629446648,
           0.7676177816340528,
           0.8368477760568747,
           0.5854199457180547,
           0.7190520512070904,
           0.8796449674799419,
           0.8349195795352296,
           0.4360451218432413,
           0.7486048187317753,
           1.0000000000000004,
           0.7781726142570548,
           0.594933300140909,
           0.7403285146835835,
           0.564893490141292,
           0.6888139160281237,
           0.8156553732451116,
           0.8182925723616825
          ],
          [
           0.7310021784539189,
           0.7235700689569551,
           0.6980067154192724,
           0.6862128514113063,
           0.4560536915863873,
           0.7414600477154638,
           0.6654928829986949,
           0.6815422628995145,
           0.5549716941026773,
           0.6793588788316507,
           0.5817543901081353,
           0.6306717884113167,
           0.7988395146211198,
           0.7445885501998821,
           0.7991956860340879,
           0.6785770872502302,
           0.6307752242474398,
           0.6621373374945366,
           0.5715034450493034,
           0.83761882553601,
           0.6728606289546875,
           0.6517921265412112,
           0.6265322304138372,
           0.7102558524656439,
           0.6354728715975582,
           0.6849869491338784,
           0.8021450579086766,
           0.7775602377397921,
           0.6401771420024813,
           0.7255318389811951,
           0.6179746093847349,
           0.5682389473988787,
           0.6383488376564048,
           0.8311662708332632,
           0.6681908149412658,
           0.7983108963895074,
           0.5997585810879676,
           0.5965029161455426,
           0.5648254415692403,
           0.6757405239813032,
           0.7023691421662459,
           0.6262841893690309,
           0.708387060138681,
           0.6988474116130126,
           0.751294271962793,
           0.5671474749473496,
           0.6580573684973834,
           0.6495165813889666,
           0.7974458913756497,
           0.6030988929032801,
           0.6628805041553427,
           0.8686094841979947,
           0.753161575365205,
           0.4414307121955606,
           0.5991933972984109,
           0.7781726142570548,
           0.9999999999999993,
           0.5634539394560436,
           0.7137655703692685,
           0.6299282514134246,
           0.6742911145290162,
           0.7611903916808447,
           0.6838341530800232
          ],
          [
           0.6296803826246826,
           0.5747442327484296,
           0.606255856573324,
           0.49101882452231105,
           0.40206847487563413,
           0.5451174902349939,
           0.4548463352910295,
           0.5298757766929758,
           0.5124243306234236,
           0.5181987186630697,
           0.498613147887075,
           0.5265716755892395,
           0.6609723194427971,
           0.6555519738511688,
           0.6586191043413957,
           0.49617809712181343,
           0.5850470262692455,
           0.5996961099222009,
           0.5185399623794813,
           0.6518512226185471,
           0.48514715099012445,
           0.6407674214461827,
           0.4902249123501403,
           0.6445689125777548,
           0.5920132081513053,
           0.5150238590826658,
           0.6590792078665849,
           0.6073196991583524,
           0.5014785365640133,
           0.6317684279730831,
           0.4466096974610036,
           0.5610969507529013,
           0.4290032270641838,
           0.5997906768700454,
           0.4672687570360096,
           0.6452209888555542,
           0.4142752546024411,
           0.4871391760053378,
           0.4633183169804437,
           0.57994116533297,
           0.6224221538148119,
           0.4498556161845577,
           0.7955324863580384,
           0.5611676435754156,
           0.5425144739683291,
           0.48263021439228837,
           0.5226883296533514,
           0.6316957789732418,
           0.5775161004268929,
           0.48150396328467243,
           0.6018920439403915,
           0.6401167112848127,
           0.5826765663834935,
           0.5463741657306667,
           0.4871723179746489,
           0.594933300140909,
           0.5634539394560436,
           1.0000000000000002,
           0.5337581577986257,
           0.39600777436568535,
           0.5694641303989507,
           0.6392213464796083,
           0.6147665634922374
          ],
          [
           0.7036006564367704,
           0.7687846542815067,
           0.662906922217495,
           0.6840471807898356,
           0.527557586666403,
           0.7413099468425263,
           0.6426822655130231,
           0.8435470208633908,
           0.6154434910294263,
           0.7678290285754157,
           0.6382128725373134,
           0.5789652372123867,
           0.7391737692379373,
           0.6689895406341593,
           0.6925013559208228,
           0.6956045755074898,
           0.6755654314712342,
           0.5884769553700763,
           0.5811721792340194,
           0.7207116512290949,
           0.6629122248310199,
           0.6900310338121671,
           0.6478340850876876,
           0.6816405195172628,
           0.598819512944841,
           0.6386306328788754,
           0.6695586578604706,
           0.7480455206350944,
           0.6919443557523246,
           0.6972359777750469,
           0.6505794886418914,
           0.6370034541343732,
           0.5852094594604039,
           0.7636037606968518,
           0.7093861424288368,
           0.8045763170311981,
           0.6493753944979952,
           0.55014596483416,
           0.6648012948073396,
           0.6559079055733443,
           0.6398422434303239,
           0.7661484072224996,
           0.6713395781459575,
           0.6861335744294907,
           0.7299293008402373,
           0.45414432828755746,
           0.6642511380642142,
           0.6955245413391379,
           0.7029172172195022,
           0.5406704401893189,
           0.6671988724431871,
           0.7464567099321806,
           0.6866877051681815,
           0.340740745219395,
           0.6589220336712895,
           0.7403285146835835,
           0.7137655703692685,
           0.5337581577986257,
           1.0000000000000004,
           0.6478779413081139,
           0.6435897119834779,
           0.7459719145407893,
           0.6372001012569081
          ],
          [
           0.5927233449280727,
           0.5872913048897259,
           0.5746966898915523,
           0.5375531423149165,
           0.39298067566873846,
           0.608875360115553,
           0.551060984705366,
           0.5666703969421603,
           0.4592350539041009,
           0.6120728638059942,
           0.4782679375748415,
           0.47215112688704397,
           0.6006204014329171,
           0.6585234824006205,
           0.5719743722453245,
           0.5454558232080956,
           0.5481739240887925,
           0.5607276118163564,
           0.4303485219743024,
           0.5721534339142005,
           0.6826111833518063,
           0.5185847972118197,
           0.4608567024492779,
           0.5673842089367661,
           0.49510885573431906,
           0.5755929333513264,
           0.5267586374597278,
           0.5727350600612007,
           0.48512927623193935,
           0.5965689803813121,
           0.6712598312946529,
           0.40117048914697506,
           0.42032497627266663,
           0.797365174871089,
           0.5547566001521771,
           0.6576525610343154,
           0.8855625529896671,
           0.47644562530507517,
           0.4741614921992269,
           0.5208782702587612,
           0.54836652656798,
           0.6823892745988843,
           0.615142541419894,
           0.5772342093750511,
           0.7094254708578493,
           0.41911164118705635,
           0.567878650183754,
           0.5216767722894833,
           0.5735174290426169,
           0.49689058381298845,
           0.5510201141157296,
           0.6027521526904813,
           0.6164824490948785,
           0.348189780485049,
           0.5301618548756352,
           0.564893490141292,
           0.6299282514134246,
           0.39600777436568535,
           0.6478779413081139,
           1,
           0.6255254291692939,
           0.5862266864775961,
           0.5159045425174194
          ],
          [
           0.6705991657406768,
           0.6877150848650645,
           0.6139340141548294,
           0.5695573555680792,
           0.4520025638209859,
           0.7311215600006906,
           0.5881418483480327,
           0.6402212934083503,
           0.49862424780554593,
           0.607419439204891,
           0.5346349937408005,
           0.4955327145778219,
           0.6568650843538879,
           0.6731133583020419,
           0.6518808308999536,
           0.5829830358026895,
           0.6686024289200418,
           0.6605840061254935,
           0.5332009313888927,
           0.686713445505043,
           0.6422949385255623,
           0.5512817692807633,
           0.528970323724669,
           0.6858704099845399,
           0.5852354721807238,
           0.6327817139075989,
           0.6678392179570658,
           0.6822133458337409,
           0.5571967066876351,
           0.7389847662293705,
           0.5761301413261262,
           0.508668813681988,
           0.5643780812627379,
           0.779148882258323,
           0.5225984346247943,
           0.7675924566845979,
           0.5821832056394803,
           0.5900110329901891,
           0.520311643346003,
           0.629687382359643,
           0.6496027020918292,
           0.5582757803369571,
           0.6705906633259526,
           0.7097854453725323,
           0.7514316192652922,
           0.48198801819917403,
           0.6071031834446868,
           0.6880342741293254,
           0.6732894691430449,
           0.6695205012161298,
           0.627971127480482,
           0.7321198563739828,
           0.7231497823254005,
           0.3945075048621421,
           0.5632701822657825,
           0.6888139160281237,
           0.6742911145290162,
           0.5694641303989507,
           0.6435897119834779,
           0.6255254291692939,
           1.0000000000000004,
           0.6835797096067532,
           0.6425964816261229
          ],
          [
           0.8797996387733493,
           0.7977555108906795,
           0.824379597783391,
           0.670234839313695,
           0.5910965922301762,
           0.8192182871516398,
           0.7232568208245617,
           0.7052612195160852,
           0.6384454236858957,
           0.6694871400500173,
           0.7305428664277205,
           0.7756985260976075,
           0.8037572927756841,
           0.806678535560748,
           0.8365410009886085,
           0.6974081844654487,
           0.8266641234609233,
           0.6735623855631072,
           0.624701570801848,
           0.8307770878231282,
           0.732135027687697,
           0.7427480832855786,
           0.685002036287188,
           0.8388804469272783,
           0.7178957186482824,
           0.643573060878058,
           0.8507333144073765,
           0.8019321800843742,
           0.8080656198226657,
           0.7321682093229952,
           0.6760691944628765,
           0.6727752680978354,
           0.6895382119239506,
           0.8173229029686376,
           0.6557781280035194,
           0.8237853278008012,
           0.6351201209026931,
           0.6761539367993749,
           0.6656612733492203,
           0.7764849301140375,
           0.8232536428124082,
           0.6392637006429966,
           0.7623289241304319,
           0.7195982305023882,
           0.7410894334801383,
           0.5464223916523219,
           0.7274328853903766,
           0.6656992877814545,
           0.8093483853539547,
           0.619478802867546,
           0.8432834308869832,
           0.8533153588206028,
           0.7518250885234923,
           0.4332253268370808,
           0.7359350925834196,
           0.8156553732451116,
           0.7611903916808447,
           0.6392213464796083,
           0.7459719145407893,
           0.5862266864775961,
           0.6835797096067532,
           0.9999999999999988,
           0.7509576173144172
          ],
          [
           0.7184727060693543,
           0.7529458206967319,
           0.7404983617959774,
           0.5585291478019733,
           0.6513326401626336,
           0.7376381850190772,
           0.6936657278507712,
           0.657965039403095,
           0.5999499655845102,
           0.6119318252251935,
           0.6516205956975509,
           0.5944990463373699,
           0.7060268435556925,
           0.7410182191612642,
           0.7723537553861604,
           0.6532246246332257,
           0.7536469146918553,
           0.7382272816303188,
           0.7627774190331451,
           0.7634405688197679,
           0.6769380314951565,
           0.6678598880436071,
           0.6292763217618784,
           0.7231528533054544,
           0.735795124394671,
           0.7274552248838106,
           0.7830993432059059,
           0.6752102827722172,
           0.6194295994054231,
           0.7009736228114507,
           0.6148908074843261,
           0.6060012837875473,
           0.6430673987655656,
           0.736949558827138,
           0.6696739992727612,
           0.7901431200310162,
           0.5999223044787804,
           0.596760306405919,
           0.6329886575370105,
           0.6661990329658223,
           0.7040407022075174,
           0.53428786060302,
           0.693793070007239,
           0.7166010029026162,
           0.7384570180606256,
           0.5446870629208866,
           0.76471683712079,
           0.7389159618627956,
           0.740365576218732,
           0.5920349602223178,
           0.673420914409468,
           0.7971024721182618,
           0.7683910273952949,
           0.5026847409413736,
           0.6328469696350493,
           0.8182925723616825,
           0.6838341530800232,
           0.6147665634922374,
           0.6372001012569081,
           0.5159045425174194,
           0.6425964816261229,
           0.7509576173144172,
           1.0000000000000004
          ]
         ]
        }
       ],
       "layout": {
        "coloraxis": {
         "colorbar": {
          "title": {
           "text": "Similarity Score"
          }
         },
         "colorscale": [
          [
           0,
           "rgb(247,252,240)"
          ],
          [
           0.125,
           "rgb(224,243,219)"
          ],
          [
           0.25,
           "rgb(204,235,197)"
          ],
          [
           0.375,
           "rgb(168,221,181)"
          ],
          [
           0.5,
           "rgb(123,204,196)"
          ],
          [
           0.625,
           "rgb(78,179,211)"
          ],
          [
           0.75,
           "rgb(43,140,190)"
          ],
          [
           0.875,
           "rgb(8,104,172)"
          ],
          [
           1,
           "rgb(8,64,129)"
          ]
         ]
        },
        "height": 800,
        "hoverlabel": {
         "bgcolor": "white",
         "font": {
          "family": "Rockwell",
          "size": 16
         }
        },
        "legend": {
         "title": {
          "text": "Trend"
         }
        },
        "margin": {
         "t": 60
        },
        "showlegend": true,
        "template": {
         "data": {
          "bar": [
           {
            "error_x": {
             "color": "#2a3f5f"
            },
            "error_y": {
             "color": "#2a3f5f"
            },
            "marker": {
             "line": {
              "color": "#E5ECF6",
              "width": 0.5
             },
             "pattern": {
              "fillmode": "overlay",
              "size": 10,
              "solidity": 0.2
             }
            },
            "type": "bar"
           }
          ],
          "barpolar": [
           {
            "marker": {
             "line": {
              "color": "#E5ECF6",
              "width": 0.5
             },
             "pattern": {
              "fillmode": "overlay",
              "size": 10,
              "solidity": 0.2
             }
            },
            "type": "barpolar"
           }
          ],
          "carpet": [
           {
            "aaxis": {
             "endlinecolor": "#2a3f5f",
             "gridcolor": "white",
             "linecolor": "white",
             "minorgridcolor": "white",
             "startlinecolor": "#2a3f5f"
            },
            "baxis": {
             "endlinecolor": "#2a3f5f",
             "gridcolor": "white",
             "linecolor": "white",
             "minorgridcolor": "white",
             "startlinecolor": "#2a3f5f"
            },
            "type": "carpet"
           }
          ],
          "choropleth": [
           {
            "colorbar": {
             "outlinewidth": 0,
             "ticks": ""
            },
            "type": "choropleth"
           }
          ],
          "contour": [
           {
            "colorbar": {
             "outlinewidth": 0,
             "ticks": ""
            },
            "colorscale": [
             [
              0,
              "#0d0887"
             ],
             [
              0.1111111111111111,
              "#46039f"
             ],
             [
              0.2222222222222222,
              "#7201a8"
             ],
             [
              0.3333333333333333,
              "#9c179e"
             ],
             [
              0.4444444444444444,
              "#bd3786"
             ],
             [
              0.5555555555555556,
              "#d8576b"
             ],
             [
              0.6666666666666666,
              "#ed7953"
             ],
             [
              0.7777777777777778,
              "#fb9f3a"
             ],
             [
              0.8888888888888888,
              "#fdca26"
             ],
             [
              1,
              "#f0f921"
             ]
            ],
            "type": "contour"
           }
          ],
          "contourcarpet": [
           {
            "colorbar": {
             "outlinewidth": 0,
             "ticks": ""
            },
            "type": "contourcarpet"
           }
          ],
          "heatmap": [
           {
            "colorbar": {
             "outlinewidth": 0,
             "ticks": ""
            },
            "colorscale": [
             [
              0,
              "#0d0887"
             ],
             [
              0.1111111111111111,
              "#46039f"
             ],
             [
              0.2222222222222222,
              "#7201a8"
             ],
             [
              0.3333333333333333,
              "#9c179e"
             ],
             [
              0.4444444444444444,
              "#bd3786"
             ],
             [
              0.5555555555555556,
              "#d8576b"
             ],
             [
              0.6666666666666666,
              "#ed7953"
             ],
             [
              0.7777777777777778,
              "#fb9f3a"
             ],
             [
              0.8888888888888888,
              "#fdca26"
             ],
             [
              1,
              "#f0f921"
             ]
            ],
            "type": "heatmap"
           }
          ],
          "heatmapgl": [
           {
            "colorbar": {
             "outlinewidth": 0,
             "ticks": ""
            },
            "colorscale": [
             [
              0,
              "#0d0887"
             ],
             [
              0.1111111111111111,
              "#46039f"
             ],
             [
              0.2222222222222222,
              "#7201a8"
             ],
             [
              0.3333333333333333,
              "#9c179e"
             ],
             [
              0.4444444444444444,
              "#bd3786"
             ],
             [
              0.5555555555555556,
              "#d8576b"
             ],
             [
              0.6666666666666666,
              "#ed7953"
             ],
             [
              0.7777777777777778,
              "#fb9f3a"
             ],
             [
              0.8888888888888888,
              "#fdca26"
             ],
             [
              1,
              "#f0f921"
             ]
            ],
            "type": "heatmapgl"
           }
          ],
          "histogram": [
           {
            "marker": {
             "pattern": {
              "fillmode": "overlay",
              "size": 10,
              "solidity": 0.2
             }
            },
            "type": "histogram"
           }
          ],
          "histogram2d": [
           {
            "colorbar": {
             "outlinewidth": 0,
             "ticks": ""
            },
            "colorscale": [
             [
              0,
              "#0d0887"
             ],
             [
              0.1111111111111111,
              "#46039f"
             ],
             [
              0.2222222222222222,
              "#7201a8"
             ],
             [
              0.3333333333333333,
              "#9c179e"
             ],
             [
              0.4444444444444444,
              "#bd3786"
             ],
             [
              0.5555555555555556,
              "#d8576b"
             ],
             [
              0.6666666666666666,
              "#ed7953"
             ],
             [
              0.7777777777777778,
              "#fb9f3a"
             ],
             [
              0.8888888888888888,
              "#fdca26"
             ],
             [
              1,
              "#f0f921"
             ]
            ],
            "type": "histogram2d"
           }
          ],
          "histogram2dcontour": [
           {
            "colorbar": {
             "outlinewidth": 0,
             "ticks": ""
            },
            "colorscale": [
             [
              0,
              "#0d0887"
             ],
             [
              0.1111111111111111,
              "#46039f"
             ],
             [
              0.2222222222222222,
              "#7201a8"
             ],
             [
              0.3333333333333333,
              "#9c179e"
             ],
             [
              0.4444444444444444,
              "#bd3786"
             ],
             [
              0.5555555555555556,
              "#d8576b"
             ],
             [
              0.6666666666666666,
              "#ed7953"
             ],
             [
              0.7777777777777778,
              "#fb9f3a"
             ],
             [
              0.8888888888888888,
              "#fdca26"
             ],
             [
              1,
              "#f0f921"
             ]
            ],
            "type": "histogram2dcontour"
           }
          ],
          "mesh3d": [
           {
            "colorbar": {
             "outlinewidth": 0,
             "ticks": ""
            },
            "type": "mesh3d"
           }
          ],
          "parcoords": [
           {
            "line": {
             "colorbar": {
              "outlinewidth": 0,
              "ticks": ""
             }
            },
            "type": "parcoords"
           }
          ],
          "pie": [
           {
            "automargin": true,
            "type": "pie"
           }
          ],
          "scatter": [
           {
            "fillpattern": {
             "fillmode": "overlay",
             "size": 10,
             "solidity": 0.2
            },
            "type": "scatter"
           }
          ],
          "scatter3d": [
           {
            "line": {
             "colorbar": {
              "outlinewidth": 0,
              "ticks": ""
             }
            },
            "marker": {
             "colorbar": {
              "outlinewidth": 0,
              "ticks": ""
             }
            },
            "type": "scatter3d"
           }
          ],
          "scattercarpet": [
           {
            "marker": {
             "colorbar": {
              "outlinewidth": 0,
              "ticks": ""
             }
            },
            "type": "scattercarpet"
           }
          ],
          "scattergeo": [
           {
            "marker": {
             "colorbar": {
              "outlinewidth": 0,
              "ticks": ""
             }
            },
            "type": "scattergeo"
           }
          ],
          "scattergl": [
           {
            "marker": {
             "colorbar": {
              "outlinewidth": 0,
              "ticks": ""
             }
            },
            "type": "scattergl"
           }
          ],
          "scattermapbox": [
           {
            "marker": {
             "colorbar": {
              "outlinewidth": 0,
              "ticks": ""
             }
            },
            "type": "scattermapbox"
           }
          ],
          "scatterpolar": [
           {
            "marker": {
             "colorbar": {
              "outlinewidth": 0,
              "ticks": ""
             }
            },
            "type": "scatterpolar"
           }
          ],
          "scatterpolargl": [
           {
            "marker": {
             "colorbar": {
              "outlinewidth": 0,
              "ticks": ""
             }
            },
            "type": "scatterpolargl"
           }
          ],
          "scatterternary": [
           {
            "marker": {
             "colorbar": {
              "outlinewidth": 0,
              "ticks": ""
             }
            },
            "type": "scatterternary"
           }
          ],
          "surface": [
           {
            "colorbar": {
             "outlinewidth": 0,
             "ticks": ""
            },
            "colorscale": [
             [
              0,
              "#0d0887"
             ],
             [
              0.1111111111111111,
              "#46039f"
             ],
             [
              0.2222222222222222,
              "#7201a8"
             ],
             [
              0.3333333333333333,
              "#9c179e"
             ],
             [
              0.4444444444444444,
              "#bd3786"
             ],
             [
              0.5555555555555556,
              "#d8576b"
             ],
             [
              0.6666666666666666,
              "#ed7953"
             ],
             [
              0.7777777777777778,
              "#fb9f3a"
             ],
             [
              0.8888888888888888,
              "#fdca26"
             ],
             [
              1,
              "#f0f921"
             ]
            ],
            "type": "surface"
           }
          ],
          "table": [
           {
            "cells": {
             "fill": {
              "color": "#EBF0F8"
             },
             "line": {
              "color": "white"
             }
            },
            "header": {
             "fill": {
              "color": "#C8D4E3"
             },
             "line": {
              "color": "white"
             }
            },
            "type": "table"
           }
          ]
         },
         "layout": {
          "annotationdefaults": {
           "arrowcolor": "#2a3f5f",
           "arrowhead": 0,
           "arrowwidth": 1
          },
          "autotypenumbers": "strict",
          "coloraxis": {
           "colorbar": {
            "outlinewidth": 0,
            "ticks": ""
           }
          },
          "colorscale": {
           "diverging": [
            [
             0,
             "#8e0152"
            ],
            [
             0.1,
             "#c51b7d"
            ],
            [
             0.2,
             "#de77ae"
            ],
            [
             0.3,
             "#f1b6da"
            ],
            [
             0.4,
             "#fde0ef"
            ],
            [
             0.5,
             "#f7f7f7"
            ],
            [
             0.6,
             "#e6f5d0"
            ],
            [
             0.7,
             "#b8e186"
            ],
            [
             0.8,
             "#7fbc41"
            ],
            [
             0.9,
             "#4d9221"
            ],
            [
             1,
             "#276419"
            ]
           ],
           "sequential": [
            [
             0,
             "#0d0887"
            ],
            [
             0.1111111111111111,
             "#46039f"
            ],
            [
             0.2222222222222222,
             "#7201a8"
            ],
            [
             0.3333333333333333,
             "#9c179e"
            ],
            [
             0.4444444444444444,
             "#bd3786"
            ],
            [
             0.5555555555555556,
             "#d8576b"
            ],
            [
             0.6666666666666666,
             "#ed7953"
            ],
            [
             0.7777777777777778,
             "#fb9f3a"
            ],
            [
             0.8888888888888888,
             "#fdca26"
            ],
            [
             1,
             "#f0f921"
            ]
           ],
           "sequentialminus": [
            [
             0,
             "#0d0887"
            ],
            [
             0.1111111111111111,
             "#46039f"
            ],
            [
             0.2222222222222222,
             "#7201a8"
            ],
            [
             0.3333333333333333,
             "#9c179e"
            ],
            [
             0.4444444444444444,
             "#bd3786"
            ],
            [
             0.5555555555555556,
             "#d8576b"
            ],
            [
             0.6666666666666666,
             "#ed7953"
            ],
            [
             0.7777777777777778,
             "#fb9f3a"
            ],
            [
             0.8888888888888888,
             "#fdca26"
            ],
            [
             1,
             "#f0f921"
            ]
           ]
          },
          "colorway": [
           "#636efa",
           "#EF553B",
           "#00cc96",
           "#ab63fa",
           "#FFA15A",
           "#19d3f3",
           "#FF6692",
           "#B6E880",
           "#FF97FF",
           "#FECB52"
          ],
          "font": {
           "color": "#2a3f5f"
          },
          "geo": {
           "bgcolor": "white",
           "lakecolor": "white",
           "landcolor": "#E5ECF6",
           "showlakes": true,
           "showland": true,
           "subunitcolor": "white"
          },
          "hoverlabel": {
           "align": "left"
          },
          "hovermode": "closest",
          "mapbox": {
           "style": "light"
          },
          "paper_bgcolor": "white",
          "plot_bgcolor": "#E5ECF6",
          "polar": {
           "angularaxis": {
            "gridcolor": "white",
            "linecolor": "white",
            "ticks": ""
           },
           "bgcolor": "#E5ECF6",
           "radialaxis": {
            "gridcolor": "white",
            "linecolor": "white",
            "ticks": ""
           }
          },
          "scene": {
           "xaxis": {
            "backgroundcolor": "#E5ECF6",
            "gridcolor": "white",
            "gridwidth": 2,
            "linecolor": "white",
            "showbackground": true,
            "ticks": "",
            "zerolinecolor": "white"
           },
           "yaxis": {
            "backgroundcolor": "#E5ECF6",
            "gridcolor": "white",
            "gridwidth": 2,
            "linecolor": "white",
            "showbackground": true,
            "ticks": "",
            "zerolinecolor": "white"
           },
           "zaxis": {
            "backgroundcolor": "#E5ECF6",
            "gridcolor": "white",
            "gridwidth": 2,
            "linecolor": "white",
            "showbackground": true,
            "ticks": "",
            "zerolinecolor": "white"
           }
          },
          "shapedefaults": {
           "line": {
            "color": "#2a3f5f"
           }
          },
          "ternary": {
           "aaxis": {
            "gridcolor": "white",
            "linecolor": "white",
            "ticks": ""
           },
           "baxis": {
            "gridcolor": "white",
            "linecolor": "white",
            "ticks": ""
           },
           "bgcolor": "#E5ECF6",
           "caxis": {
            "gridcolor": "white",
            "linecolor": "white",
            "ticks": ""
           }
          },
          "title": {
           "x": 0.05
          },
          "xaxis": {
           "automargin": true,
           "gridcolor": "white",
           "linecolor": "white",
           "ticks": "",
           "title": {
            "standoff": 15
           },
           "zerolinecolor": "white",
           "zerolinewidth": 2
          },
          "yaxis": {
           "automargin": true,
           "gridcolor": "white",
           "linecolor": "white",
           "ticks": "",
           "title": {
            "standoff": 15
           },
           "zerolinecolor": "white",
           "zerolinewidth": 2
          }
         }
        },
        "title": {
         "font": {
          "color": "Black",
          "size": 22
         },
         "text": "<b>Similarity Matrix",
         "x": 0.55,
         "xanchor": "center",
         "y": 0.95,
         "yanchor": "top"
        },
        "width": 800,
        "xaxis": {
         "anchor": "y",
         "constrain": "domain",
         "domain": [
          0,
          1
         ],
         "scaleanchor": "y"
        },
        "yaxis": {
         "anchor": "x",
         "autorange": "reversed",
         "constrain": "domain",
         "domain": [
          0,
          1
         ]
        }
       }
      }
     },
     "metadata": {},
     "output_type": "display_data"
    }
   ],
   "source": [
    "model.visualize_heatmap()\n"
   ]
  },
  {
   "cell_type": "code",
   "execution_count": 39,
   "metadata": {},
   "outputs": [
    {
     "name": "stderr",
     "output_type": "stream",
     "text": [
      "100%|██████████| 62/62 [00:00<00:00, 91.44it/s]\n"
     ]
    },
    {
     "data": {
      "application/vnd.plotly.v1+json": {
       "config": {
        "plotlyServerURL": "https://plot.ly"
       },
       "data": [
        {
         "hoverinfo": "text",
         "marker": {
          "color": "rgb(61,153,112)"
         },
         "mode": "lines",
         "text": [
          "1988_br_span_constituicao_1988 10",
          "",
          "",
          "1988_span_br_xmlns lx_lx http"
         ],
         "type": "scatter",
         "x": [
          0,
          0.27566806680723605,
          0.27566806680723605,
          0
         ],
         "xaxis": "x",
         "y": [
          -15,
          -15,
          -25,
          -25
         ],
         "yaxis": "y"
        },
        {
         "hoverinfo": "text",
         "marker": {
          "color": "rgb(61,153,112)"
         },
         "mode": "lines",
         "text": [
          "br_span_1988_lx_xmlns lx",
          "",
          "",
          "1988_span_br_constituicao_05"
         ],
         "type": "scatter",
         "x": [
          0.27566806680723605,
          0.3199718479227506,
          0.3199718479227506,
          0
         ],
         "xaxis": "x",
         "y": [
          -20,
          -20,
          -35,
          -35
         ],
         "yaxis": "y"
        },
        {
         "hoverinfo": "text",
         "marker": {
          "color": "rgb(0,116,217)"
         },
         "mode": "lines",
         "text": [
          "1988_br_span_constituicao_05 1988",
          "",
          "",
          "167_desta span_167 167_desta_art 167"
         ],
         "type": "scatter",
         "x": [
          0,
          1.0247876670257299,
          1.0247876670257299,
          0.3199718479227506
         ],
         "xaxis": "x",
         "y": [
          -5,
          -5,
          -27.5,
          -27.5
         ],
         "yaxis": "y"
        },
        {
         "hoverinfo": "text",
         "marker": {
          "color": "rgb(0,116,217)"
         },
         "mode": "lines",
         "text": [
          "eleicao_prefeito_governador_mandato_vice",
          "",
          "",
          "span_br_1988_constituicao_br federal"
         ],
         "type": "scatter",
         "x": [
          1.0247876670257299,
          1.3595301083950937,
          1.3595301083950937,
          0
         ],
         "xaxis": "x",
         "y": [
          -16.25,
          -16.25,
          -45,
          -45
         ],
         "yaxis": "y"
        },
        {
         "hoverinfo": "text",
         "marker": {
          "color": "rgb(0,116,217)"
         },
         "mode": "lines",
         "text": [
          "000_habitantes_mil habitantes_mil_vereadores municipios",
          "",
          "",
          "cento_subsidio_mil_habitantes subsidio_subsidio maximo"
         ],
         "type": "scatter",
         "x": [
          0,
          1.1379695558165026,
          1.1379695558165026,
          0
         ],
         "xaxis": "x",
         "y": [
          -55,
          -55,
          -65,
          -65
         ],
         "yaxis": "y"
        },
        {
         "hoverinfo": "text",
         "marker": {
          "color": "rgb(0,116,217)"
         },
         "mode": "lines",
         "text": [
          "impostos_distrito federal_distrito_municipios_arrecadacao impostos",
          "",
          "",
          "estados_distrito_distrito federal_estados distrito_municipios"
         ],
         "type": "scatter",
         "x": [
          0,
          1.2563441522582337,
          1.2563441522582337,
          0
         ],
         "xaxis": "x",
         "y": [
          -75,
          -75,
          -85,
          -85
         ],
         "yaxis": "y"
        },
        {
         "hoverinfo": "text",
         "marker": {
          "color": "rgb(0,116,217)"
         },
         "mode": "lines",
         "text": [
          "saude_sistema unico_unico saude_unico_agentes",
          "",
          "",
          "social_seguridade_seguridade social_assistencia social_assistencia"
         ],
         "type": "scatter",
         "x": [
          0,
          1.3596335873434442,
          1.3596335873434442,
          0
         ],
         "xaxis": "x",
         "y": [
          -95,
          -95,
          -105,
          -105
         ],
         "yaxis": "y"
        },
        {
         "hoverinfo": "text",
         "marker": {
          "color": "rgb(0,116,217)"
         },
         "mode": "lines",
         "text": [
          "estados_distrito federal_distrito_municipios_estados distrito",
          "",
          "",
          "social_seguridade_seguridade social_assistencia social_assistencia"
         ],
         "type": "scatter",
         "x": [
          1.3596335873434442,
          1.3978185191722698,
          1.3978185191722698,
          0
         ],
         "xaxis": "x",
         "y": [
          -100,
          -100,
          -115,
          -115
         ],
         "yaxis": "y"
        },
        {
         "hoverinfo": "text",
         "marker": {
          "color": "rgb(0,116,217)"
         },
         "mode": "lines",
         "text": [
          "sociais_pessoal encargos_contribuicoes_contribuicoes sociais_encargos",
          "",
          "",
          "caput_deste artigo_artigo_caput deste_deste"
         ],
         "type": "scatter",
         "x": [
          1.2563441522582337,
          1.4416937498343279,
          1.4416937498343279,
          1.3978185191722698
         ],
         "xaxis": "x",
         "y": [
          -80,
          -80,
          -107.5,
          -107.5
         ],
         "yaxis": "y"
        },
        {
         "hoverinfo": "text",
         "marker": {
          "color": "rgb(0,116,217)"
         },
         "mode": "lines",
         "text": [
          "orcamentarias_diretrizes orcamentarias_diretrizes_orcamentaria_plano plurianual",
          "",
          "",
          "nao_despesa_receita_nao podera_podera"
         ],
         "type": "scatter",
         "x": [
          0,
          1.2752821923024587,
          1.2752821923024587,
          0
         ],
         "xaxis": "x",
         "y": [
          -125,
          -125,
          -135,
          -135
         ],
         "yaxis": "y"
        },
        {
         "hoverinfo": "text",
         "marker": {
          "color": "rgb(0,116,217)"
         },
         "mode": "lines",
         "text": [
          "orcamentarias_diretrizes orcamentarias_diretrizes_nao_orcamentaria",
          "",
          "",
          "creditos_financeiro_exercicio financeiro_despesas_exercicio"
         ],
         "type": "scatter",
         "x": [
          1.4416937498343279,
          1.5070962813865656,
          1.5070962813865656,
          1.2752821923024587
         ],
         "xaxis": "x",
         "y": [
          -93.75,
          -93.75,
          -130,
          -130
         ],
         "yaxis": "y"
        },
        {
         "hoverinfo": "text",
         "marker": {
          "color": "rgb(0,116,217)"
         },
         "mode": "lines",
         "text": [
          "orcamentarias_diretrizes orcamentarias_diretrizes_nao_orcamentaria",
          "",
          "",
          "orcamentarias_creditos_diretrizes orcamentarias_diretrizes_nao"
         ],
         "type": "scatter",
         "x": [
          0,
          1.159611915455882,
          1.159611915455882,
          0
         ],
         "xaxis": "x",
         "y": [
          -145,
          -145,
          -155,
          -155
         ],
         "yaxis": "y"
        },
        {
         "hoverinfo": "text",
         "marker": {
          "color": "rgb(0,116,217)"
         },
         "mode": "lines",
         "text": [
          "estados_distrito_distrito federal_municipios_estados distrito",
          "",
          "",
          "orcamentarias_creditos_diretrizes orcamentarias_diretrizes_nao"
         ],
         "type": "scatter",
         "x": [
          1.159611915455882,
          1.2785824297317483,
          1.2785824297317483,
          0
         ],
         "xaxis": "x",
         "y": [
          -150,
          -150,
          -165,
          -165
         ],
         "yaxis": "y"
        },
        {
         "hoverinfo": "text",
         "marker": {
          "color": "rgb(0,116,217)"
         },
         "mode": "lines",
         "text": [
          "000_habitantes_mil_mil habitantes_vereadores",
          "",
          "",
          "orcamentarias_creditos_diretrizes orcamentarias_diretrizes_nao"
         ],
         "type": "scatter",
         "x": [
          1.5070962813865656,
          1.6074381051639874,
          1.6074381051639874,
          1.2785824297317483
         ],
         "xaxis": "x",
         "y": [
          -111.875,
          -111.875,
          -157.5,
          -157.5
         ],
         "yaxis": "y"
        },
        {
         "hoverinfo": "text",
         "marker": {
          "color": "rgb(0,116,217)"
         },
         "mode": "lines",
         "text": [
          "cargo_publico_provas_comissao_regime",
          "",
          "",
          "contribuicao_aposentadoria_previdencia social_previdencia_tempo"
         ],
         "type": "scatter",
         "x": [
          1.1379695558165026,
          1.6838713026409635,
          1.6838713026409635,
          1.6074381051639874
         ],
         "xaxis": "x",
         "y": [
          -60,
          -60,
          -134.6875,
          -134.6875
         ],
         "yaxis": "y"
        },
        {
         "hoverinfo": "text",
         "marker": {
          "color": "rgb(0,116,217)"
         },
         "mode": "lines",
         "text": [
          "cargo_emprego_trabalho_emprego funcao_aumento",
          "",
          "",
          "contribuicao_aposentadoria_previdencia_regime_previdencia social"
         ],
         "type": "scatter",
         "x": [
          0,
          1.0468567224206435,
          1.0468567224206435,
          0
         ],
         "xaxis": "x",
         "y": [
          -175,
          -175,
          -185,
          -185
         ],
         "yaxis": "y"
        },
        {
         "hoverinfo": "text",
         "marker": {
          "color": "rgb(0,116,217)"
         },
         "mode": "lines",
         "text": [
          "cargo_emprego_trabalho_emprego funcao_aumento",
          "",
          "",
          "salario_remuneracao_desemprego_salarios_minimo"
         ],
         "type": "scatter",
         "x": [
          0,
          1.2253382107851023,
          1.2253382107851023,
          0
         ],
         "xaxis": "x",
         "y": [
          -195,
          -195,
          -205,
          -205
         ],
         "yaxis": "y"
        },
        {
         "hoverinfo": "text",
         "marker": {
          "color": "rgb(0,116,217)"
         },
         "mode": "lines",
         "text": [
          "imposto_contribuinte_impostos_tributaria_sobre",
          "",
          "",
          "produtos_exterior_industrializados_produtos industrializados_sobre"
         ],
         "type": "scatter",
         "x": [
          1.0468567224206435,
          1.4504705510079186,
          1.4504705510079186,
          1.2253382107851023
         ],
         "xaxis": "x",
         "y": [
          -180,
          -180,
          -200,
          -200
         ],
         "yaxis": "y"
        },
        {
         "hoverinfo": "text",
         "marker": {
          "color": "rgb(0,116,217)"
         },
         "mode": "lines",
         "text": [
          "transporte_ilhas_fluviais_transportes_dominio",
          "",
          "",
          "petroleo_derivados_combustiveis_gas_gas natural"
         ],
         "type": "scatter",
         "x": [
          1.6838713026409635,
          1.6977082587089645,
          1.6977082587089645,
          1.4504705510079186
         ],
         "xaxis": "x",
         "y": [
          -97.34375,
          -97.34375,
          -190,
          -190
         ],
         "yaxis": "y"
        },
        {
         "hoverinfo": "text",
         "marker": {
          "color": "rgb(0,116,217)"
         },
         "mode": "lines",
         "text": [
          "imposto_sobre_produtos_exterior_contribuinte",
          "",
          "",
          "petroleo_derivados_combustiveis_gas_gas natural"
         ],
         "type": "scatter",
         "x": [
          0,
          1.2044012570226335,
          1.2044012570226335,
          0
         ],
         "xaxis": "x",
         "y": [
          -225,
          -225,
          -235,
          -235
         ],
         "yaxis": "y"
        },
        {
         "hoverinfo": "text",
         "marker": {
          "color": "rgb(0,116,217)"
         },
         "mode": "lines",
         "text": [
          "preso_transitada julgado_transitada_julgado_sentenca",
          "",
          "",
          "ninguem_ninguem sera_sera_lei_nao"
         ],
         "type": "scatter",
         "x": [
          1.2044012570226335,
          1.3071894112297993,
          1.3071894112297993,
          0
         ],
         "xaxis": "x",
         "y": [
          -230,
          -230,
          -245,
          -245
         ],
         "yaxis": "y"
        },
        {
         "hoverinfo": "text",
         "marker": {
          "color": "rgb(0,116,217)"
         },
         "mode": "lines",
         "text": [
          "dados_pessoais_dados pessoais_protecao_tratamento dados",
          "",
          "",
          "direitos_politicos_cidadania_individuais_cidadania direitos"
         ],
         "type": "scatter",
         "x": [
          0,
          1.3428598895872865,
          1.3428598895872865,
          1.3071894112297993
         ],
         "xaxis": "x",
         "y": [
          -215,
          -215,
          -237.5,
          -237.5
         ],
         "yaxis": "y"
        },
        {
         "hoverinfo": "text",
         "marker": {
          "color": "rgb(0,116,217)"
         },
         "mode": "lines",
         "text": [
          "nucleares_danos_civil danos_atividades nucleares_material moral",
          "",
          "",
          "meio ambiente_ambiente_minerais_meio_recursos"
         ],
         "type": "scatter",
         "x": [
          0,
          1.1603969973187063,
          1.1603969973187063,
          0
         ],
         "xaxis": "x",
         "y": [
          -255,
          -255,
          -265,
          -265
         ],
         "yaxis": "y"
        },
        {
         "hoverinfo": "text",
         "marker": {
          "color": "rgb(0,116,217)"
         },
         "mode": "lines",
         "text": [
          "nucleares_danos_civil danos_atividades nucleares_material moral",
          "",
          "",
          "meio ambiente_ambiente_minerais_meio_recursos"
         ],
         "type": "scatter",
         "x": [
          0,
          1.385910680734291,
          1.385910680734291,
          0
         ],
         "xaxis": "x",
         "y": [
          -275,
          -275,
          -285,
          -285
         ],
         "yaxis": "y"
        },
        {
         "hoverinfo": "text",
         "marker": {
          "color": "rgb(0,116,217)"
         },
         "mode": "lines",
         "text": [
          "causas_internacional_organismo_estrangeiro organismo_organismo internacional",
          "",
          "",
          "brasileira_brasileiros_brasileiro_brasil_federativa brasil"
         ],
         "type": "scatter",
         "x": [
          0,
          1.3319387191696967,
          1.3319387191696967,
          0
         ],
         "xaxis": "x",
         "y": [
          -295,
          -295,
          -305,
          -305
         ],
         "yaxis": "y"
        },
        {
         "hoverinfo": "text",
         "marker": {
          "color": "rgb(0,116,217)"
         },
         "mode": "lines",
         "text": [
          "sindical_sindicatos_associacao_categoria_uniao",
          "",
          "",
          "brasileira_brasileiros_brasileiro_brasil_federativa brasil"
         ],
         "type": "scatter",
         "x": [
          1.385910680734291,
          1.439856717399435,
          1.439856717399435,
          1.3319387191696967
         ],
         "xaxis": "x",
         "y": [
          -280,
          -280,
          -300,
          -300
         ],
         "yaxis": "y"
        },
        {
         "hoverinfo": "text",
         "marker": {
          "color": "rgb(0,116,217)"
         },
         "mode": "lines",
         "text": [
          "rural_propriedade_agraria_urbano_reforma agraria",
          "",
          "",
          "divida_servico divida_debitos_obrigacoes_parcelas"
         ],
         "type": "scatter",
         "x": [
          0,
          1.2644846031555572,
          1.2644846031555572,
          0
         ],
         "xaxis": "x",
         "y": [
          -315,
          -315,
          -325,
          -325
         ],
         "yaxis": "y"
        },
        {
         "hoverinfo": "text",
         "marker": {
          "color": "rgb(0,116,217)"
         },
         "mode": "lines",
         "text": [
          "ministerio publico_ministerio_organizacao_publico_defensoria publica",
          "",
          "",
          "credito_financeiras_instituicoes_banco central_banco"
         ],
         "type": "scatter",
         "x": [
          0,
          1.3611061695719395,
          1.3611061695719395,
          0
         ],
         "xaxis": "x",
         "y": [
          -345,
          -345,
          -355,
          -355
         ],
         "yaxis": "y"
        },
        {
         "hoverinfo": "text",
         "marker": {
          "color": "rgb(0,116,217)"
         },
         "mode": "lines",
         "text": [
          "politicas_descentralizacao_participacao_gestao_esfera",
          "",
          "",
          "credito_financeiras_instituicoes_banco central_banco"
         ],
         "type": "scatter",
         "x": [
          0,
          1.4135858894044728,
          1.4135858894044728,
          1.3611061695719395
         ],
         "xaxis": "x",
         "y": [
          -335,
          -335,
          -350,
          -350
         ],
         "yaxis": "y"
        },
        {
         "hoverinfo": "text",
         "marker": {
          "color": "rgb(0,116,217)"
         },
         "mode": "lines",
         "text": [
          "politicas_descentralizacao_participacao_gestao_esfera",
          "",
          "",
          "inconstitucionalidade_lei federal_providencias necessarias_lei_face"
         ],
         "type": "scatter",
         "x": [
          1.2644846031555572,
          1.4485218322299602,
          1.4485218322299602,
          1.4135858894044728
         ],
         "xaxis": "x",
         "y": [
          -320,
          -320,
          -342.5,
          -342.5
         ],
         "yaxis": "y"
        },
        {
         "hoverinfo": "text",
         "marker": {
          "color": "rgb(0,116,217)"
         },
         "mode": "lines",
         "text": [
          "politicas_descentralizacao_participacao_gestao_esfera",
          "",
          "",
          "inconstitucionalidade_lei federal_providencias necessarias_lei_face"
         ],
         "type": "scatter",
         "x": [
          1.439856717399435,
          1.4911834120896263,
          1.4911834120896263,
          1.4485218322299602
         ],
         "xaxis": "x",
         "y": [
          -290,
          -290,
          -331.25,
          -331.25
         ],
         "yaxis": "y"
        },
        {
         "hoverinfo": "text",
         "marker": {
          "color": "rgb(0,116,217)"
         },
         "mode": "lines",
         "text": [
          "politicas_descentralizacao_participacao_gestao_esfera",
          "",
          "",
          "inconstitucionalidade_lei federal_providencias necessarias_lei_face"
         ],
         "type": "scatter",
         "x": [
          0,
          1.2938532673001475,
          1.2938532673001475,
          0
         ],
         "xaxis": "x",
         "y": [
          -365,
          -365,
          -375,
          -375
         ],
         "yaxis": "y"
        },
        {
         "hoverinfo": "text",
         "marker": {
          "color": "rgb(0,116,217)"
         },
         "mode": "lines",
         "text": [
          "politicas_descentralizacao_participacao_gestao_esfera",
          "",
          "",
          "inconstitucionalidade_lei federal_providencias necessarias_lei_face"
         ],
         "type": "scatter",
         "x": [
          0,
          1.3578111391337087,
          1.3578111391337087,
          0
         ],
         "xaxis": "x",
         "y": [
          -385,
          -385,
          -395,
          -395
         ],
         "yaxis": "y"
        },
        {
         "hoverinfo": "text",
         "marker": {
          "color": "rgb(0,116,217)"
         },
         "mode": "lines",
         "text": [
          "sobre lei_lei_dispora sobre_dispora_hipoteses",
          "",
          "",
          "complementar cabe_cabe lei_lei complementar_complementar_cabe"
         ],
         "type": "scatter",
         "x": [
          1.2938532673001475,
          1.4818206631842432,
          1.4818206631842432,
          1.3578111391337087
         ],
         "xaxis": "x",
         "y": [
          -370,
          -370,
          -390,
          -390
         ],
         "yaxis": "y"
        },
        {
         "hoverinfo": "text",
         "marker": {
          "color": "rgb(0,116,217)"
         },
         "mode": "lines",
         "text": [
          "desde_resolucoes_sera reavaliada_juntas comerciais_complementar sera",
          "",
          "",
          "voto_secreto_voto secreto_eleitoral_votos"
         ],
         "type": "scatter",
         "x": [
          1.4911834120896263,
          1.5045054519395404,
          1.5045054519395404,
          1.4818206631842432
         ],
         "xaxis": "x",
         "y": [
          -310.625,
          -310.625,
          -380,
          -380
         ],
         "yaxis": "y"
        },
        {
         "hoverinfo": "text",
         "marker": {
          "color": "rgb(0,116,217)"
         },
         "mode": "lines",
         "text": [
          "cabe lei_complementar cabe_lei complementar_complementar_cabe",
          "",
          "",
          "voto_secreto_voto secreto_eleitoral_votos"
         ],
         "type": "scatter",
         "x": [
          0,
          1.2806749260949388,
          1.2806749260949388,
          0
         ],
         "xaxis": "x",
         "y": [
          -415,
          -415,
          -425,
          -425
         ],
         "yaxis": "y"
        },
        {
         "hoverinfo": "text",
         "marker": {
          "color": "rgb(0,116,217)"
         },
         "mode": "lines",
         "text": [
          "cabe lei_complementar cabe_lei complementar_complementar_cabe",
          "",
          "",
          "voto_secreto_voto secreto_eleitoral_votos"
         ],
         "type": "scatter",
         "x": [
          0,
          1.3385696011762864,
          1.3385696011762864,
          1.2806749260949388
         ],
         "xaxis": "x",
         "y": [
          -405,
          -405,
          -420,
          -420
         ],
         "yaxis": "y"
        },
        {
         "hoverinfo": "text",
         "marker": {
          "color": "rgb(0,116,217)"
         },
         "mode": "lines",
         "text": [
          "ninguem_sera_ninguem sera_preso_julgado",
          "",
          "",
          "voto_secreto_voto secreto_eleitoral_votos"
         ],
         "type": "scatter",
         "x": [
          0,
          1.301477034055701,
          1.301477034055701,
          0
         ],
         "xaxis": "x",
         "y": [
          -435,
          -435,
          -445,
          -445
         ],
         "yaxis": "y"
        },
        {
         "hoverinfo": "text",
         "marker": {
          "color": "rgb(0,116,217)"
         },
         "mode": "lines",
         "text": [
          "partido_partidario_fundo partidario_radio televisao_fundo",
          "",
          "",
          "radiodifusao_imagens_radio_televisao_emissoras"
         ],
         "type": "scatter",
         "x": [
          1.3385696011762864,
          1.4172544126500672,
          1.4172544126500672,
          1.301477034055701
         ],
         "xaxis": "x",
         "y": [
          -412.5,
          -412.5,
          -440,
          -440
         ],
         "yaxis": "y"
        },
        {
         "hoverinfo": "text",
         "marker": {
          "color": "rgb(0,116,217)"
         },
         "mode": "lines",
         "text": [
          "partido_partidario_fundo partidario_radio televisao_fundo",
          "",
          "",
          "radio_televisao_radio televisao_partido_partidario"
         ],
         "type": "scatter",
         "x": [
          0,
          1.3586707620488199,
          1.3586707620488199,
          0
         ],
         "xaxis": "x",
         "y": [
          -455,
          -455,
          -465,
          -465
         ],
         "yaxis": "y"
        },
        {
         "hoverinfo": "text",
         "marker": {
          "color": "rgb(0,116,217)"
         },
         "mode": "lines",
         "text": [
          "partido_partidario_fundo partidario_radio televisao_fundo",
          "",
          "",
          "radio_televisao_radio televisao_partido_partidario"
         ],
         "type": "scatter",
         "x": [
          0,
          1.3387561986497605,
          1.3387561986497605,
          0
         ],
         "xaxis": "x",
         "y": [
          -485,
          -485,
          -495,
          -495
         ],
         "yaxis": "y"
        },
        {
         "hoverinfo": "text",
         "marker": {
          "color": "rgb(0,116,217)"
         },
         "mode": "lines",
         "text": [
          "ensino_educacao_ensino fundamental_fundamental_atendimento",
          "",
          "",
          "profissionais_aperfeicoamento_cursos_ingresso_cursos oficiais"
         ],
         "type": "scatter",
         "x": [
          0,
          1.3782912191538357,
          1.3782912191538357,
          1.3387561986497605
         ],
         "xaxis": "x",
         "y": [
          -475,
          -475,
          -490,
          -490
         ],
         "yaxis": "y"
        },
        {
         "hoverinfo": "text",
         "marker": {
          "color": "rgb(0,116,217)"
         },
         "mode": "lines",
         "text": [
          "deficiencia_protecao_atendimento_adolescente_especializado",
          "",
          "",
          "profissionais_aperfeicoamento_cursos_ingresso_cursos oficiais"
         ],
         "type": "scatter",
         "x": [
          0,
          1.371047907586726,
          1.371047907586726,
          0
         ],
         "xaxis": "x",
         "y": [
          -505,
          -505,
          -515,
          -515
         ],
         "yaxis": "y"
        },
        {
         "hoverinfo": "text",
         "marker": {
          "color": "rgb(0,116,217)"
         },
         "mode": "lines",
         "text": [
          "desenvolvimento_planos_planos nacionais_nacionais regionais_regionais",
          "",
          "",
          "cultura_culturais_nacional cultura_producao_sistemas"
         ],
         "type": "scatter",
         "x": [
          1.371047907586726,
          1.3776140369841603,
          1.3776140369841603,
          0
         ],
         "xaxis": "x",
         "y": [
          -510,
          -510,
          -525,
          -525
         ],
         "yaxis": "y"
        },
        {
         "hoverinfo": "text",
         "marker": {
          "color": "rgb(0,116,217)"
         },
         "mode": "lines",
         "text": [
          "cultura_culturais_desenvolvimento_nacional cultura_nacional",
          "",
          "",
          "inovacao_tecnologia_pesquisa_desenvolvimento cientifico_tecnologica"
         ],
         "type": "scatter",
         "x": [
          1.3782912191538357,
          1.405780343687133,
          1.405780343687133,
          1.3776140369841603
         ],
         "xaxis": "x",
         "y": [
          -482.5,
          -482.5,
          -517.5,
          -517.5
         ],
         "yaxis": "y"
        },
        {
         "hoverinfo": "text",
         "marker": {
          "color": "rgb(0,116,217)"
         },
         "mode": "lines",
         "text": [
          "cultura_culturais_desenvolvimento_nacional cultura_nacional",
          "",
          "",
          "cultura_desenvolvimento_culturais_nacional cultura_nacional"
         ],
         "type": "scatter",
         "x": [
          1.3586707620488199,
          1.433239858032766,
          1.433239858032766,
          1.405780343687133
         ],
         "xaxis": "x",
         "y": [
          -460,
          -460,
          -500,
          -500
         ],
         "yaxis": "y"
        },
        {
         "hoverinfo": "text",
         "marker": {
          "color": "rgb(0,116,217)"
         },
         "mode": "lines",
         "text": [
          "cultura_culturais_desenvolvimento_nacional cultura_nacional",
          "",
          "",
          "cultura_desenvolvimento_culturais_nacional cultura_nacional"
         ],
         "type": "scatter",
         "x": [
          0,
          1.3056587896961458,
          1.3056587896961458,
          0
         ],
         "xaxis": "x",
         "y": [
          -535,
          -535,
          -545,
          -545
         ],
         "yaxis": "y"
        },
        {
         "hoverinfo": "text",
         "marker": {
          "color": "rgb(0,116,217)"
         },
         "mode": "lines",
         "text": [
          "cultura_culturais_desenvolvimento_nacional cultura_nacional",
          "",
          "",
          "cultura_desenvolvimento_culturais_nacional cultura_nacional"
         ],
         "type": "scatter",
         "x": [
          1.433239858032766,
          1.4639592018061214,
          1.4639592018061214,
          1.3056587896961458
         ],
         "xaxis": "x",
         "y": [
          -480,
          -480,
          -540,
          -540
         ],
         "yaxis": "y"
        },
        {
         "hoverinfo": "text",
         "marker": {
          "color": "rgb(0,116,217)"
         },
         "mode": "lines",
         "text": [
          "cultura_culturais_desenvolvimento_nacional cultura_nacional",
          "",
          "",
          "cultura_desenvolvimento_culturais_nacional cultura_nacional"
         ],
         "type": "scatter",
         "x": [
          1.4172544126500672,
          1.5309536887664885,
          1.5309536887664885,
          1.4639592018061214
         ],
         "xaxis": "x",
         "y": [
          -426.25,
          -426.25,
          -510,
          -510
         ],
         "yaxis": "y"
        },
        {
         "hoverinfo": "text",
         "marker": {
          "color": "rgb(0,116,217)"
         },
         "mode": "lines",
         "text": [
          "dentre brasileiros_ordem advogados_advogados brasil_advogados_brasil",
          "",
          "",
          "geral_procurador_procurador geral_republica_geral republica"
         ],
         "type": "scatter",
         "x": [
          1.5045054519395404,
          1.5899877743549078,
          1.5899877743549078,
          1.5309536887664885
         ],
         "xaxis": "x",
         "y": [
          -345.3125,
          -345.3125,
          -468.125,
          -468.125
         ],
         "yaxis": "y"
        },
        {
         "hoverinfo": "text",
         "marker": {
          "color": "rgb(0,116,217)"
         },
         "mode": "lines",
         "text": [
          "anos_anos idade_homem_mulher_idade",
          "",
          "",
          "nomeados_republica_geral_dentre_procurador geral"
         ],
         "type": "scatter",
         "x": [
          1.1603969973187063,
          1.60941970792144,
          1.60941970792144,
          1.5899877743549078
         ],
         "xaxis": "x",
         "y": [
          -260,
          -260,
          -406.71875,
          -406.71875
         ],
         "yaxis": "y"
        },
        {
         "hoverinfo": "text",
         "marker": {
          "color": "rgb(0,116,217)"
         },
         "mode": "lines",
         "text": [
          "presidente_senado federal_senado_camara deputados_presidente republica",
          "",
          "",
          "congresso nacional_congresso_dias_nacional_prazo"
         ],
         "type": "scatter",
         "x": [
          1.3428598895872865,
          1.688541118107336,
          1.688541118107336,
          1.60941970792144
         ],
         "xaxis": "x",
         "y": [
          -226.25,
          -226.25,
          -333.359375,
          -333.359375
         ],
         "yaxis": "y"
        },
        {
         "hoverinfo": "text",
         "marker": {
          "color": "rgb(0,116,217)"
         },
         "mode": "lines",
         "text": [
          "presidente_senado federal_senado_camara deputados_presidente republica",
          "",
          "",
          "defesa_estado defesa_estado_defesa nacional_nacional"
         ],
         "type": "scatter",
         "x": [
          1.6977082587089645,
          1.8967705068336163,
          1.8967705068336163,
          1.688541118107336
         ],
         "xaxis": "x",
         "y": [
          -143.671875,
          -143.671875,
          -279.8046875,
          -279.8046875
         ],
         "yaxis": "y"
        },
        {
         "hoverinfo": "text",
         "marker": {
          "color": "rgb(0,116,217)"
         },
         "mode": "lines",
         "text": [
          "presidente_senado federal_senado_camara deputados_presidente republica",
          "",
          "",
          "defesa_estado defesa_estado_defesa nacional_nacional"
         ],
         "type": "scatter",
         "x": [
          0,
          1.0667220517782148,
          1.0667220517782148,
          0
         ],
         "xaxis": "x",
         "y": [
          -565,
          -565,
          -575,
          -575
         ],
         "yaxis": "y"
        },
        {
         "hoverinfo": "text",
         "marker": {
          "color": "rgb(0,116,217)"
         },
         "mode": "lines",
         "text": [
          "policia_policias_militares_bombeiros_ferroviaria",
          "",
          "",
          "militares_militar_forcas armadas_armadas_forcas"
         ],
         "type": "scatter",
         "x": [
          0,
          1.1842433958155516,
          1.1842433958155516,
          1.0667220517782148
         ],
         "xaxis": "x",
         "y": [
          -555,
          -555,
          -570,
          -570
         ],
         "yaxis": "y"
        },
        {
         "hoverinfo": "text",
         "marker": {
          "color": "rgb(0,116,217)"
         },
         "mode": "lines",
         "text": [
          "justica_tribunais_regionais_juizes_tribunais regionais",
          "",
          "",
          "tribunal_juizes_tribunal justica_justica_superior"
         ],
         "type": "scatter",
         "x": [
          0,
          1.0300996319406943,
          1.0300996319406943,
          0
         ],
         "xaxis": "x",
         "y": [
          -585,
          -585,
          -595,
          -595
         ],
         "yaxis": "y"
        },
        {
         "hoverinfo": "text",
         "marker": {
          "color": "rgb(0,116,217)"
         },
         "mode": "lines",
         "text": [
          "tribunal_juizes_justica_tribunal justica_tribunais",
          "",
          "",
          "tribunal_dois_membros_dois tercos_tercos"
         ],
         "type": "scatter",
         "x": [
          0,
          1.2034566177921382,
          1.2034566177921382,
          0
         ],
         "xaxis": "x",
         "y": [
          -605,
          -605,
          -615,
          -615
         ],
         "yaxis": "y"
        },
        {
         "hoverinfo": "text",
         "marker": {
          "color": "rgb(0,116,217)"
         },
         "mode": "lines",
         "text": [
          "tribunal_juizes_justica_tribunais_tribunal justica",
          "",
          "",
          "habeas_corpus_habeas corpus_habeas data_mandado"
         ],
         "type": "scatter",
         "x": [
          1.2034566177921382,
          1.3411280897899434,
          1.3411280897899434,
          0
         ],
         "xaxis": "x",
         "y": [
          -610,
          -610,
          -625,
          -625
         ],
         "yaxis": "y"
        },
        {
         "hoverinfo": "text",
         "marker": {
          "color": "rgb(0,116,217)"
         },
         "mode": "lines",
         "text": [
          "militares_militar_policia_forcas_armadas",
          "",
          "",
          "habeas_corpus_habeas corpus_habeas data_mandado"
         ],
         "type": "scatter",
         "x": [
          1.0300996319406943,
          1.4755548682024484,
          1.4755548682024484,
          1.3411280897899434
         ],
         "xaxis": "x",
         "y": [
          -590,
          -590,
          -617.5,
          -617.5
         ],
         "yaxis": "y"
        },
        {
         "hoverinfo": "text",
         "marker": {
          "color": "rgb(0,116,217)"
         },
         "mode": "lines",
         "text": [
          "militares_militar_policia_forcas_armadas",
          "",
          "",
          "habeas_corpus_habeas corpus_habeas data_mandado"
         ],
         "type": "scatter",
         "x": [
          1.1842433958155516,
          1.6808250588611087,
          1.6808250588611087,
          1.4755548682024484
         ],
         "xaxis": "x",
         "y": [
          -562.5,
          -562.5,
          -603.75,
          -603.75
         ],
         "yaxis": "y"
        },
        {
         "hoverinfo": "text",
         "marker": {
          "color": "rgb(0,116,217)"
         },
         "mode": "lines",
         "text": [
          "militares_militar_policia_forcas_armadas",
          "",
          "",
          "habeas_corpus_habeas corpus_habeas data_mandado"
         ],
         "type": "scatter",
         "x": [
          1.8967705068336163,
          2.1434704565523797,
          2.1434704565523797,
          1.6808250588611087
         ],
         "xaxis": "x",
         "y": [
          -211.73828125,
          -211.73828125,
          -583.125,
          -583.125
         ],
         "yaxis": "y"
        },
        {
         "hoverinfo": "text",
         "marker": {
          "color": "rgb(0,116,217)"
         },
         "mode": "lines",
         "text": [
          "span_1988_br_constituicao_br federal",
          "",
          "",
          "habeas_corpus_habeas corpus_habeas data_mandado"
         ],
         "type": "scatter",
         "x": [
          1.3595301083950937,
          4.167536231801087,
          4.167536231801087,
          2.1434704565523797
         ],
         "xaxis": "x",
         "y": [
          -30.625,
          -30.625,
          -397.431640625,
          -397.431640625
         ],
         "yaxis": "y"
        },
        {
         "hoverinfo": "text",
         "hovertext": [
          "br_span_1988_lx_xmlns lx",
          "eleicao_prefeito_governador_mandato_vice",
          "estados_distrito federal_distrito_municipios_estados distrito",
          "sociais_pessoal encargos_contribuicoes_contribuicoes sociais_encargos",
          "orcamentarias_diretrizes orcamentarias_diretrizes_nao_orcamentaria",
          "estados_distrito_distrito federal_municipios_estados distrito",
          "000_habitantes_mil_mil habitantes_vereadores",
          "cargo_publico_provas_comissao_regime",
          "imposto_contribuinte_impostos_tributaria_sobre",
          "transporte_ilhas_fluviais_transportes_dominio",
          "preso_transitada julgado_transitada_julgado_sentenca",
          "sindical_sindicatos_associacao_categoria_uniao",
          "politicas_descentralizacao_participacao_gestao_esfera",
          "politicas_descentralizacao_participacao_gestao_esfera",
          "sobre lei_lei_dispora sobre_dispora_hipoteses",
          "desde_resolucoes_sera reavaliada_juntas comerciais_complementar sera",
          "partido_partidario_fundo partidario_radio televisao_fundo",
          "desenvolvimento_planos_planos nacionais_nacionais regionais_regionais",
          "cultura_culturais_desenvolvimento_nacional cultura_nacional",
          "cultura_culturais_desenvolvimento_nacional cultura_nacional",
          "cultura_culturais_desenvolvimento_nacional cultura_nacional",
          "cultura_culturais_desenvolvimento_nacional cultura_nacional",
          "dentre brasileiros_ordem advogados_advogados brasil_advogados_brasil",
          "anos_anos idade_homem_mulher_idade",
          "presidente_senado federal_senado_camara deputados_presidente republica",
          "presidente_senado federal_senado_camara deputados_presidente republica",
          "tribunal_juizes_justica_tribunais_tribunal justica",
          "militares_militar_policia_forcas_armadas",
          "militares_militar_policia_forcas_armadas",
          "militares_militar_policia_forcas_armadas",
          "span_1988_br_constituicao_br federal"
         ],
         "marker": {
          "color": "black"
         },
         "mode": "markers",
         "showlegend": false,
         "type": "scatter",
         "x": [
          0.27566806680723605,
          1.0247876670257299,
          1.3596335873434442,
          1.2563441522582337,
          1.4416937498343279,
          1.159611915455882,
          1.5070962813865656,
          1.1379695558165026,
          1.0468567224206435,
          1.6838713026409635,
          1.2044012570226335,
          1.385910680734291,
          1.2644846031555572,
          1.439856717399435,
          1.2938532673001475,
          1.4911834120896263,
          1.3385696011762864,
          1.371047907586726,
          1.3782912191538357,
          1.3586707620488199,
          1.433239858032766,
          1.4172544126500672,
          1.5045054519395404,
          1.1603969973187063,
          1.3428598895872865,
          1.6977082587089645,
          1.2034566177921382,
          1.0300996319406943,
          1.1842433958155516,
          1.8967705068336163,
          1.3595301083950937
         ],
         "y": [
          -20,
          -16.25,
          -100,
          -80,
          -93.75,
          -150,
          -111.875,
          -60,
          -180,
          -97.34375,
          -230,
          -280,
          -320,
          -290,
          -370,
          -310.625,
          -412.5,
          -510,
          -482.5,
          -460,
          -480,
          -426.25,
          -345.3125,
          -260,
          -226.25,
          -143.671875,
          -610,
          -590,
          -562.5,
          -211.73828125,
          -30.625
         ]
        },
        {
         "hoverinfo": "text",
         "hovertext": [
          "167_desta span_167 167_desta_art 167",
          "caput_deste artigo_artigo_caput deste_deste",
          "creditos_financeiro_exercicio financeiro_despesas_exercicio",
          "orcamentarias_creditos_diretrizes orcamentarias_diretrizes_nao",
          "contribuicao_aposentadoria_previdencia social_previdencia_tempo",
          "produtos_exterior_industrializados_produtos industrializados_sobre",
          "petroleo_derivados_combustiveis_gas_gas natural",
          "direitos_politicos_cidadania_individuais_cidadania direitos",
          "brasileira_brasileiros_brasileiro_brasil_federativa brasil",
          "credito_financeiras_instituicoes_banco central_banco",
          "inconstitucionalidade_lei federal_providencias necessarias_lei_face",
          "inconstitucionalidade_lei federal_providencias necessarias_lei_face",
          "complementar cabe_cabe lei_lei complementar_complementar_cabe",
          "voto_secreto_voto secreto_eleitoral_votos",
          "voto_secreto_voto secreto_eleitoral_votos",
          "radiodifusao_imagens_radio_televisao_emissoras",
          "profissionais_aperfeicoamento_cursos_ingresso_cursos oficiais",
          "inovacao_tecnologia_pesquisa_desenvolvimento cientifico_tecnologica",
          "cultura_desenvolvimento_culturais_nacional cultura_nacional",
          "cultura_desenvolvimento_culturais_nacional cultura_nacional",
          "cultura_desenvolvimento_culturais_nacional cultura_nacional",
          "geral_procurador_procurador geral_republica_geral republica",
          "nomeados_republica_geral_dentre_procurador geral",
          "congresso nacional_congresso_dias_nacional_prazo",
          "defesa_estado defesa_estado_defesa nacional_nacional",
          "militares_militar_forcas armadas_armadas_forcas",
          "habeas_corpus_habeas corpus_habeas data_mandado",
          "habeas_corpus_habeas corpus_habeas data_mandado",
          "habeas_corpus_habeas corpus_habeas data_mandado",
          "habeas_corpus_habeas corpus_habeas data_mandado"
         ],
         "marker": {
          "color": "black"
         },
         "mode": "markers",
         "showlegend": false,
         "type": "scatter",
         "x": [
          0.3199718479227506,
          1.3978185191722698,
          1.2752821923024587,
          1.2785824297317483,
          1.6074381051639874,
          1.2253382107851023,
          1.4504705510079186,
          1.3071894112297993,
          1.3319387191696967,
          1.3611061695719395,
          1.4135858894044728,
          1.4485218322299602,
          1.3578111391337087,
          1.4818206631842432,
          1.2806749260949388,
          1.301477034055701,
          1.3387561986497605,
          1.3776140369841603,
          1.405780343687133,
          1.3056587896961458,
          1.4639592018061214,
          1.5309536887664885,
          1.5899877743549078,
          1.60941970792144,
          1.688541118107336,
          1.0667220517782148,
          1.3411280897899434,
          1.4755548682024484,
          1.6808250588611087,
          2.1434704565523797
         ],
         "y": [
          -27.5,
          -107.5,
          -130,
          -157.5,
          -134.6875,
          -200,
          -190,
          -237.5,
          -300,
          -350,
          -342.5,
          -331.25,
          -390,
          -380,
          -420,
          -440,
          -490,
          -517.5,
          -500,
          -540,
          -510,
          -468.125,
          -406.71875,
          -333.359375,
          -279.8046875,
          -570,
          -617.5,
          -603.75,
          -583.125,
          -397.431640625
         ]
        }
       ],
       "layout": {
        "autosize": false,
        "height": 1145,
        "hoverlabel": {
         "bgcolor": "white",
         "font": {
          "family": "Rockwell",
          "size": 16
         }
        },
        "hovermode": "closest",
        "plot_bgcolor": "#ECEFF1",
        "showlegend": false,
        "template": {
         "data": {
          "bar": [
           {
            "error_x": {
             "color": "#2a3f5f"
            },
            "error_y": {
             "color": "#2a3f5f"
            },
            "marker": {
             "line": {
              "color": "white",
              "width": 0.5
             },
             "pattern": {
              "fillmode": "overlay",
              "size": 10,
              "solidity": 0.2
             }
            },
            "type": "bar"
           }
          ],
          "barpolar": [
           {
            "marker": {
             "line": {
              "color": "white",
              "width": 0.5
             },
             "pattern": {
              "fillmode": "overlay",
              "size": 10,
              "solidity": 0.2
             }
            },
            "type": "barpolar"
           }
          ],
          "carpet": [
           {
            "aaxis": {
             "endlinecolor": "#2a3f5f",
             "gridcolor": "#C8D4E3",
             "linecolor": "#C8D4E3",
             "minorgridcolor": "#C8D4E3",
             "startlinecolor": "#2a3f5f"
            },
            "baxis": {
             "endlinecolor": "#2a3f5f",
             "gridcolor": "#C8D4E3",
             "linecolor": "#C8D4E3",
             "minorgridcolor": "#C8D4E3",
             "startlinecolor": "#2a3f5f"
            },
            "type": "carpet"
           }
          ],
          "choropleth": [
           {
            "colorbar": {
             "outlinewidth": 0,
             "ticks": ""
            },
            "type": "choropleth"
           }
          ],
          "contour": [
           {
            "colorbar": {
             "outlinewidth": 0,
             "ticks": ""
            },
            "colorscale": [
             [
              0,
              "#0d0887"
             ],
             [
              0.1111111111111111,
              "#46039f"
             ],
             [
              0.2222222222222222,
              "#7201a8"
             ],
             [
              0.3333333333333333,
              "#9c179e"
             ],
             [
              0.4444444444444444,
              "#bd3786"
             ],
             [
              0.5555555555555556,
              "#d8576b"
             ],
             [
              0.6666666666666666,
              "#ed7953"
             ],
             [
              0.7777777777777778,
              "#fb9f3a"
             ],
             [
              0.8888888888888888,
              "#fdca26"
             ],
             [
              1,
              "#f0f921"
             ]
            ],
            "type": "contour"
           }
          ],
          "contourcarpet": [
           {
            "colorbar": {
             "outlinewidth": 0,
             "ticks": ""
            },
            "type": "contourcarpet"
           }
          ],
          "heatmap": [
           {
            "colorbar": {
             "outlinewidth": 0,
             "ticks": ""
            },
            "colorscale": [
             [
              0,
              "#0d0887"
             ],
             [
              0.1111111111111111,
              "#46039f"
             ],
             [
              0.2222222222222222,
              "#7201a8"
             ],
             [
              0.3333333333333333,
              "#9c179e"
             ],
             [
              0.4444444444444444,
              "#bd3786"
             ],
             [
              0.5555555555555556,
              "#d8576b"
             ],
             [
              0.6666666666666666,
              "#ed7953"
             ],
             [
              0.7777777777777778,
              "#fb9f3a"
             ],
             [
              0.8888888888888888,
              "#fdca26"
             ],
             [
              1,
              "#f0f921"
             ]
            ],
            "type": "heatmap"
           }
          ],
          "heatmapgl": [
           {
            "colorbar": {
             "outlinewidth": 0,
             "ticks": ""
            },
            "colorscale": [
             [
              0,
              "#0d0887"
             ],
             [
              0.1111111111111111,
              "#46039f"
             ],
             [
              0.2222222222222222,
              "#7201a8"
             ],
             [
              0.3333333333333333,
              "#9c179e"
             ],
             [
              0.4444444444444444,
              "#bd3786"
             ],
             [
              0.5555555555555556,
              "#d8576b"
             ],
             [
              0.6666666666666666,
              "#ed7953"
             ],
             [
              0.7777777777777778,
              "#fb9f3a"
             ],
             [
              0.8888888888888888,
              "#fdca26"
             ],
             [
              1,
              "#f0f921"
             ]
            ],
            "type": "heatmapgl"
           }
          ],
          "histogram": [
           {
            "marker": {
             "pattern": {
              "fillmode": "overlay",
              "size": 10,
              "solidity": 0.2
             }
            },
            "type": "histogram"
           }
          ],
          "histogram2d": [
           {
            "colorbar": {
             "outlinewidth": 0,
             "ticks": ""
            },
            "colorscale": [
             [
              0,
              "#0d0887"
             ],
             [
              0.1111111111111111,
              "#46039f"
             ],
             [
              0.2222222222222222,
              "#7201a8"
             ],
             [
              0.3333333333333333,
              "#9c179e"
             ],
             [
              0.4444444444444444,
              "#bd3786"
             ],
             [
              0.5555555555555556,
              "#d8576b"
             ],
             [
              0.6666666666666666,
              "#ed7953"
             ],
             [
              0.7777777777777778,
              "#fb9f3a"
             ],
             [
              0.8888888888888888,
              "#fdca26"
             ],
             [
              1,
              "#f0f921"
             ]
            ],
            "type": "histogram2d"
           }
          ],
          "histogram2dcontour": [
           {
            "colorbar": {
             "outlinewidth": 0,
             "ticks": ""
            },
            "colorscale": [
             [
              0,
              "#0d0887"
             ],
             [
              0.1111111111111111,
              "#46039f"
             ],
             [
              0.2222222222222222,
              "#7201a8"
             ],
             [
              0.3333333333333333,
              "#9c179e"
             ],
             [
              0.4444444444444444,
              "#bd3786"
             ],
             [
              0.5555555555555556,
              "#d8576b"
             ],
             [
              0.6666666666666666,
              "#ed7953"
             ],
             [
              0.7777777777777778,
              "#fb9f3a"
             ],
             [
              0.8888888888888888,
              "#fdca26"
             ],
             [
              1,
              "#f0f921"
             ]
            ],
            "type": "histogram2dcontour"
           }
          ],
          "mesh3d": [
           {
            "colorbar": {
             "outlinewidth": 0,
             "ticks": ""
            },
            "type": "mesh3d"
           }
          ],
          "parcoords": [
           {
            "line": {
             "colorbar": {
              "outlinewidth": 0,
              "ticks": ""
             }
            },
            "type": "parcoords"
           }
          ],
          "pie": [
           {
            "automargin": true,
            "type": "pie"
           }
          ],
          "scatter": [
           {
            "fillpattern": {
             "fillmode": "overlay",
             "size": 10,
             "solidity": 0.2
            },
            "type": "scatter"
           }
          ],
          "scatter3d": [
           {
            "line": {
             "colorbar": {
              "outlinewidth": 0,
              "ticks": ""
             }
            },
            "marker": {
             "colorbar": {
              "outlinewidth": 0,
              "ticks": ""
             }
            },
            "type": "scatter3d"
           }
          ],
          "scattercarpet": [
           {
            "marker": {
             "colorbar": {
              "outlinewidth": 0,
              "ticks": ""
             }
            },
            "type": "scattercarpet"
           }
          ],
          "scattergeo": [
           {
            "marker": {
             "colorbar": {
              "outlinewidth": 0,
              "ticks": ""
             }
            },
            "type": "scattergeo"
           }
          ],
          "scattergl": [
           {
            "marker": {
             "colorbar": {
              "outlinewidth": 0,
              "ticks": ""
             }
            },
            "type": "scattergl"
           }
          ],
          "scattermapbox": [
           {
            "marker": {
             "colorbar": {
              "outlinewidth": 0,
              "ticks": ""
             }
            },
            "type": "scattermapbox"
           }
          ],
          "scatterpolar": [
           {
            "marker": {
             "colorbar": {
              "outlinewidth": 0,
              "ticks": ""
             }
            },
            "type": "scatterpolar"
           }
          ],
          "scatterpolargl": [
           {
            "marker": {
             "colorbar": {
              "outlinewidth": 0,
              "ticks": ""
             }
            },
            "type": "scatterpolargl"
           }
          ],
          "scatterternary": [
           {
            "marker": {
             "colorbar": {
              "outlinewidth": 0,
              "ticks": ""
             }
            },
            "type": "scatterternary"
           }
          ],
          "surface": [
           {
            "colorbar": {
             "outlinewidth": 0,
             "ticks": ""
            },
            "colorscale": [
             [
              0,
              "#0d0887"
             ],
             [
              0.1111111111111111,
              "#46039f"
             ],
             [
              0.2222222222222222,
              "#7201a8"
             ],
             [
              0.3333333333333333,
              "#9c179e"
             ],
             [
              0.4444444444444444,
              "#bd3786"
             ],
             [
              0.5555555555555556,
              "#d8576b"
             ],
             [
              0.6666666666666666,
              "#ed7953"
             ],
             [
              0.7777777777777778,
              "#fb9f3a"
             ],
             [
              0.8888888888888888,
              "#fdca26"
             ],
             [
              1,
              "#f0f921"
             ]
            ],
            "type": "surface"
           }
          ],
          "table": [
           {
            "cells": {
             "fill": {
              "color": "#EBF0F8"
             },
             "line": {
              "color": "white"
             }
            },
            "header": {
             "fill": {
              "color": "#C8D4E3"
             },
             "line": {
              "color": "white"
             }
            },
            "type": "table"
           }
          ]
         },
         "layout": {
          "annotationdefaults": {
           "arrowcolor": "#2a3f5f",
           "arrowhead": 0,
           "arrowwidth": 1
          },
          "autotypenumbers": "strict",
          "coloraxis": {
           "colorbar": {
            "outlinewidth": 0,
            "ticks": ""
           }
          },
          "colorscale": {
           "diverging": [
            [
             0,
             "#8e0152"
            ],
            [
             0.1,
             "#c51b7d"
            ],
            [
             0.2,
             "#de77ae"
            ],
            [
             0.3,
             "#f1b6da"
            ],
            [
             0.4,
             "#fde0ef"
            ],
            [
             0.5,
             "#f7f7f7"
            ],
            [
             0.6,
             "#e6f5d0"
            ],
            [
             0.7,
             "#b8e186"
            ],
            [
             0.8,
             "#7fbc41"
            ],
            [
             0.9,
             "#4d9221"
            ],
            [
             1,
             "#276419"
            ]
           ],
           "sequential": [
            [
             0,
             "#0d0887"
            ],
            [
             0.1111111111111111,
             "#46039f"
            ],
            [
             0.2222222222222222,
             "#7201a8"
            ],
            [
             0.3333333333333333,
             "#9c179e"
            ],
            [
             0.4444444444444444,
             "#bd3786"
            ],
            [
             0.5555555555555556,
             "#d8576b"
            ],
            [
             0.6666666666666666,
             "#ed7953"
            ],
            [
             0.7777777777777778,
             "#fb9f3a"
            ],
            [
             0.8888888888888888,
             "#fdca26"
            ],
            [
             1,
             "#f0f921"
            ]
           ],
           "sequentialminus": [
            [
             0,
             "#0d0887"
            ],
            [
             0.1111111111111111,
             "#46039f"
            ],
            [
             0.2222222222222222,
             "#7201a8"
            ],
            [
             0.3333333333333333,
             "#9c179e"
            ],
            [
             0.4444444444444444,
             "#bd3786"
            ],
            [
             0.5555555555555556,
             "#d8576b"
            ],
            [
             0.6666666666666666,
             "#ed7953"
            ],
            [
             0.7777777777777778,
             "#fb9f3a"
            ],
            [
             0.8888888888888888,
             "#fdca26"
            ],
            [
             1,
             "#f0f921"
            ]
           ]
          },
          "colorway": [
           "#636efa",
           "#EF553B",
           "#00cc96",
           "#ab63fa",
           "#FFA15A",
           "#19d3f3",
           "#FF6692",
           "#B6E880",
           "#FF97FF",
           "#FECB52"
          ],
          "font": {
           "color": "#2a3f5f"
          },
          "geo": {
           "bgcolor": "white",
           "lakecolor": "white",
           "landcolor": "white",
           "showlakes": true,
           "showland": true,
           "subunitcolor": "#C8D4E3"
          },
          "hoverlabel": {
           "align": "left"
          },
          "hovermode": "closest",
          "mapbox": {
           "style": "light"
          },
          "paper_bgcolor": "white",
          "plot_bgcolor": "white",
          "polar": {
           "angularaxis": {
            "gridcolor": "#EBF0F8",
            "linecolor": "#EBF0F8",
            "ticks": ""
           },
           "bgcolor": "white",
           "radialaxis": {
            "gridcolor": "#EBF0F8",
            "linecolor": "#EBF0F8",
            "ticks": ""
           }
          },
          "scene": {
           "xaxis": {
            "backgroundcolor": "white",
            "gridcolor": "#DFE8F3",
            "gridwidth": 2,
            "linecolor": "#EBF0F8",
            "showbackground": true,
            "ticks": "",
            "zerolinecolor": "#EBF0F8"
           },
           "yaxis": {
            "backgroundcolor": "white",
            "gridcolor": "#DFE8F3",
            "gridwidth": 2,
            "linecolor": "#EBF0F8",
            "showbackground": true,
            "ticks": "",
            "zerolinecolor": "#EBF0F8"
           },
           "zaxis": {
            "backgroundcolor": "white",
            "gridcolor": "#DFE8F3",
            "gridwidth": 2,
            "linecolor": "#EBF0F8",
            "showbackground": true,
            "ticks": "",
            "zerolinecolor": "#EBF0F8"
           }
          },
          "shapedefaults": {
           "line": {
            "color": "#2a3f5f"
           }
          },
          "ternary": {
           "aaxis": {
            "gridcolor": "#DFE8F3",
            "linecolor": "#A2B1C6",
            "ticks": ""
           },
           "baxis": {
            "gridcolor": "#DFE8F3",
            "linecolor": "#A2B1C6",
            "ticks": ""
           },
           "bgcolor": "white",
           "caxis": {
            "gridcolor": "#DFE8F3",
            "linecolor": "#A2B1C6",
            "ticks": ""
           }
          },
          "title": {
           "x": 0.05
          },
          "xaxis": {
           "automargin": true,
           "gridcolor": "#EBF0F8",
           "linecolor": "#EBF0F8",
           "ticks": "",
           "title": {
            "standoff": 15
           },
           "zerolinecolor": "#EBF0F8",
           "zerolinewidth": 2
          },
          "yaxis": {
           "automargin": true,
           "gridcolor": "#EBF0F8",
           "linecolor": "#EBF0F8",
           "ticks": "",
           "title": {
            "standoff": 15
           },
           "zerolinecolor": "#EBF0F8",
           "zerolinewidth": 2
          }
         }
        },
        "title": {
         "font": {
          "color": "Black",
          "size": 22
         },
         "text": "<b>Hierarchical Clustering",
         "x": 0.5,
         "xanchor": "center",
         "yanchor": "top"
        },
        "width": 1000,
        "xaxis": {
         "mirror": "allticks",
         "rangemode": "tozero",
         "showgrid": false,
         "showline": true,
         "showticklabels": true,
         "ticks": "outside",
         "type": "linear",
         "zeroline": false
        },
        "yaxis": {
         "mirror": "allticks",
         "range": [
          -630,
          0
         ],
         "rangemode": "tozero",
         "showgrid": false,
         "showline": true,
         "showticklabels": true,
         "tickmode": "array",
         "ticks": "outside",
         "ticktext": [
          "40_167_desta span_167 167",
          "23_1988_span_br",
          "0_1988_br_span",
          "39_br_span_1988",
          "61_eleicao_prefeito_governa...",
          "16_000_habitantes_mil habit...",
          "30_cento_subsidio_mil",
          "20_imposto_contribuinte_imp...",
          "25_produtos_exterior_indust...",
          "24_transporte_ilhas_fluviais",
          "45_petroleo_derivados_combu...",
          "33_divida_servico divida_de...",
          "26_caput_deste artigo_artigo",
          "44_sociais_pessoal encargos...",
          "13_nao_despesa_receita",
          "21_orcamentarias_diretrizes...",
          "59_creditos_financeiro_exer...",
          "54_impostos_distrito federa...",
          "10_estados_distrito_distrit...",
          "52_saude_sistema unico_unic...",
          "43_social_seguridade_seguri...",
          "41_salario_remuneracao_dese...",
          "5_contribuicao_aposentadori...",
          "35_cargo_publico_provas",
          "9_cargo_emprego_trabalho",
          "31_policia_policias_militares",
          "8_militares_militar_forcas ...",
          "37_voto_secreto_voto secreto",
          "19_desde_resolucoes_sera re...",
          "56_complementar cabe_cabe l...",
          "51_sobre lei_lei_dispora so...",
          "27_preso_transitada julgado...",
          "14_ninguem_ninguem sera_sera",
          "49_habeas_corpus_habeas cor...",
          "32_direitos_politicos_cidad...",
          "60_dados_pessoais_dados pes...",
          "42_partido_partidario_fundo...",
          "57_radiodifusao_imagens_radio",
          "29_deficiencia_protecao_ate...",
          "50_anos_anos idade_homem",
          "47_inovacao_tecnologia_pesq...",
          "18_cultura_culturais_nacion...",
          "46_desenvolvimento_planos_p...",
          "7_ensino_educacao_ensino fu...",
          "58_profissionais_aperfeicoa...",
          "34_sindical_sindicatos_asso...",
          "62_causas_internacional_org...",
          "48_inconstitucionalidade_le...",
          "1_ministerio publico_minist...",
          "36_credito_financeiras_inst...",
          "55_politicas_descentralizac...",
          "6_rural_propriedade_agraria",
          "4_brasileira_brasileiros_br...",
          "17_meio ambiente_ambiente_m...",
          "53_nucleares_danos_civil da...",
          "12_tribunal_dois_membros",
          "3_tribunal_juizes_tribunal ...",
          "15_justica_tribunais_region...",
          "38_dentre brasileiros_ordem...",
          "28_geral_procurador_procura...",
          "11_presidente_senado federa...",
          "2_congresso nacional_congre...",
          "22_defesa_estado defesa_est..."
         ],
         "tickvals": [
          -5,
          -15,
          -25,
          -35,
          -45,
          -55,
          -65,
          -75,
          -85,
          -95,
          -105,
          -115,
          -125,
          -135,
          -145,
          -155,
          -165,
          -175,
          -185,
          -195,
          -205,
          -215,
          -225,
          -235,
          -245,
          -255,
          -265,
          -275,
          -285,
          -295,
          -305,
          -315,
          -325,
          -335,
          -345,
          -355,
          -365,
          -375,
          -385,
          -395,
          -405,
          -415,
          -425,
          -435,
          -445,
          -455,
          -465,
          -475,
          -485,
          -495,
          -505,
          -515,
          -525,
          -535,
          -545,
          -555,
          -565,
          -575,
          -585,
          -595,
          -605,
          -615,
          -625
         ],
         "type": "linear",
         "zeroline": false
        }
       }
      }
     },
     "metadata": {},
     "output_type": "display_data"
    }
   ],
   "source": [
    "from scipy.cluster import hierarchy as sch\n",
    "# Hierarchical topics\n",
    "linkage_function = lambda x: sch.linkage(x, 'single', optimal_ordering=True)\n",
    "hierarchical_topics = model.hierarchical_topics(docs, linkage_function=linkage_function)\n",
    "model.visualize_hierarchy(hierarchical_topics=hierarchical_topics)"
   ]
  },
  {
   "cell_type": "code",
   "execution_count": 40,
   "metadata": {},
   "outputs": [
    {
     "name": "stdout",
     "output_type": "stream",
     "text": [
      ".\n",
      "├─■──desde_resolucoes_sera reavaliada_juntas comerciais_complementar sera ── Topic: 19\n",
      "└─span_br_1988_federal_constituicao\n",
      "     ├─span_br_1988_federal_constituicao\n",
      "     │    ├─span_br_1988_federal_constituicao\n",
      "     │    │    ├─cabe lei_complementar cabe_lei complementar_complementar_cabe\n",
      "     │    │    │    ├─■──complementar cabe_cabe lei_lei complementar_complementar_cabe ── Topic: 56\n",
      "     │    │    │    └─■──sobre lei_lei_dispora sobre_dispora_hipoteses ── Topic: 51\n",
      "     │    │    └─span_br_1988_federal_constituicao\n",
      "     │    │         ├─span_br_1988_federal_constituicao\n",
      "     │    │         │    ├─span_br_1988_federal_constituicao\n",
      "     │    │         │    │    ├─radio_televisao_radio televisao_partido_partidario\n",
      "     │    │         │    │    │    ├─■──radiodifusao_imagens_radio_televisao_emissoras ── Topic: 57\n",
      "     │    │         │    │    │    └─■──partido_partidario_fundo partidario_radio televisao_fundo ── Topic: 42\n",
      "     │    │         │    │    └─span_br_1988_federal_constituicao\n",
      "     │    │         │    │         ├─■──rural_propriedade_agraria_urbano_reforma agraria ── Topic: 6\n",
      "     │    │         │    │         └─span_br_1988_federal_constituicao\n",
      "     │    │         │    │              ├─■──transporte_ilhas_fluviais_transportes_dominio ── Topic: 24\n",
      "     │    │         │    │              └─span_br_1988_federal_constituicao\n",
      "     │    │         │    │                   ├─span_br_1988_federal_constituicao\n",
      "     │    │         │    │                   │    ├─span_br_1988_federal_constituicao\n",
      "     │    │         │    │                   │    │    ├─cultura_desenvolvimento_culturais_nacional cultura_nacional\n",
      "     │    │         │    │                   │    │    │    ├─■──inovacao_tecnologia_pesquisa_desenvolvimento cientifico_tecnologica ── Topic: 47\n",
      "     │    │         │    │                   │    │    │    └─cultura_culturais_desenvolvimento_nacional cultura_nacional\n",
      "     │    │         │    │                   │    │    │         ├─■──cultura_culturais_nacional cultura_producao_sistemas ── Topic: 18\n",
      "     │    │         │    │                   │    │    │         └─■──desenvolvimento_planos_planos nacionais_nacionais regionais_regionais ── Topic: 46\n",
      "     │    │         │    │                   │    │    └─span_br_1988_federal_constituicao\n",
      "     │    │         │    │                   │    │         ├─span_br_1988_federal_constituicao\n",
      "     │    │         │    │                   │    │         │    ├─■──politicas_descentralizacao_participacao_gestao_esfera ── Topic: 55\n",
      "     │    │         │    │                   │    │         │    └─span_br_1988_federal_constituicao\n",
      "     │    │         │    │                   │    │         │         ├─span_br_1988_federal_constituicao\n",
      "     │    │         │    │                   │    │         │         │    ├─■──causas_internacional_organismo_estrangeiro organismo_organismo internacional ── Topic: 62\n",
      "     │    │         │    │                   │    │         │         │    └─span_br_1988_federal_constituicao\n",
      "     │    │         │    │                   │    │         │         │         ├─militares_militar_policia_forcas_armadas\n",
      "     │    │         │    │                   │    │         │         │         │    ├─■──policia_policias_militares_bombeiros_ferroviaria ── Topic: 31\n",
      "     │    │         │    │                   │    │         │         │         │    └─■──militares_militar_forcas armadas_armadas_forcas ── Topic: 8\n",
      "     │    │         │    │                   │    │         │         │         └─span_br_1988_federal_constituicao\n",
      "     │    │         │    │                   │    │         │         │              ├─span_br_1988_federal_constituicao\n",
      "     │    │         │    │                   │    │         │         │              │    ├─■──ensino_educacao_ensino fundamental_fundamental_atendimento ── Topic: 7\n",
      "     │    │         │    │                   │    │         │         │              │    └─span_br_1988_federal_constituicao\n",
      "     │    │         │    │                   │    │         │         │              │         ├─span_br_1988_federal_constituicao\n",
      "     │    │         │    │                   │    │         │         │              │         │    ├─000_habitantes_mil_mil habitantes_vereadores\n",
      "     │    │         │    │                   │    │         │         │              │         │    │    ├─■──000_habitantes_mil habitantes_mil_vereadores municipios ── Topic: 16\n",
      "     │    │         │    │                   │    │         │         │              │         │    │    └─■──cento_subsidio_mil_habitantes subsidio_subsidio maximo ── Topic: 30\n",
      "     │    │         │    │                   │    │         │         │              │         │    └─span_br_1988_federal_constituicao\n",
      "     │    │         │    │                   │    │         │         │              │         │         ├─span_br_1988_federal_constituicao\n",
      "     │    │         │    │                   │    │         │         │              │         │         │    ├─■──salario_remuneracao_desemprego_salarios_minimo ── Topic: 41\n",
      "     │    │         │    │                   │    │         │         │              │         │         │    └─span_br_1988_federal_constituicao\n",
      "     │    │         │    │                   │    │         │         │              │         │         │         ├─span_br_1988_federal_constituicao\n",
      "     │    │         │    │                   │    │         │         │              │         │         │         │    ├─span_br_1988_federal_constituicao\n",
      "     │    │         │    │                   │    │         │         │              │         │         │         │    │    ├─■──inconstitucionalidade_lei federal_providencias necessarias_lei_face ── Topic: 48\n",
      "     │    │         │    │                   │    │         │         │              │         │         │         │    │    └─span_br_1988_federal_constituicao\n",
      "     │    │         │    │                   │    │         │         │              │         │         │         │    │         ├─■──credito_financeiras_instituicoes_banco central_banco ── Topic: 36\n",
      "     │    │         │    │                   │    │         │         │              │         │         │         │    │         └─span_br_1988_federal_constituicao\n",
      "     │    │         │    │                   │    │         │         │              │         │         │         │    │              ├─span_br_1988_federal_constituicao\n",
      "     │    │         │    │                   │    │         │         │              │         │         │         │    │              │    ├─tribunal_presidente_juizes_justica_membros\n",
      "     │    │         │    │                   │    │         │         │              │         │         │         │    │              │    │    ├─tribunal_presidente_juizes_justica_anos\n",
      "     │    │         │    │                   │    │         │         │              │         │         │         │    │              │    │    │    ├─■──anos_anos idade_homem_mulher_idade ── Topic: 50\n",
      "     │    │         │    │                   │    │         │         │              │         │         │         │    │              │    │    │    └─tribunal_presidente_juizes_justica_congresso nacional\n",
      "     │    │         │    │                   │    │         │         │              │         │         │         │    │              │    │    │         ├─■──congresso nacional_congresso_dias_nacional_prazo ── Topic: 2\n",
      "     │    │         │    │                   │    │         │         │              │         │         │         │    │              │    │    │         └─tribunal_juizes_justica_presidente_tribunais\n",
      "     │    │         │    │                   │    │         │         │              │         │         │         │    │              │    │    │              ├─presidente_senado federal_republica_senado_presidente republica\n",
      "     │    │         │    │                   │    │         │         │              │         │         │         │    │              │    │    │              │    ├─■──presidente_senado federal_senado_camara deputados_presidente republica ── Topic: 11\n",
      "     │    │         │    │                   │    │         │         │              │         │         │         │    │              │    │    │              │    └─nomeados_republica_geral_dentre_procurador geral\n",
      "     │    │         │    │                   │    │         │         │              │         │         │         │    │              │    │    │              │         ├─■──geral_procurador_procurador geral_republica_geral republica ── Topic: 28\n",
      "     │    │         │    │                   │    │         │         │              │         │         │         │    │              │    │    │              │         └─■──dentre brasileiros_ordem advogados_advogados brasil_advogados_brasil ── Topic: 38\n",
      "     │    │         │    │                   │    │         │         │              │         │         │         │    │              │    │    │              └─tribunal_juizes_justica_tribunais_tribunal justica\n",
      "     │    │         │    │                   │    │         │         │              │         │         │         │    │              │    │    │                   ├─tribunal_juizes_justica_tribunal justica_tribunais\n",
      "     │    │         │    │                   │    │         │         │              │         │         │         │    │              │    │    │                   │    ├─■──justica_tribunais_regionais_juizes_tribunais regionais ── Topic: 15\n",
      "     │    │         │    │                   │    │         │         │              │         │         │         │    │              │    │    │                   │    └─■──tribunal_juizes_tribunal justica_justica_superior ── Topic: 3\n",
      "     │    │         │    │                   │    │         │         │              │         │         │         │    │              │    │    │                   └─■──tribunal_dois_membros_dois tercos_tercos ── Topic: 12\n",
      "     │    │         │    │                   │    │         │         │              │         │         │         │    │              │    │    └─■──ministerio publico_ministerio_organizacao_publico_defensoria publica ── Topic: 1\n",
      "     │    │         │    │                   │    │         │         │              │         │         │         │    │              │    └─span_br_1988_constituicao_br federal\n",
      "     │    │         │    │                   │    │         │         │              │         │         │         │    │              │         ├─span_1988_br_constituicao_br federal\n",
      "     │    │         │    │                   │    │         │         │              │         │         │         │    │              │         │    ├─■──cargo_emprego_trabalho_emprego funcao_aumento ── Topic: 9\n",
      "     │    │         │    │                   │    │         │         │              │         │         │         │    │              │         │    └─span_br_1988_constituicao_br federal\n",
      "     │    │         │    │                   │    │         │         │              │         │         │         │    │              │         │         ├─estados_contribuicao_social_distrito_distrito federal\n",
      "     │    │         │    │                   │    │         │         │              │         │         │         │    │              │         │         │    ├─contribuicao_aposentadoria_previdencia_regime_previdencia social\n",
      "     │    │         │    │                   │    │         │         │              │         │         │         │    │              │         │         │    │    ├─■──cargo_publico_provas_comissao_regime ── Topic: 35\n",
      "     │    │         │    │                   │    │         │         │              │         │         │         │    │              │         │         │    │    └─■──contribuicao_aposentadoria_previdencia social_previdencia_tempo ── Topic: 5\n",
      "     │    │         │    │                   │    │         │         │              │         │         │         │    │              │         │         │    └─estados_distrito_distrito federal_municipios_estados distrito\n",
      "     │    │         │    │                   │    │         │         │              │         │         │         │    │              │         │         │         ├─■──social_seguridade_seguridade social_assistencia social_assistencia ── Topic: 43\n",
      "     │    │         │    │                   │    │         │         │              │         │         │         │    │              │         │         │         └─estados_distrito federal_distrito_municipios_estados distrito\n",
      "     │    │         │    │                   │    │         │         │              │         │         │         │    │              │         │         │              ├─■──saude_sistema unico_unico saude_unico_agentes ── Topic: 52\n",
      "     │    │         │    │                   │    │         │         │              │         │         │         │    │              │         │         │              └─estados_distrito federal_distrito_municipios_estados distrito\n",
      "     │    │         │    │                   │    │         │         │              │         │         │         │    │              │         │         │                   ├─■──estados_distrito_distrito federal_estados distrito_municipios ── Topic: 10\n",
      "     │    │         │    │                   │    │         │         │              │         │         │         │    │              │         │         │                   └─■──impostos_distrito federal_distrito_municipios_arrecadacao impostos ── Topic: 54\n",
      "     │    │         │    │                   │    │         │         │              │         │         │         │    │              │         │         └─span_br_1988_constituicao_br federal\n",
      "     │    │         │    │                   │    │         │         │              │         │         │         │    │              │         │              ├─span_1988_br_constituicao_br federal\n",
      "     │    │         │    │                   │    │         │         │              │         │         │         │    │              │         │              │    ├─■──caput_deste artigo_artigo_caput deste_deste ── Topic: 26\n",
      "     │    │         │    │                   │    │         │         │              │         │         │         │    │              │         │              │    └─span_1988_br_constituicao_br federal\n",
      "     │    │         │    │                   │    │         │         │              │         │         │         │    │              │         │              │         ├─span_br_1988_constituicao_br federal\n",
      "     │    │         │    │                   │    │         │         │              │         │         │         │    │              │         │              │         │    ├─■──167_desta span_167 167_desta_art 167 ── Topic: 40\n",
      "     │    │         │    │                   │    │         │         │              │         │         │         │    │              │         │              │         │    └─1988_br_span_constituicao_05 1988\n",
      "     │    │         │    │                   │    │         │         │              │         │         │         │    │              │         │              │         │         ├─1988_span_br_constituicao_05\n",
      "     │    │         │    │                   │    │         │         │              │         │         │         │    │              │         │              │         │         │    ├─■──1988_span_br_xmlns lx_lx http ── Topic: 23\n",
      "     │    │         │    │                   │    │         │         │              │         │         │         │    │              │         │              │         │         │    └─■──1988_br_span_constituicao_1988 10 ── Topic: 0\n",
      "     │    │         │    │                   │    │         │         │              │         │         │         │    │              │         │              │         │         └─■──br_span_1988_lx_xmlns lx ── Topic: 39\n",
      "     │    │         │    │                   │    │         │         │              │         │         │         │    │              │         │              │         └─■──eleicao_prefeito_governador_mandato_vice ── Topic: 61\n",
      "     │    │         │    │                   │    │         │         │              │         │         │         │    │              │         │              └─■──divida_servico divida_debitos_obrigacoes_parcelas ── Topic: 33\n",
      "     │    │         │    │                   │    │         │         │              │         │         │         │    │              │         └─orcamentarias_creditos_diretrizes orcamentarias_diretrizes_nao\n",
      "     │    │         │    │                   │    │         │         │              │         │         │         │    │              │              ├─orcamentarias_diretrizes orcamentarias_diretrizes_nao_orcamentaria\n",
      "     │    │         │    │                   │    │         │         │              │         │         │         │    │              │              │    ├─■──orcamentarias_diretrizes orcamentarias_diretrizes_orcamentaria_plano plurianual ── Topic: 21\n",
      "     │    │         │    │                   │    │         │         │              │         │         │         │    │              │              │    └─■──nao_despesa_receita_nao podera_podera ── Topic: 13\n",
      "     │    │         │    │                   │    │         │         │              │         │         │         │    │              │              └─■──creditos_financeiro_exercicio financeiro_despesas_exercicio ── Topic: 59\n",
      "     │    │         │    │                   │    │         │         │              │         │         │         │    │              └─■──brasileira_brasileiros_brasileiro_brasil_federativa brasil ── Topic: 4\n",
      "     │    │         │    │                   │    │         │         │              │         │         │         │    └─■──sociais_pessoal encargos_contribuicoes_contribuicoes sociais_encargos ── Topic: 44\n",
      "     │    │         │    │                   │    │         │         │              │         │         │         └─■──petroleo_derivados_combustiveis_gas_gas natural ── Topic: 45\n",
      "     │    │         │    │                   │    │         │         │              │         │         └─imposto_sobre_produtos_exterior_contribuinte\n",
      "     │    │         │    │                   │    │         │         │              │         │              ├─■──imposto_contribuinte_impostos_tributaria_sobre ── Topic: 20\n",
      "     │    │         │    │                   │    │         │         │              │         │              └─■──produtos_exterior_industrializados_produtos industrializados_sobre ── Topic: 25\n",
      "     │    │         │    │                   │    │         │         │              │         └─■──defesa_estado defesa_estado_defesa nacional_nacional ── Topic: 22\n",
      "     │    │         │    │                   │    │         │         │              └─■──habeas_corpus_habeas corpus_habeas data_mandado ── Topic: 49\n",
      "     │    │         │    │                   │    │         │         └─■──profissionais_aperfeicoamento_cursos_ingresso_cursos oficiais ── Topic: 58\n",
      "     │    │         │    │                   │    │         └─■──voto_secreto_voto secreto_eleitoral_votos ── Topic: 37\n",
      "     │    │         │    │                   │    └─ninguem_sera_ninguem sera_preso_julgado\n",
      "     │    │         │    │                   │         ├─■──ninguem_ninguem sera_sera_lei_nao ── Topic: 14\n",
      "     │    │         │    │                   │         └─■──preso_transitada julgado_transitada_julgado_sentenca ── Topic: 27\n",
      "     │    │         │    │                   └─■──deficiencia_protecao_atendimento_adolescente_especializado ── Topic: 29\n",
      "     │    │         │    └─meio ambiente_ambiente_minerais_meio_recursos\n",
      "     │    │         │         ├─■──meio ambiente_ambiente_minerais_meio_recursos ── Topic: 17\n",
      "     │    │         │         └─■──nucleares_danos_civil danos_atividades nucleares_material moral ── Topic: 53\n",
      "     │    │         └─■──sindical_sindicatos_associacao_categoria_uniao ── Topic: 34\n",
      "     │    └─■──direitos_politicos_cidadania_individuais_cidadania direitos ── Topic: 32\n",
      "     └─■──dados_pessoais_dados pessoais_protecao_tratamento dados ── Topic: 60\n",
      "\n"
     ]
    }
   ],
   "source": [
    "tree = model.get_topic_tree(hierarchical_topics)\n",
    "print(tree)"
   ]
  }
 ],
 "metadata": {
  "kernelspec": {
   "display_name": "base",
   "language": "python",
   "name": "python3"
  },
  "language_info": {
   "codemirror_mode": {
    "name": "ipython",
    "version": 3
   },
   "file_extension": ".py",
   "mimetype": "text/x-python",
   "name": "python",
   "nbconvert_exporter": "python",
   "pygments_lexer": "ipython3",
   "version": "3.9.12"
  },
  "orig_nbformat": 4,
  "vscode": {
   "interpreter": {
    "hash": "a52db3aac503e911cfd9d0b6824ff5cd78e27c6e46eb034f376310311628b4ed"
   }
  }
 },
 "nbformat": 4,
 "nbformat_minor": 2
}
